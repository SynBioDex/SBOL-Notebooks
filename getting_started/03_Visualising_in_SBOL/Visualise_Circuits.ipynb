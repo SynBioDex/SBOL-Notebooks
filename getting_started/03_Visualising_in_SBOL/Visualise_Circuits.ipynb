{
 "cells": [
  {
   "cell_type": "markdown",
   "metadata": {},
   "source": [
    "# Visualizing Genetic Circuits: Creating Diagrams with SBOL Visual\n",
    "\n",
    "In this notebook, we will explore how to load a transcriptional unit from an RDF file, extract and order its components, and visualize the genetic circuit using two different libraries: `dnaplotlib` and `parasbolv`. We will also customize the visual output by defining specific styles for each type of genetic part, such as promoters, RBS, CDS, and terminators.\n"
   ]
  },
  {
   "cell_type": "code",
   "execution_count": 1,
   "metadata": {},
   "outputs": [],
   "source": [
    "# Setup\n",
    "# Install the necessary libraries\n",
    "# pip install sbol3 excel2sbol dnaplotlib parasbolv\n",
    "\n",
    "import sbol3\n",
    "import dnaplotlib as dpl\n",
    "import matplotlib.pyplot as plt\n",
    "import parasbolv as psv\n",
    "from collections import namedtuple\n",
    "from matplotlib import gridspec\n",
    "gs = gridspec.GridSpec(1, 1)"
   ]
  },
  {
   "cell_type": "markdown",
   "metadata": {},
   "source": [
    "### Importing Libraries\n",
    "\n",
    "- **sbol3**: The SBOL3 library allows us to handle and manipulate SBOL documents, which store genetic circuit information.\n",
    "- **matplotlib**: A widely used library for creating visualizations in Python.\n",
    "- **dnaplotlib**: A specialized library for visualizing DNA sequences and genetic circuits.\n",
    "- **parasbolv**: A light-weight library for visualizing DNA sequences and genetic circuits."
   ]
  },
  {
   "cell_type": "code",
   "execution_count": 2,
   "metadata": {},
   "outputs": [],
   "source": [
    "# Load the SBOL document from the RDF file\n",
    "doc = sbol3.Document()\n",
    "doc.read('transcriptional_unit.rdf')"
   ]
  },
  {
   "cell_type": "markdown",
   "metadata": {},
   "source": [
    "### Retrieving Ordered Components from a Transcriptional Unit\n",
    "\n",
    "This function, `get_ordered_components`, extracts the components in the correct sequential order from a transcriptional unit based on the constraints defined in the SBOL3 document. It does so by identifying the `SubComponent` instances within the transcriptional unit and resolving them to their corresponding `Component` objects using the `instance_of` property. The function ensures the correct order of components by traversing the \"meets\" relationships, which specify how one component follows another in the sequence.\n"
   ]
  },
  {
   "cell_type": "code",
   "execution_count": 3,
   "metadata": {},
   "outputs": [],
   "source": [
    "# Define the function to extract ordered components with orientation\n",
    "def get_ordered_components(doc, transcriptional_unit_id):\n",
    "\n",
    "    # Retrieve the transcriptional unit component\n",
    "    transcriptional_unit = doc.find(transcriptional_unit_id)\n",
    "    \n",
    "    # Create a dictionary to hold the order of components\n",
    "    order_map = {}\n",
    "    \n",
    "    # Populate the order_map based on the constraints\n",
    "    for constraint in transcriptional_unit.constraints:\n",
    "        if constraint.restriction == sbol3.SBOL_MEETS:  # Check if the constraint is a 'meets' relationship\n",
    "            subject = constraint.subject.lookup()\n",
    "            obj = constraint.object.lookup()\n",
    "            order_map[subject.display_id] = obj.display_id\n",
    "    \n",
    "    # Use the order_map to determine the order of components\n",
    "    ordered_components = []\n",
    "    \n",
    "    # Find the first component (one that is not in the object of any constraint)\n",
    "    first_subcomponent = None\n",
    "    for feature in transcriptional_unit.features:\n",
    "        if isinstance(feature, sbol3.SubComponent) and feature.display_id not in order_map.values():\n",
    "            first_subcomponent = feature\n",
    "            break\n",
    "    \n",
    "    # Traverse the map to get the ordered list of components\n",
    "    current_subcomponent = first_subcomponent\n",
    "    while current_subcomponent:\n",
    "        # Get the associated component from the instance_of property\n",
    "        component = current_subcomponent.instance_of.lookup()\n",
    "        ordered_components.append(component)\n",
    "        next_subcomponent_id = order_map.get(current_subcomponent.display_id)\n",
    "        current_subcomponent = transcriptional_unit.find(next_subcomponent_id) if next_subcomponent_id else None\n",
    "    \n",
    "    return ordered_components"
   ]
  },
  {
   "cell_type": "markdown",
   "metadata": {},
   "source": [
    "### Extracting and Ordering Components\n",
    "\n",
    "The transcriptional unit contains multiple genetic parts, such as promoters and CDS, which need to be ordered correctly to accurately represent the genetic circuit. We use a custom function to extract these components and determine their correct order based on the constraints defined in the SBOL document."
   ]
  },
  {
   "cell_type": "code",
   "execution_count": 4,
   "metadata": {},
   "outputs": [],
   "source": [
    "ordered_components = get_ordered_components(doc, 'https://github.com/SynBioDex/SBOL-Notebooks/TranscriptionalUnit1')"
   ]
  },
  {
   "cell_type": "markdown",
   "metadata": {},
   "source": [
    "# Styling to DNAplotlib Visual Elements\n",
    "\n",
    "We now create a helper function `get_dnaplotlib_part` that converts each SBOL3 `Component` into a DNAPlotlib Visual Element. Each visual element is a dictionary that has the following properties: \n",
    "- part type (`type`)\n",
    "- orientation (`fwd`)\n",
    "- styling options (`opts`)\n",
    "\n",
    "In this section - we'll use the default styling options in dnaplotlib.\n",
    "\n",
    "We then store these dictionaries in a `list` called `design`. "
   ]
  },
  {
   "cell_type": "code",
   "execution_count": 5,
   "metadata": {},
   "outputs": [],
   "source": [
    "\n",
    "# SBOL Type to DNAPlotlib Type Map:\n",
    "visual_type_map = {\n",
    "    sbol3.SO_PROMOTER: 'Promoter',\n",
    "    sbol3.SO_RBS: 'RBS',\n",
    "    sbol3.SO_CDS: 'CDS',\n",
    "    sbol3.SO_TERMINATOR: 'Terminator'\n",
    "}\n",
    "\n",
    "def get_dnaplotlib_part(component: sbol3.Component):\n",
    "    return {\n",
    "        'type': visual_type_map[component.roles[0]],\n",
    "        'fwd': True\n",
    "    }\n",
    "\n",
    "design = [get_dnaplotlib_part(x) for x in ordered_components]"
   ]
  },
  {
   "cell_type": "markdown",
   "metadata": {},
   "source": [
    "Next, we'll create a helper function `get_plot_from_design` that can convert a dnaplotlib `design` into a `.png` file."
   ]
  },
  {
   "cell_type": "code",
   "execution_count": 6,
   "metadata": {},
   "outputs": [],
   "source": [
    "def get_plot_from_design(design, filename):\n",
    "    fig = plt.figure(figsize=(1,0.3))\n",
    "    ax_dna = plt.subplot(gs[0])\n",
    "\n",
    "    # Create the DNAplotlib renderer\n",
    "    dr = dpl.DNARenderer()\n",
    "    dr.linewidth = 0.8\n",
    "\n",
    "    start, end = dr.renderDNA(ax_dna, design, dr.SBOL_part_renderers())\n",
    "    ax_dna.set_xlim([start, end])\n",
    "    ax_dna.set_ylim([-10,30.0])\n",
    "    ax_dna.set_aspect('equal')\n",
    "    ax_dna.axis('off')\n",
    "\n",
    "    fig.savefig(f'{filename}.png', dpi=300, transparent=True)\n",
    "    plt.close('all')"
   ]
  },
  {
   "cell_type": "code",
   "execution_count": 7,
   "metadata": {},
   "outputs": [],
   "source": [
    "get_plot_from_design(design, 'tu')"
   ]
  },
  {
   "cell_type": "markdown",
   "metadata": {},
   "source": [
    "### Adding Custom Properties and Styling to DNAplotlib Visual Elements\n",
    "\n",
    "In this section, we define a property map, `dpl_property_map`, that specifies custom styling options for each type of genetic part (e.g., promoters, RBS, CDS, terminators). These properties include line width, color, and other visual attributes, allowing us to customize the appearance of each part when rendering with DNAplotlib.\n",
    "\n",
    "We then define a helper function, `get_dnaplotlib_part_props`, which maps each SBOL component to its corresponding DNAplotlib properties based on its role. This function returns a dictionary with the part type, orientation, and styling options.\n",
    "\n",
    "Using this function, we generate a list of part properties for the ordered components and render the transcriptional unit with DNAplotlib, applying the specified styles. The final figure is saved as a PNG file with the specified custom styling."
   ]
  },
  {
   "cell_type": "code",
   "execution_count": 8,
   "metadata": {},
   "outputs": [],
   "source": [
    "dpl_property_map = {\n",
    "    sbol3.SO_PROMOTER: {'linewidth':0.8, 'color':'red', 'edge_color':(0.00, 0.00, 0.00), 'y_extent':9, 'x_extent':13, 'arrowhead_height':2, 'arrowhead_length':3},\n",
    "    sbol3.SO_RBS: {'linewidth':0.3, 'color':'black', 'edge_color':(0.00, 0.00, 0.00), 'x_extent':7, 'start_pad':1},\n",
    "    sbol3.SO_CDS: {'linewidth':0.2, 'color':'green', 'edge_color':(0.00, 0.00, 0.00), 'x_extent':14, 'y_extent':2.2,'arrowhead_height':2,'arrowhead_length':4},\n",
    "    sbol3.SO_TERMINATOR: {'linewidth':0.5, 'color':'black', 'edge_color':(0.00, 0.00, 0.00), 'x_extent':6, 'y_extent':6}\n",
    "}\n",
    "\n",
    "def get_dnaplotlib_part_props(component: sbol3.Component):\n",
    "    return {\n",
    "        'type': visual_type_map[component.roles[0]],\n",
    "        'fwd': True,\n",
    "        'opts': dpl_property_map[component.roles[0]]\n",
    "    }\n",
    "\n",
    "design_with_props = [get_dnaplotlib_part_props(x) for x in ordered_components]\n",
    "get_plot_from_design(design_with_props, 'tu_color')\n"
   ]
  },
  {
   "cell_type": "markdown",
   "metadata": {},
   "source": [
    "# Visualising using the ParaSBOLv library\n",
    "\n",
    "The ParaSBOLv allows users to use custom glyphs to create SBOL Visual diagrams. In this example, we've copied the default glyphs from the parasbolv library to this folder. You can modify the glyphs to see how your visual elements change using parasbolv."
   ]
  },
  {
   "cell_type": "code",
   "execution_count": 9,
   "metadata": {},
   "outputs": [],
   "source": [
    "# Initialize the Parasbolv renderer and load the glyphs library.\n",
    "renderer = psv.GlyphRenderer('glyphs')"
   ]
  },
  {
   "cell_type": "code",
   "execution_count": 12,
   "metadata": {},
   "outputs": [],
   "source": [
    "# We are creating a tuple to make it easier to store properties of visual glyphs.\n",
    "Part = namedtuple('part', ['glyph_type', 'orientation',  'user_parameters', 'style_parameters'])\n",
    "\n",
    "\n",
    "# SBOL Type to ParaSBOLv Type Map:\n",
    "visual_type_map = {\n",
    "    sbol3.SO_PROMOTER: 'Promoter',\n",
    "    sbol3.SO_RBS: 'RibosomeEntrySite',\n",
    "    sbol3.SO_CDS: 'CDS',\n",
    "    sbol3.SO_TERMINATOR: 'Terminator'\n",
    "}\n",
    "\n",
    "\n",
    "def get_psv_part(component: sbol3.Component):\n",
    "    \n",
    "    return Part(visual_type_map[component.roles[0]],\n",
    "                'forward',\n",
    "                None,\n",
    "                None)\n",
    "\n",
    "part_list = [get_psv_part(x) for x in ordered_components]\n",
    "\n",
    "construct = psv.Construct(part_list, renderer)\n",
    "fig, ax, baseline_start, baseline_end, bounds = construct.draw()\n",
    "ax.plot([baseline_start[0], baseline_end[0]], [baseline_start[1], baseline_end[1]], color=(0,0,0), linewidth=1.5, zorder=0)\n",
    "\n",
    "# Save the visualization as an image\n",
    "plt.savefig('tu_parasbolv.png', dpi=300, transparent=True)"
   ]
  },
  {
   "cell_type": "markdown",
   "metadata": {},
   "source": [
    "Like DNAplotlib, we can customise the visual properties of the glyphs. In this case, we'll make the CDS green with a blue outline."
   ]
  },
  {
   "cell_type": "code",
   "execution_count": 14,
   "metadata": {},
   "outputs": [],
   "source": [
    "psv_property_map = {\n",
    "    sbol3.SO_CDS: {'cds': {'facecolor': (0,1,0),\n",
    "                               'edgecolor': (0,0,1), 'linewidth': 2}}\n",
    "} \n",
    "\n",
    "def get_psv_part_props(component: sbol3.Component):\n",
    "    \n",
    "    return Part(visual_type_map[component.roles[0]],\n",
    "                'forward',\n",
    "                None,\n",
    "                psv_property_map.get(component.roles[0], None))\n",
    "\n",
    "part_list = [get_psv_part_props(x) for x in ordered_components]\n",
    "\n",
    "construct = psv.Construct(part_list, renderer)\n",
    "fig, ax, baseline_start, baseline_end, bounds = construct.draw()\n",
    "ax.plot([baseline_start[0], baseline_end[0]], [baseline_start[1], baseline_end[1]], color=(0,0,0), linewidth=1.5, zorder=0)\n",
    "\n",
    "# Save the visualization as an image\n",
    "plt.savefig('tu_parasbolv_color.png', dpi=300, transparent=True)"
   ]
  },
  {
   "cell_type": "markdown",
   "metadata": {},
   "source": [
    "### Conclusion\n",
    "\n",
    "In this notebook, we demonstrated how to load, analyze, and visualize a transcriptional unit using two powerful tools: DNAplotlib and Parasbolv. We began by loading an SBOL3 transcriptional unit from an RDF file, extracting and ordering its components based on the defined constraints. \n",
    "\n",
    "We then explored how to customize the visual representation of the genetic circuit using DNAplotlib, applying specific styles to each part to create a clear and informative diagram.\n",
    "\n",
    "Finally, we introduced Parasbolv as an alternative visualization tool that adheres closely to the SBOL Visual standard, offering a different aesthetic for representing genetic circuits. Both visualization methods provide valuable ways to interpret and present synthetic biology designs, making it easier to communicate complex genetic structures to a wide audience.\n",
    "\n",
    "This notebook showcases the flexibility and power of SBOL3 in combination with modern visualization tools, allowing users to create detailed, accurate, and visually appealing representations of their genetic circuits.\n"
   ]
  }
 ],
 "metadata": {
  "kernelspec": {
   "display_name": "sbol_env",
   "language": "python",
   "name": "python3"
  },
  "language_info": {
   "codemirror_mode": {
    "name": "ipython",
    "version": 3
   },
   "file_extension": ".py",
   "mimetype": "text/x-python",
   "name": "python",
   "nbconvert_exporter": "python",
   "pygments_lexer": "ipython3",
   "version": "3.11.6"
  }
 },
 "nbformat": 4,
 "nbformat_minor": 2
}
