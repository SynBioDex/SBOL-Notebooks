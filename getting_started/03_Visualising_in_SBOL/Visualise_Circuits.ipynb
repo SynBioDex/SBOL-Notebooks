{
 "cells": [
  {
   "cell_type": "markdown",
   "metadata": {},
   "source": [
    "# Visualizing Genetic Circuits: Creating Diagrams with SBOL Visual\n",
    "\n",
    "In this notebook, we will load the SBOL file created in the previous notebook and visualize the transcriptional unit using two different libraries: `dnaplotlib` and `parasbolv`.\n"
   ]
  },
  {
   "cell_type": "code",
   "execution_count": null,
   "metadata": {},
   "outputs": [],
   "source": [
    "# Setup\n",
    "# Install the necessary libraries\n",
    "# pip install sbol3 excel2sbol dnaplotlib parasbolv\n",
    "\n",
    "import sbol3\n",
    "import sbol_utilities.component as sbcomp\n",
    "import dnaplotlib as dpl\n",
    "import parasbolv as psv\n",
    "\n",
    "import matplotlib.pyplot as plt\n",
    "from matplotlib import gridspec\n",
    "\n",
    "gs = gridspec.GridSpec(1, 1)\n",
    "\n",
    "# Load the SBOL file\n",
    "rdf_file = \"transcriptional_unit.rdf\"\n"
   ]
  },
  {
   "cell_type": "code",
   "execution_count": null,
   "metadata": {},
   "outputs": [],
   "source": [
    "# Load the SBOL document from the RDF file\n",
    "doc = sbol3.Document()\n",
    "doc.read(rdf_file)"
   ]
  },
  {
   "cell_type": "markdown",
   "metadata": {},
   "source": [
    "### Retrieving Ordered Components from a Transcriptional Unit\n",
    "\n",
    "This function, `get_ordered_components`, extracts the components in the correct sequential order from a transcriptional unit based on the constraints defined in the SBOL3 document. It does so by identifying the `SubComponent` instances within the transcriptional unit and resolving them to their corresponding `Component` objects using the `instance_of` property. The function ensures the correct order of components by traversing the \"meets\" relationships, which specify how one component follows another in the sequence.\n"
   ]
  },
  {
   "cell_type": "code",
   "execution_count": null,
   "metadata": {},
   "outputs": [],
   "source": [
    "def get_ordered_components(doc, transcriptional_unit_id):\n",
    "\n",
    "    # Retrieve the transcriptional unit component\n",
    "    transcriptional_unit = doc.find(transcriptional_unit_id)\n",
    "    \n",
    "    # Create a dictionary to hold the order of components\n",
    "    order_map = {}\n",
    "    \n",
    "    # Populate the order_map based on the constraints\n",
    "    for constraint in transcriptional_unit.constraints:\n",
    "        if constraint.restriction == sbol3.SBOL_MEETS:  # Check if the constraint is a 'meets' relationship\n",
    "            subject = constraint.subject.lookup()\n",
    "            obj = constraint.object.lookup()\n",
    "            order_map[subject.display_id] = obj.display_id\n",
    "    \n",
    "    # Use the order_map to determine the order of components\n",
    "    ordered_components = []\n",
    "    \n",
    "    # Find the first component (one that is not in the object of any constraint)\n",
    "    first_subcomponent = None\n",
    "    for feature in transcriptional_unit.features:\n",
    "        if isinstance(feature, sbol3.SubComponent) and feature.display_id not in order_map.values():\n",
    "            first_subcomponent = feature\n",
    "            break\n",
    "    \n",
    "    # Traverse the map to get the ordered list of components\n",
    "    current_subcomponent = first_subcomponent\n",
    "    while current_subcomponent:\n",
    "        # Get the associated component from the instance_of property\n",
    "        component = current_subcomponent.instance_of.lookup()\n",
    "        ordered_components.append(component)\n",
    "        next_subcomponent_id = order_map.get(current_subcomponent.display_id)\n",
    "        current_subcomponent = transcriptional_unit.find(next_subcomponent_id) if next_subcomponent_id else None\n",
    "    \n",
    "    return ordered_components"
   ]
  },
  {
   "cell_type": "code",
   "execution_count": null,
   "metadata": {},
   "outputs": [],
   "source": [
    "ordered_components = get_ordered_components(doc, 'https://github.com/SynBioDex/SBOL-Notebooks/TranscriptionalUnit1')"
   ]
  },
  {
   "cell_type": "markdown",
   "metadata": {},
   "source": [
    "Now that we have an ordered list of DNA parts, we will visualise these components using 2 SBOL Visual Libraries"
   ]
  },
  {
   "cell_type": "code",
   "execution_count": null,
   "metadata": {},
   "outputs": [],
   "source": [
    "\n",
    "def get_plot_from_design(design, filename):\n",
    "    fig = plt.figure(figsize=(1,0.3))\n",
    "    ax_dna = plt.subplot(gs[0])\n",
    "\n",
    "    # Create the DNAplotlib renderer\n",
    "    dr = dpl.DNARenderer()\n",
    "    dr.linewidth = 0.8\n",
    "\n",
    "    start, end = dr.renderDNA(ax_dna, design, dr.SBOL_part_renderers())\n",
    "    ax_dna.set_xlim([start, end])\n",
    "    ax_dna.set_ylim([-10,30.0])\n",
    "    ax_dna.set_aspect('equal')\n",
    "    ax_dna.axis('off')\n",
    "\n",
    "    fig.savefig(f'{filename}.png', dpi=300, transparent=True)\n",
    "    plt.close('all')"
   ]
  },
  {
   "cell_type": "code",
   "execution_count": null,
   "metadata": {},
   "outputs": [],
   "source": [
    "# We will first write a simple helper function that will convert our SBOL Part into SBOL Visual Parts using DNAPlotlib\n",
    "\n",
    "# SBOL Type to DNAPlotlib Type Map:\n",
    "dpl_type_map = {\n",
    "    sbol3.SO_PROMOTER: 'Promoter',\n",
    "    sbol3.SO_RBS: 'RBS',\n",
    "    sbol3.SO_CDS: 'CDS',\n",
    "    sbol3.SO_TERMINATOR: 'Terminator'\n",
    "}\n",
    "\n",
    "def get_dnaplotlib_part(component: sbol3.Component):\n",
    "    return {\n",
    "        'type': dpl_type_map[component.roles[0]],\n",
    "        'fwd': True\n",
    "    }\n",
    "\n",
    "design = [get_dnaplotlib_part(x) for x in ordered_components]\n",
    "\n",
    "get_plot_from_design(design, 'tu')"
   ]
  },
  {
   "cell_type": "markdown",
   "metadata": {},
   "source": [
    "### Adding Custom Properties and Styling to DNAplotlib Visual Elements\n",
    "\n",
    "In this section, we define a property map, `dpl_property_map`, that specifies custom styling options for each type of genetic part (e.g., promoters, RBS, CDS, terminators). These properties include line width, color, and other visual attributes, allowing us to customize the appearance of each part when rendering with DNAplotlib.\n",
    "\n",
    "We then define a helper function, `get_dnaplotlib_part_props`, which maps each SBOL component to its corresponding DNAplotlib properties based on its role. This function returns a dictionary with the part type, orientation, and styling options.\n",
    "\n",
    "Using this function, we generate a list of part properties for the ordered components and render the transcriptional unit with DNAplotlib, applying the specified styles. The final figure is saved as a PNG file with the specified custom styling.\n"
   ]
  },
  {
   "cell_type": "code",
   "execution_count": null,
   "metadata": {},
   "outputs": [],
   "source": [
    "\n",
    "dpl_property_map = {\n",
    "    sbol3.SO_PROMOTER: {'linewidth':0.8, 'color':'red', 'edge_color':(0.00, 0.00, 0.00), 'y_extent':9, 'x_extent':13, 'arrowhead_height':2, 'arrowhead_length':3},\n",
    "    sbol3.SO_RBS: {'linewidth':0.3, 'color':'black', 'edge_color':(0.00, 0.00, 0.00), 'x_extent':7, 'start_pad':1},\n",
    "    sbol3.SO_CDS: {'linewidth':0.2, 'color':'green', 'edge_color':(0.00, 0.00, 0.00), 'x_extent':14, 'y_extent':2.2,'arrowhead_height':2,'arrowhead_length':4},\n",
    "    sbol3.SO_TERMINATOR: {'linewidth':0.5, 'color':'black', 'edge_color':(0.00, 0.00, 0.00), 'x_extent':6, 'y_extent':6}\n",
    "}\n",
    "\n",
    "def get_dnaplotlib_part_props(component: sbol3.Component):\n",
    "    return {\n",
    "        'type': dpl_type_map[component.roles[0]],\n",
    "        'fwd': True,\n",
    "        'opts': dpl_property_map[component.roles[0]]\n",
    "    }\n",
    "\n",
    "design = [get_dnaplotlib_part_props(x) for x in ordered_components]\n",
    "get_plot_from_design(design, 'tu_color')\n"
   ]
  }
 ],
 "metadata": {
  "kernelspec": {
   "display_name": "sbol_env",
   "language": "python",
   "name": "python3"
  },
  "language_info": {
   "codemirror_mode": {
    "name": "ipython",
    "version": 3
   },
   "file_extension": ".py",
   "mimetype": "text/x-python",
   "name": "python",
   "nbconvert_exporter": "python",
   "pygments_lexer": "ipython3",
   "version": "3.11.6"
  }
 },
 "nbformat": 4,
 "nbformat_minor": 2
}
