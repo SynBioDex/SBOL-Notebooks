{
 "cells": [
  {
   "cell_type": "markdown",
   "metadata": {},
   "source": [
    "# Introduction\n",
    "In this notebook, we will use the SBOL Utilities library to create a simple transcriptional unit and then export it to Excel using the sbol2excel library."
   ]
  },
  {
   "cell_type": "markdown",
   "metadata": {},
   "source": [
    "## Setting Up\n",
    "Before we start, ensure that you have the neccesary libraries installed. You can install it using pip:\n",
    "\n",
    "```\n",
    "pip install sbol3 sbol_utilities sbol2excel openpyxl tyto\n",
    "```\n",
    "\n",
    "Alternatively, you can also use the `install_latest_libraries.sh` script and load the 'sbol_env' virtual environment.\n",
    "\n",
    "Next, import the necessary modules:"
   ]
  },
  {
   "cell_type": "code",
   "execution_count": 1,
   "metadata": {},
   "outputs": [],
   "source": [
    "import tyto\n",
    "import sbol3\n",
    "import sbol_utilities.component as component_utils\n",
    "import sbol2excel.converter as s2econverter"
   ]
  },
  {
   "cell_type": "code",
   "execution_count": 2,
   "metadata": {},
   "outputs": [
    {
     "name": "stdout",
     "output_type": "stream",
     "text": [
      "transcriptional_unit.rdf\n"
     ]
    },
    {
     "name": "stderr",
     "output_type": "stream",
     "text": [
      "/Users/prash/dev/sbol/SBOL-Notebooks/sbol_env/lib/python3.11/site-packages/sbol2excel/sheet_methods.py:103: FutureWarning: Downcasting behavior in `replace` is deprecated and will be removed in a future version. To retain the old behavior, explicitly call `result.infer_objects(copy=False)`. To opt-in to the future behavior, set `pd.set_option('future.no_silent_downcasting', True)`\n",
      "  temp = df.loc[df['rdf:type'] == type].replace(r'^s*$', float('NaN'), regex = True)\n",
      "/Users/prash/dev/sbol/SBOL-Notebooks/sbol_env/lib/python3.11/site-packages/sbol2excel/sheet_methods.py:103: FutureWarning: Downcasting behavior in `replace` is deprecated and will be removed in a future version. To retain the old behavior, explicitly call `result.infer_objects(copy=False)`. To opt-in to the future behavior, set `pd.set_option('future.no_silent_downcasting', True)`\n",
      "  temp = df.loc[df['rdf:type'] == type].replace(r'^s*$', float('NaN'), regex = True)\n",
      "[WARNING] sheet_methods.py 143: Your converted file has been output at transcriptional_unit.xlsx\n"
     ]
    },
    {
     "name": "stdout",
     "output_type": "stream",
     "text": [
      "Transcriptional unit exported to transcriptional_unit.xlsx\n"
     ]
    }
   ],
   "source": [
    "\n",
    "# Set up the SBOL3 document and namespace\n",
    "sbol3.set_namespace('https://github.com/SynBioDex/SBOL-Notebooks')\n",
    "doc = sbol3.Document()\n",
    "\n",
    "# Creating a Transcriptional Unit with SBOL Utilities\n",
    "# We'll create a simple transcriptional unit consisting of a promoter, RBS, CDS, and terminator.\n",
    "\n",
    "\n",
    "# Create a promoter using SBOL Utilities\n",
    "promoter = component_utils.promoter('Promoter1', 'ttgacatgcatgcatgca')\n",
    "doc.add(promoter)\n",
    "\n",
    "# Create an RBS\n",
    "rbs = component_utils.rbs('RBS1', 'aggagga')\n",
    "doc.add(rbs)\n",
    "\n",
    "# Create a CDS\n",
    "cds = component_utils.cds('CDS1', 'atggctagctagctgact')\n",
    "doc.add(cds)\n",
    "\n",
    "# Create a terminator\n",
    "terminator = component_utils.terminator('Terminator1', 'ttactagtag')\n",
    "doc.add(terminator)\n",
    "\n",
    "# Assemble the transcriptional unit\n",
    "transcriptional_unit = sbol3.Component('TranscriptionalUnit1', sbol3.SBO_DNA)\n",
    "transcriptional_unit.name = 'Transcriptional Unit'\n",
    "transcriptional_unit.description = 'This is a simple transcriptional unit consisting of a Promoter, RBS, Coding Sequence, and Terminator'\n",
    "transcriptional_unit.roles.append(tyto.SO.engineered_region)\n",
    "doc.add(transcriptional_unit)\n",
    "\n",
    "\n",
    "\n",
    "# Exporting the Transcriptional Unit to Excel\n",
    "# Now we'll use the sbol2excel library to export the SBOL document to an Excel file.\n",
    "\n",
    "output_file_rdf = 'transcriptional_unit.rdf'\n",
    "doc.write(output_file_rdf)\n",
    "\n",
    "# Define the output Excel file name\n",
    "output_excel_file = 'transcriptional_unit.xlsx'\n",
    "\n",
    "# Export the SBOL document to Excel\n",
    "s2econverter.converter(output_file_rdf, output_excel_file)\n",
    "print(f'Transcriptional unit exported to {output_excel_file}')\n"
   ]
  },
  {
   "cell_type": "code",
   "execution_count": null,
   "metadata": {},
   "outputs": [],
   "source": []
  }
 ],
 "metadata": {
  "kernelspec": {
   "display_name": "sbol_env",
   "language": "python",
   "name": "python3"
  },
  "language_info": {
   "codemirror_mode": {
    "name": "ipython",
    "version": 3
   },
   "file_extension": ".py",
   "mimetype": "text/x-python",
   "name": "python",
   "nbconvert_exporter": "python",
   "pygments_lexer": "ipython3",
   "version": "3.11.6"
  }
 },
 "nbformat": 4,
 "nbformat_minor": 2
}
