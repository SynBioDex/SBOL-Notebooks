{
 "cells": [
  {
   "cell_type": "markdown",
   "metadata": {},
   "source": [
    "# Introduction\n",
    "In this notebook, we will use the SBOL Utilities library to create a simple transcriptional unit and then export it to Excel using the sbol2excel library.\n",
    "\n",
    "**SBOL Utilities** provides a set of high-level functions and helper tools that simplify common tasks in SBOL, such as creating standard genetic parts and assemblies, making it easier to work with SBOL data. In contrast, **pySBOL3** is the core library that offers comprehensive, low-level control for creating and manipulating SBOL data structures according to the SBOL 3 standard."
   ]
  },
  {
   "cell_type": "markdown",
   "metadata": {},
   "source": [
    "## Setting Up\n",
    "Before we start, ensure that you have the neccesary libraries installed. You can install it using pip:\n",
    "\n",
    "```\n",
    "pip install sbol3 sbol_utilities sbol2excel openpyxl tyto\n",
    "```\n",
    "\n",
    "Alternatively, you can also use the `install_latest_libraries.sh` script and load the 'sbol_env' virtual environment.\n",
    "\n",
    "Next, import the necessary modules:"
   ]
  },
  {
   "cell_type": "code",
   "execution_count": 17,
   "metadata": {},
   "outputs": [],
   "source": [
    "import tyto\n",
    "import sbol3\n",
    "import sbol_utilities.component as component_utils\n",
    "import sbol2excel.converter as s2econverter"
   ]
  },
  {
   "cell_type": "markdown",
   "metadata": {},
   "source": [
    "### Creating a Transcriptional Unit with helper functions in SBOL Utilities \n",
    "\n",
    "In this section, we use the SBOL Utilities library, which provides convenient helper functions to create standard genetic parts such as promoters, RBS, CDS, and terminators. These helper functions simplify the process by automatically generating both the component and its associated sequence.\n",
    "\n",
    "You can add these parts to an SBOL document in different ways: either by directly adding them in a single step or by creating the component first and then adding it separately. In either case, the functions return both the component and the sequence, allowing you to easily manage and manipulate your genetic designs."
   ]
  },
  {
   "cell_type": "code",
   "execution_count": 21,
   "metadata": {},
   "outputs": [
    {
     "name": "stdout",
     "output_type": "stream",
     "text": [
      "Component.....................4\n",
      "Sequence......................4\n",
      "---\n",
      "Total: .........................8\n",
      "\n"
     ]
    }
   ],
   "source": [
    "# Set up the SBOL3 document and namespace\n",
    "sbol3.set_namespace('https://github.com/SynBioDex/SBOL-Notebooks')\n",
    "doc = sbol3.Document()\n",
    "\n",
    "# Creating a Transcriptional Unit with SBOL Utilities\n",
    "\n",
    "# Create a promoter using SBOL Utilities\n",
    "promoter, promoter_sequence = doc.add(component_utils.promoter('Promoter1', 'ttgacatgcatgcatgca'))\n",
    "\n",
    "# Create an RBS\n",
    "rbs, rbs_sequence = doc.add(component_utils.rbs('RBS1', 'aggagga'))\n",
    "\n",
    "# Create a CDS\n",
    "cds, cds_sequence = doc.add(component_utils.cds('CDS1', 'atggctagctagctgact'))\n",
    "\n",
    "# Create a terminator\n",
    "terminator, terminator_sequence = component_utils.terminator('Terminator1', 'ttactagtag')\n",
    "doc.add(terminator)\n",
    "doc.add(terminator_sequence)\n",
    "\n",
    "print(doc)"
   ]
  },
  {
   "cell_type": "markdown",
   "metadata": {},
   "source": [
    "### Assembling the Transcriptional Unit\n",
    "\n",
    "After creating the individual genetic parts (promoter, RBS, CDS, terminator), we assemble them into a transcriptional unit. In SBOL, a transcriptional unit is represented as a `Component` with a specific role, in this case, an engineered region.\n",
    "\n",
    "The helper function `order` from SBOL Utilities is used to define the sequence in which these parts are arranged within the transcriptional unit. This ensures that the promoter, RBS, CDS, and terminator are correctly ordered, reflecting the logical flow of genetic information in the design. Finally, the transcriptional unit is added to the SBOL document for further use or export.\n"
   ]
  },
  {
   "cell_type": "code",
   "execution_count": 22,
   "metadata": {},
   "outputs": [
    {
     "name": "stdout",
     "output_type": "stream",
     "text": [
      "Component.....................5\n",
      "Sequence......................4\n",
      "---\n",
      "Total: .........................9\n",
      "\n"
     ]
    }
   ],
   "source": [
    "\n",
    "# Assemble the transcriptional unit\n",
    "transcriptional_unit = sbol3.Component('TranscriptionalUnit1', sbol3.SBO_DNA)\n",
    "transcriptional_unit.name = 'Transcriptional Unit'\n",
    "transcriptional_unit.description = 'This is a simple transcriptional unit consisting of a Promoter, RBS, Coding Sequence, and Terminator'\n",
    "transcriptional_unit.roles.append(tyto.SO.engineered_region)\n",
    "doc.add(transcriptional_unit)\n",
    "\n",
    "\n",
    "# Order the components\n",
    "# The `order` function ensures that the 5' feature (e.g., Promoter) is correctly placed before the 3' feature (e.g., RBS) in the sequence.\n",
    "component_utils.order(promoter, rbs, transcriptional_unit)\n",
    "component_utils.order(rbs, cds, transcriptional_unit)\n",
    "component_utils.order(cds, terminator, transcriptional_unit)\n",
    "\n",
    "print(doc)"
   ]
  },
  {
   "cell_type": "markdown",
   "metadata": {},
   "source": [
    "# Exporting the Transcriptional Unit to Excel\n",
    "Now we'll use the sbol2excel library to export the SBOL document to an Excel file."
   ]
  },
  {
   "cell_type": "code",
   "execution_count": 24,
   "metadata": {},
   "outputs": [
    {
     "name": "stdout",
     "output_type": "stream",
     "text": [
      "transcriptional_unit.rdf\n"
     ]
    },
    {
     "name": "stderr",
     "output_type": "stream",
     "text": [
      "/Users/prash/dev/sbol/SBOL-Notebooks/sbol_env/lib/python3.11/site-packages/sbol2excel/sheet_methods.py:103: FutureWarning: Downcasting behavior in `replace` is deprecated and will be removed in a future version. To retain the old behavior, explicitly call `result.infer_objects(copy=False)`. To opt-in to the future behavior, set `pd.set_option('future.no_silent_downcasting', True)`\n",
      "  temp = df.loc[df['rdf:type'] == type].replace(r'^s*$', float('NaN'), regex = True)\n",
      "/Users/prash/dev/sbol/SBOL-Notebooks/sbol_env/lib/python3.11/site-packages/sbol2excel/sheet_methods.py:103: FutureWarning: Downcasting behavior in `replace` is deprecated and will be removed in a future version. To retain the old behavior, explicitly call `result.infer_objects(copy=False)`. To opt-in to the future behavior, set `pd.set_option('future.no_silent_downcasting', True)`\n",
      "  temp = df.loc[df['rdf:type'] == type].replace(r'^s*$', float('NaN'), regex = True)\n",
      "/Users/prash/dev/sbol/SBOL-Notebooks/sbol_env/lib/python3.11/site-packages/sbol2excel/sheet_methods.py:103: FutureWarning: Downcasting behavior in `replace` is deprecated and will be removed in a future version. To retain the old behavior, explicitly call `result.infer_objects(copy=False)`. To opt-in to the future behavior, set `pd.set_option('future.no_silent_downcasting', True)`\n",
      "  temp = df.loc[df['rdf:type'] == type].replace(r'^s*$', float('NaN'), regex = True)\n",
      "/Users/prash/dev/sbol/SBOL-Notebooks/sbol_env/lib/python3.11/site-packages/sbol2excel/sheet_methods.py:103: FutureWarning: Downcasting behavior in `replace` is deprecated and will be removed in a future version. To retain the old behavior, explicitly call `result.infer_objects(copy=False)`. To opt-in to the future behavior, set `pd.set_option('future.no_silent_downcasting', True)`\n",
      "  temp = df.loc[df['rdf:type'] == type].replace(r'^s*$', float('NaN'), regex = True)\n",
      "[WARNING] sheet_methods.py 143: Your converted file has been output at transcriptional_unit.xlsx\n"
     ]
    },
    {
     "name": "stdout",
     "output_type": "stream",
     "text": [
      "Transcriptional unit exported to transcriptional_unit.xlsx\n"
     ]
    }
   ],
   "source": [
    "# We will first save the SBOL document locally so that the SBOL to Excel library can convert the file to an Excel document.\n",
    "output_file_rdf = 'transcriptional_unit.rdf'\n",
    "doc.write(output_file_rdf)\n",
    "\n",
    "# Define the output Excel file name\n",
    "output_excel_file = 'transcriptional_unit.xlsx'\n",
    "\n",
    "# Export the SBOL document to Excel\n",
    "s2econverter.converter(output_file_rdf, output_excel_file)\n",
    "print(f'Transcriptional unit exported to {output_excel_file}')"
   ]
  },
  {
   "cell_type": "code",
   "execution_count": null,
   "metadata": {},
   "outputs": [],
   "source": []
  }
 ],
 "metadata": {
  "kernelspec": {
   "display_name": "sbol_env",
   "language": "python",
   "name": "python3"
  },
  "language_info": {
   "codemirror_mode": {
    "name": "ipython",
    "version": 3
   },
   "file_extension": ".py",
   "mimetype": "text/x-python",
   "name": "python",
   "nbconvert_exporter": "python",
   "pygments_lexer": "ipython3",
   "version": "3.11.6"
  }
 },
 "nbformat": 4,
 "nbformat_minor": 2
}
