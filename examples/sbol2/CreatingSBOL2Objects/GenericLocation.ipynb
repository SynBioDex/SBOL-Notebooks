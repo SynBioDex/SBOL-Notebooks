{
 "cells": [
  {
   "cell_type": "markdown",
   "metadata": {},
   "source": [
    "## Using `GenericLocation` to Define Flexible Regions on a Sequence\n",
    "\n",
    "`GenericLocation` in SBOL 2 is useful when regions on a sequence have flexible or undefined boundaries. This is often the case in situations where exact sequence positions are not available.\n",
    "\n",
    "In this notebook, we will start with a simple example to understand the basic usage of `GenericLocation`, and then link it to more complex use cases such as **Cre-Lox recombination**. `GenericLocation` becomes much more meaningful when combined with other SBOL concepts like `SequenceAnnotation`, `SequenceConstraint`, and `ComponentDefinition`.\n",
    "\n",
    "**Minimal Example:**\n",
    "- We will create a DNA sequence and use `GenericLocation` to annotate a region without defined boundaries.\n",
    "\n",
    "**Practical Example:**\n",
    "- For a practical application of `GenericLocation` in modeling biological processes, see the [Cre-Lox Recombination Notebook](../CreLoxRecombination.ipynb), where `GenericLocation` is used to model flexible coding sequence boundaries in a recombination system."
   ]
  },
  {
   "cell_type": "code",
   "execution_count": 3,
   "metadata": {},
   "outputs": [],
   "source": [
    "import sbol2\n",
    "\n",
    "# Create an SBOL document\n",
    "doc = sbol2.Document()\n",
    "\n",
    "# Set a namespace for the document\n",
    "sbol2.setHomespace('https://github.com/SynBioDex/SBOL-Notebooks')\n",
    "\n",
    "# Create a Sequence object with an arbitrary DNA sequence\n",
    "sequence_elements = 'ATGCGTACGTAGCTAGTCTGATCGTAGCTAGTCGATGCA'\n",
    "seq = sbol2.Sequence('example_sequence')\n",
    "seq.elements = sequence_elements\n",
    "seq.encoding = sbol2.SBOL_ENCODING_IUPAC\n",
    "\n",
    "# Add the sequence to the document\n",
    "doc.addSequence(seq)\n",
    "\n",
    "# Create a ComponentDefinition for the sequence\n",
    "comp_def = sbol2.ComponentDefinition('example_component', sbol2.BIOPAX_DNA)\n",
    "comp_def.sequences = [seq.identity]  # Link the sequence to the ComponentDefinition\n",
    "\n",
    "# Add the ComponentDefinition to the document\n",
    "doc.addComponentDefinition(comp_def)\n",
    "\n",
    "# --- GenericLocation ---\n",
    "# Create a SequenceAnnotation for a region on the sequence\n",
    "annotation = sbol2.SequenceAnnotation('flexible_region_annotation')\n",
    "\n",
    "# Define a GenericLocation without specific boundaries\n",
    "generic_location = sbol2.GenericLocation('generic_location')\n",
    "generic_location.orientation = sbol2.SBOL_ORIENTATION_REVERSE_COMPLEMENT # By default the orientation is set to Inline.\n",
    "generic_location.sequence = comp_def.sequences[0]\n",
    "\n",
    "# Add the GenericLocation to the SequenceAnnotation\n",
    "annotation.locations.add(generic_location)\n",
    "\n",
    "# Add the SequenceAnnotation to the ComponentDefinition\n",
    "comp_def.sequenceAnnotations.add(annotation)"
   ]
  },
  {
   "cell_type": "code",
   "execution_count": 4,
   "metadata": {},
   "outputs": [
    {
     "data": {
      "text/plain": [
       "'Valid.'"
      ]
     },
     "execution_count": 4,
     "metadata": {},
     "output_type": "execute_result"
    }
   ],
   "source": [
    "# Validate the document to ensure compliance with SBOL standards\n",
    "doc.validate()"
   ]
  },
  {
   "cell_type": "markdown",
   "metadata": {},
   "source": [
    "In this minimal example, we used a `GenericLocation` to annotate a region on a sequence without specifying exact start and end positions. This approach is useful when the boundaries of a region are not well-defined or are subject to change. The `orientation` property of `GenericLocation` can be used to indicate the strand direction (inline or reverse complement).\n",
    "\n",
    "While this example shows basic usage, `GenericLocation` becomes much more valuable in more complex systems where flexibility in sequence boundaries is essential.\n",
    "\n",
    "### Next Steps\n",
    "\n",
    "- This minimal example demonstrates the basics of using `GenericLocation`. To learn more about how this concept integrates with `SequenceConstraint` and `SequenceAnnotation`, explore the [Cre-Lox Recombination Notebook](../CreLoxRecombination.ipynb).\n",
    "- In the Cre-Lox notebook, we demonstrate how `GenericLocation` allows us to model regions that undergo recombination, including sequence flipping and orientation changes."
   ]
  }
 ],
 "metadata": {
  "kernelspec": {
   "display_name": "sbol_env",
   "language": "python",
   "name": "python3"
  },
  "language_info": {
   "codemirror_mode": {
    "name": "ipython",
    "version": 3
   },
   "file_extension": ".py",
   "mimetype": "text/x-python",
   "name": "python",
   "nbconvert_exporter": "python",
   "pygments_lexer": "ipython3",
   "version": "3.11.6"
  }
 },
 "nbformat": 4,
 "nbformat_minor": 2
}
