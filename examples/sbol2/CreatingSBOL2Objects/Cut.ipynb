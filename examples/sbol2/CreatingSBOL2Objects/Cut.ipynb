{
 "cells": [
  {
   "cell_type": "code",
   "execution_count": 12,
   "metadata": {},
   "outputs": [],
   "source": [
    "import sbol2\n",
    "\n",
    "# Create an SBOL document\n",
    "doc = sbol2.Document()"
   ]
  },
  {
   "cell_type": "code",
   "execution_count": 13,
   "metadata": {},
   "outputs": [],
   "source": [
    "# Set a namespace for the document\n",
    "sbol2.setHomespace('https://github.com/SynBioDex/SBOL-Notebooks')\n",
    "\n",
    "# Create a Sequence object\n",
    "seq = sbol2.Sequence('example_sequence')\n",
    "seq.elements = 'ATGCGTACGTAGCTAGTCTGATCGTAGCTAGT'\n",
    "seq.encoding = sbol2.SBOL_ENCODING_IUPAC\n",
    "\n",
    "# Add the sequence to the document\n",
    "doc.addSequence(seq)"
   ]
  },
  {
   "cell_type": "code",
   "execution_count": 14,
   "metadata": {},
   "outputs": [],
   "source": [
    "# Create a ComponentDefinition object for a DNA component\n",
    "comp_def = sbol2.ComponentDefinition('example_component', sbol2.BIOPAX_DNA)\n",
    "comp_def.sequences = [seq.persistentIdentity]\n",
    "\n",
    "# Add the ComponentDefinition to the document\n",
    "doc.addComponentDefinition(comp_def)\n",
    "\n",
    "# Create a SequenceAnnotation object to describe a notable feature\n",
    "seq_annotation = sbol2.SequenceAnnotation('cut_feature')\n",
    "\n",
    "# Create a Cut Location\n",
    "cut = sbol2.Cut('cut_location')\n",
    "cut.at = 10  # Define where the cut is located (position 10)\n",
    "\n",
    "# Add the Cut location to the SequenceAnnotation\n",
    "seq_annotation.locations.add(cut)\n",
    "\n",
    "# Add the SequenceAnnotation to the ComponentDefinition\n",
    "comp_def.sequenceAnnotations.add(seq_annotation)"
   ]
  },
  {
   "cell_type": "code",
   "execution_count": 16,
   "metadata": {},
   "outputs": [
    {
     "data": {
      "text/plain": [
       "'Valid.'"
      ]
     },
     "execution_count": 16,
     "metadata": {},
     "output_type": "execute_result"
    }
   ],
   "source": [
    "# Save the document to an SBOL file\n",
    "doc.write('cut_example.xml')"
   ]
  }
 ],
 "metadata": {
  "kernelspec": {
   "display_name": "sbol_env",
   "language": "python",
   "name": "python3"
  },
  "language_info": {
   "codemirror_mode": {
    "name": "ipython",
    "version": 3
   },
   "file_extension": ".py",
   "mimetype": "text/x-python",
   "name": "python",
   "nbconvert_exporter": "python",
   "pygments_lexer": "ipython3",
   "version": "3.11.6"
  }
 },
 "nbformat": 4,
 "nbformat_minor": 2
}
