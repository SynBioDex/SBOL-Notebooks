{
 "cells": [
  {
   "cell_type": "code",
   "execution_count": 2,
   "metadata": {},
   "outputs": [],
   "source": [
    "import sbol2\n",
    "\n",
    "# Create an SBOL document\n",
    "doc = sbol2.Document()"
   ]
  },
  {
   "cell_type": "code",
   "execution_count": 3,
   "metadata": {},
   "outputs": [],
   "source": [
    "# Set a namespace for the document\n",
    "sbol2.setHomespace('https://github.com/SynBioDex/SBOL-Notebooks')\n",
    "\n",
    "# Create a Sequence object\n",
    "seq = sbol2.Sequence('example_sequence')\n",
    "seq.elements = 'ATGCGTACGTAGCTAGTCTGATCGTAGCTAGT'\n",
    "seq.encoding = sbol2.SBOL_ENCODING_IUPAC\n",
    "\n",
    "# Add the sequence to the document\n",
    "doc.addSequence(seq)"
   ]
  },
  {
   "cell_type": "code",
   "execution_count": 4,
   "metadata": {},
   "outputs": [],
   "source": [
    "# Create a ComponentDefinition object for a DNA component\n",
    "comp_def = sbol2.ComponentDefinition('example_component', sbol2.BIOPAX_DNA)\n",
    "comp_def.sequences = [seq.persistentIdentity]\n",
    "\n",
    "# Add the ComponentDefinition to the document\n",
    "doc.addComponentDefinition(comp_def)\n",
    "\n",
    "# Create a SequenceAnnotation object to describe a notable feature\n",
    "seq_annotation = sbol2.SequenceAnnotation('cut_feature')\n",
    "\n",
    "# Create a Cut Location\n",
    "cut = sbol2.Cut('cut_location')\n",
    "cut.at = 10  # Define where the cut is located (position 10)\n",
    "cut.orientation = sbol2.SBOL_ORIENTATION_INLINE\n",
    "\n",
    "# Add the Cut location to the SequenceAnnotation\n",
    "seq_annotation.locations.add(cut)\n",
    "\n",
    "# Add the SequenceAnnotation to the ComponentDefinition\n",
    "comp_def.sequenceAnnotations.add(seq_annotation)"
   ]
  },
  {
   "cell_type": "code",
   "execution_count": 5,
   "metadata": {},
   "outputs": [
    {
     "data": {
      "text/plain": [
       "'Valid.'"
      ]
     },
     "execution_count": 5,
     "metadata": {},
     "output_type": "execute_result"
    }
   ],
   "source": [
    "# Check if the SBOL document is valid\n",
    "doc.validate()"
   ]
  },
  {
   "cell_type": "code",
   "execution_count": 6,
   "metadata": {},
   "outputs": [
    {
     "data": {
      "text/plain": [
       "'Valid.'"
      ]
     },
     "execution_count": 6,
     "metadata": {},
     "output_type": "execute_result"
    }
   ],
   "source": [
    "# Save the document to an SBOL file\n",
    "doc.write('cut_example.xml')"
   ]
  },
  {
   "cell_type": "markdown",
   "metadata": {},
   "source": [
    "## Extracting Sub-sequences Before and After the Cut\n",
    "\n",
    "In this section, we will extract the sub-sequences before and after the cut position defined by the `cut_location` in our `SequenceAnnotation`. This process illustrates how we can easily manipulate and analyze sequence data within the SBOL framework, making use of SBOL's standardized approach to describing and annotating biological sequences.\n",
    "\n",
    "We have defined a `SequenceAnnotation` with a `Cut` location at position 10, meaning that the sequence is \"cut\" at this position. Now, we will use this information to split the sequence into two parts: one before the cut and one after it."
   ]
  },
  {
   "cell_type": "code",
   "execution_count": 7,
   "metadata": {},
   "outputs": [
    {
     "name": "stdout",
     "output_type": "stream",
     "text": [
      "ATGCGTACGTAGCTAGTCTGATCGTAGCTAGT\n"
     ]
    }
   ],
   "source": [
    "# The original sequence is as follows:\n",
    "sequence = seq.elements\n",
    "print(sequence)"
   ]
  },
  {
   "cell_type": "code",
   "execution_count": 8,
   "metadata": {},
   "outputs": [
    {
     "name": "stdout",
     "output_type": "stream",
     "text": [
      "Before cut: ATGCGTACGT\n",
      "After cut: AGCTAGTCTGATCGTAGCTAGT\n"
     ]
    }
   ],
   "source": [
    "#Define the cut position (from the SequenceAnnotation's cut location)\n",
    "cut_position = cut.at\n",
    "\n",
    "# Extract the sub-sequences\n",
    "before_cut = sequence[:cut_position]\n",
    "after_cut = sequence[cut_position:]\n",
    "\n",
    "# Output the sub-sequences\n",
    "print(f\"Before cut: {before_cut}\")\n",
    "print(f\"After cut: {after_cut}\")"
   ]
  }
 ],
 "metadata": {
  "kernelspec": {
   "display_name": "sbol_env",
   "language": "python",
   "name": "python3"
  },
  "language_info": {
   "codemirror_mode": {
    "name": "ipython",
    "version": 3
   },
   "file_extension": ".py",
   "mimetype": "text/x-python",
   "name": "python",
   "nbconvert_exporter": "python",
   "pygments_lexer": "ipython3",
   "version": "3.11.6"
  }
 },
 "nbformat": 4,
 "nbformat_minor": 2
}
