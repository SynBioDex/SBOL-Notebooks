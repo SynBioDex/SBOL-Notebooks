{
 "cells": [
  {
   "cell_type": "markdown",
   "id": "a091bc21-f5a1-4ab2-b619-58ccc5130ca6",
   "metadata": {},
   "source": [
    "# Collection in pySBOL2\n",
    "\n",
    "Collections are TopLevel objects that have a `members` property, which holds URI references to one or more TopLevel objects in the same Document"
   ]
  },
  {
   "cell_type": "code",
   "execution_count": 1,
   "id": "ea5a4b9f-516d-4314-b69d-b108f5cf3407",
   "metadata": {},
   "outputs": [],
   "source": [
    "import sbol2\n",
    "\n",
    "# Create an SBOL document\n",
    "doc2 = sbol2.Document()"
   ]
  },
  {
   "cell_type": "code",
   "execution_count": 2,
   "id": "d3a71645-bbf0-497a-b57f-e87d877729f4",
   "metadata": {},
   "outputs": [],
   "source": [
    "# Set a namespace for the document\n",
    "sbol2.setHomespace('https://github.com/SynBioDex/SBOL-Notebooks')\n",
    "\n",
    "# Create some TopLevel objects\n",
    "pro1 = sbol2.ComponentDefinition(\"Promoter_1\")\n",
    "pro2 = sbol2.ComponentDefinition(\"Promoter_2\")\n",
    "\n",
    "# Add the objects to the Document\n",
    "for obj in [pro1, pro2]:\n",
    "    doc2.add(obj) "
   ]
  },
  {
   "cell_type": "code",
   "execution_count": 3,
   "id": "7f4cd69d-a080-490e-b72e-27589571dbfe",
   "metadata": {},
   "outputs": [],
   "source": [
    "# Create a Collection object and set its members property to hold the objects from last cell\n",
    "col = sbol2.Collection(\"Example_Promoters\")\n",
    "col.members = [cd.identity for cd in [pro1, pro2]]\n",
    "\n",
    "# Add Collection to the Document\n",
    "doc2.add(col)"
   ]
  },
  {
   "cell_type": "code",
   "execution_count": 4,
   "id": "e5b90582-5410-4fe6-adea-2038e6f6a7f6",
   "metadata": {},
   "outputs": [
    {
     "data": {
      "text/plain": [
       "'Valid.'"
      ]
     },
     "execution_count": 4,
     "metadata": {},
     "output_type": "execute_result"
    }
   ],
   "source": [
    "# Check if the SBOL document is valid\n",
    "doc2.validate()"
   ]
  },
  {
   "cell_type": "code",
   "execution_count": 5,
   "id": "647281e9-d50f-4de9-9028-ee507c51a156",
   "metadata": {},
   "outputs": [
    {
     "data": {
      "text/plain": [
       "'Valid.'"
      ]
     },
     "execution_count": 5,
     "metadata": {},
     "output_type": "execute_result"
    }
   ],
   "source": [
    "# Save the document to an SBOL file\n",
    "doc2.write('collection_example.xml')"
   ]
  }
 ],
 "metadata": {
  "kernelspec": {
   "display_name": "Python 3.12",
   "language": "python",
   "name": "python3"
  },
  "language_info": {
   "codemirror_mode": {
    "name": "ipython",
    "version": 3
   },
   "file_extension": ".py",
   "mimetype": "text/x-python",
   "name": "python",
   "nbconvert_exporter": "python",
   "pygments_lexer": "ipython3",
   "version": "3.12.6"
  }
 },
 "nbformat": 4,
 "nbformat_minor": 5
}
