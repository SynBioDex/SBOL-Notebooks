{
 "cells": [
  {
   "cell_type": "markdown",
   "id": "a091bc21-f5a1-4ab2-b619-58ccc5130ca6",
   "metadata": {},
   "source": [
    "# Attachment in pySBOL2\n",
    "\n",
    "The purpose of the `Attachment` class is to serve as a general container for data files, especially experimental data files. It provides a means for linking files and metadata to SBOL designs.\n",
    "\n",
    "`Attachment` objects have the following properties:\n",
    "- `source` : The source property is REQUIRED and MUST contain a URI reference to the source file.\n",
    "- `format` : The format property is OPTIONAL and MAY contain a URI that specifies the format of the attached file. It is RECOMMENDED that this URI refer to a term from the EMBRACE Data and Methods (EDAM) ontology.\n",
    "- `size`: The size property is OPTIONAL and MAY contain a long indicating the file size in bytes.\n",
    "- `hash` : The hash property is OPTIONAL and MAY contain a SHA-1 hash of the file contents represented as a hexadecimal digest.\n",
    "\n",
    "In this tutorial, we will fetch dummy experimental data file, then attach it to an SBOL document using pySBOL2.\n",
    "\n",
    "Finally, retrieve the data file, from the Attachment Object.\n",
    "\n",
    "For more information on the `Attachment` class and its properties, check out page 53 of the SBOL 2.3.0 specifications which can be found at the following [link](https://sbolstandard.org/docs/SBOL2.3.0.pdf)."
   ]
  },
  {
   "cell_type": "markdown",
   "id": "87dd31f3-dcd9-4d66-87c8-ec3a50ccd4b0",
   "metadata": {},
   "source": [
    "## Creating an Attachment object"
   ]
  },
  {
   "cell_type": "markdown",
   "id": "725ecb21-7f23-4041-bd15-a157a74932d1",
   "metadata": {},
   "source": [
    "Fetching Example data"
   ]
  },
  {
   "cell_type": "code",
   "execution_count": 1,
   "id": "ea5a4b9f-516d-4314-b69d-b108f5cf3407",
   "metadata": {},
   "outputs": [],
   "source": [
    "url = (\n",
    "    \"https://raw.githubusercontent.com/SynBioDex/SBOL-Notebooks/\"\n",
    "    \"1e4d133dfeb313695f2cee394a580d2569ce6892\"\n",
    "    \"/examples/sbol2/CreatingSBOL2Objects/plate_reader_exp1.csv\"\n",
    ")\n",
    "\n",
    "# FIRST APPROACH WITH request library for general use\n",
    "import requests\n",
    "\n",
    "# Fetch the file\n",
    "resp = requests.get(url)\n",
    "resp.raise_for_status()  # will raise an exception if the fetch failed\n",
    "\n",
    "# The .content is the raw bytes of the .csv file\n",
    "file_bytes = resp.content\n",
    "\n",
    "# 'size' property: just the length in bytes\n",
    "file_size_bytes = len(file_bytes)\n",
    "\n",
    "\n",
    "# # 2nd APPROACH with pandas library (for csv files only)\n",
    "# import pandas as pd\n",
    "\n",
    "# # Read url directly into a DataFrame\n",
    "# df = pd.read_csv(url)\n",
    "\n",
    "# # Convert the DataFrame back to CSV (string) and then to bytes\n",
    "# csv_str = df.to_csv(index=False)\n",
    "# file_bytes = csv_str.encode(\"utf-8\")\n",
    "\n",
    "# # DataFrame‐derived size in bytes\n",
    "# file_size_bytes = len(df_bytes)"
   ]
  },
  {
   "cell_type": "markdown",
   "id": "2adc28b3-c093-48b7-ad5f-59fffe04e9bd",
   "metadata": {},
   "source": [
    "Hashing the file, for 'hash' property: SHA-1 of the raw bytes"
   ]
  },
  {
   "cell_type": "code",
   "execution_count": 2,
   "id": "3fdc8c76-94b2-47f0-bf23-9c72109040ec",
   "metadata": {},
   "outputs": [],
   "source": [
    "import hashlib\n",
    "\n",
    "hasher = hashlib.sha1()\n",
    "hasher.update(file_bytes)\n",
    "file_hash_sha1 = hasher.hexdigest()"
   ]
  },
  {
   "cell_type": "markdown",
   "id": "e3fc1fb9-d69c-4bb1-a426-59196200baea",
   "metadata": {},
   "source": [
    "import the module"
   ]
  },
  {
   "cell_type": "code",
   "execution_count": 3,
   "id": "d96e2b78-b0ff-4371-9071-af1394f57878",
   "metadata": {},
   "outputs": [],
   "source": [
    "import sbol2"
   ]
  },
  {
   "cell_type": "code",
   "execution_count": 4,
   "id": "d3a71645-bbf0-497a-b57f-e87d877729f4",
   "metadata": {},
   "outputs": [],
   "source": [
    "doc = sbol2.Document()\n",
    "\n",
    "# Set a namespace for the document\n",
    "sbol2.setHomespace('https://github.com/SynBioDex/SBOL-Notebooks')"
   ]
  },
  {
   "cell_type": "markdown",
   "id": "7c4eca40-4915-4c6f-9d6f-8ff9b25439a9",
   "metadata": {},
   "source": [
    "Creating `Attachment` object"
   ]
  },
  {
   "cell_type": "code",
   "execution_count": 5,
   "id": "da599ba1-77fd-41ca-8193-aefa6e58bb57",
   "metadata": {},
   "outputs": [],
   "source": [
    "attachment = sbol2.Attachment(\"exp1_growth_data\")\n",
    "\n",
    "# Required source property, \n",
    "# NOTE: source can be a local file with absolute path.\n",
    "attachment.source = url\n",
    "\n",
    "# Optional properties using the metadata\n",
    "attachment.format = \"http://edamontology.org/format_3752\" # EDAM for csv\n",
    "attachment.size = file_size_bytes\n",
    "attachment.hash = file_hash_sha1\n",
    "\n",
    "# --- Add the Attachment to the Document ---\n",
    "doc.addAttachment(attachment)"
   ]
  },
  {
   "cell_type": "code",
   "execution_count": 6,
   "id": "7f5757e7-2951-43e8-932c-ea159d19dd18",
   "metadata": {},
   "outputs": [],
   "source": [
    "report = doc.validate()\n",
    "if report == 'Valid.':\n",
    "    doc.write('example_attachment.xml')\n",
    "else :\n",
    "    print(report)"
   ]
  },
  {
   "cell_type": "markdown",
   "id": "90c2127c-34bf-4128-8720-b0a451045e8e",
   "metadata": {},
   "source": [
    "## Retrieving the File from the Attachment Object"
   ]
  },
  {
   "cell_type": "code",
   "execution_count": 7,
   "id": "5cc9841b-1412-4e1c-a70c-870bd9a23c81",
   "metadata": {},
   "outputs": [],
   "source": [
    "import sbol2\n",
    "import requests\n",
    "import io\n",
    "import csv"
   ]
  },
  {
   "cell_type": "code",
   "execution_count": 8,
   "id": "43c3bb37-de93-43e7-94da-47c9988f57c6",
   "metadata": {},
   "outputs": [],
   "source": [
    "# Read the SBOL file\n",
    "doc2 = sbol2.Document()\n",
    "sbol2.setHomespace('https://github.com/SynBioDex/SBOL-Notebooks')"
   ]
  },
  {
   "cell_type": "code",
   "execution_count": 9,
   "id": "1b0a0b96-0398-48dc-84cd-00528aab371a",
   "metadata": {},
   "outputs": [],
   "source": [
    "doc2.read(filename='example_attachment.xml')"
   ]
  },
  {
   "cell_type": "code",
   "execution_count": 10,
   "id": "ea76ca55-518f-4269-84f9-fa50fbd5af82",
   "metadata": {},
   "outputs": [],
   "source": [
    "experiment_data = doc2.attachments.find('exp1_growth_data')"
   ]
  },
  {
   "cell_type": "code",
   "execution_count": 11,
   "id": "1e7953f2-ab16-48ac-a14f-89b80ad38825",
   "metadata": {},
   "outputs": [],
   "source": [
    "url = experiment_data.source"
   ]
  },
  {
   "cell_type": "code",
   "execution_count": 12,
   "id": "865535be-d85c-4c73-8b92-b0ef5941fe69",
   "metadata": {},
   "outputs": [],
   "source": [
    "# Fetch the file\n",
    "resp = requests.get(url)\n",
    "resp.raise_for_status()  # will raise an exception if the fetch failed\n",
    "\n",
    "# The .content is the raw bytes of the .csv file\n",
    "file_bytes = resp.content"
   ]
  },
  {
   "cell_type": "markdown",
   "id": "f2ddb993-996a-4cd8-a8a2-1c11c4589ae1",
   "metadata": {},
   "source": [
    "There are two approaches for loading the file from the url, depending on your needs.\n",
    "1. Write the file on disk, for further use\n",
    "2. Use the bytes data in memory, for further use with 'io' module"
   ]
  },
  {
   "cell_type": "code",
   "execution_count": 13,
   "id": "e6216ea5-11ff-45d6-bed4-b3b245a1f1aa",
   "metadata": {},
   "outputs": [],
   "source": [
    "# 1. Write the files on disk\n",
    "with open(\"plate_reader_exp2.csv\", \"wb\") as f:\n",
    "    f.write(file_bytes)"
   ]
  },
  {
   "cell_type": "code",
   "execution_count": 14,
   "id": "2ec9c5c3-03f3-4b3d-aaec-9d44f6383150",
   "metadata": {},
   "outputs": [
    {
     "name": "stdout",
     "output_type": "stream",
     "text": [
      "['Time (h)', 'OD600', 'GFP_Fluorescence (AU)']\n",
      "['0', '0.05', '100']\n",
      "['1', '0.1', '150']\n",
      "['2', '0.2', '500']\n",
      "['3', '0.4', '2000']\n",
      "['4', '0.8', '5000']\n",
      "['5', '1.2', '8000']\n",
      "['6', '1.5', '9500']\n",
      "['7', '1.6', '10000']\n",
      "['8', '1.65', '10100']\n"
     ]
    }
   ],
   "source": [
    "# 2. Use the byted data in memory \n",
    "## Wrap & decode to text with 'io'\n",
    "bytes_buf = io.BytesIO(file_bytes)\n",
    "text_buf = io.TextIOWrapper(bytes_buf, encoding=\"utf-8\")\n",
    "\n",
    "reader = csv.reader(text_buf)\n",
    "for row in reader:\n",
    "    print(row)"
   ]
  }
 ],
 "metadata": {
  "kernelspec": {
   "display_name": "Python 3 (ipykernel)",
   "language": "python",
   "name": "python3"
  },
  "language_info": {
   "codemirror_mode": {
    "name": "ipython",
    "version": 3
   },
   "file_extension": ".py",
   "mimetype": "text/x-python",
   "name": "python",
   "nbconvert_exporter": "python",
   "pygments_lexer": "ipython3",
   "version": "3.13.5"
  }
 },
 "nbformat": 4,
 "nbformat_minor": 5
}
