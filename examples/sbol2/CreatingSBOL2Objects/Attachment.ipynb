{
 "cells": [
  {
   "cell_type": "markdown",
   "id": "a091bc21-f5a1-4ab2-b619-58ccc5130ca6",
   "metadata": {},
   "source": [
    "# Attachment in pySBOL2\n",
    "\n",
    "The purpose of the `Attachment` class is to serve as a general container for data files, especially experimental data files. It provides a means for linking files and metadata to SBOL designs.\n",
    "\n",
    "`Attachment` objects have the following properties:\n",
    "- `source` : The source property is REQUIRED and MUST contain a URI reference to the source file.\n",
    "- `format` : The format property is OPTIONAL and MAY contain a URI that specifies the format of the attached file. It is RECOMMENDED that this URI refer to a term from the EMBRACE Data and Methods (EDAM) ontology.\n",
    "- `size`: The size property is OPTIONAL and MAY contain a long indicating the file size in bytes.\n",
    "- `hash` : The hash property is OPTIONAL and MAY contain a SHA-1 hash of the file contents represented as a hexadecimal digest.\n",
    "\n",
    "In this tutorial, we will first create a dummy experimental data file, then attach it to an SBOL document using pySBOL2.\n",
    "\n",
    "For more information on the `Attachment` class and its properties, check out page 53 of the SBOL 2.3.0 specifications which can be found at the following [link](https://sbolstandard.org/docs/SBOL2.3.0.pdf)."
   ]
  },
  {
   "cell_type": "markdown",
   "id": "725ecb21-7f23-4041-bd15-a157a74932d1",
   "metadata": {},
   "source": [
    "Create dummy data"
   ]
  },
  {
   "cell_type": "code",
   "execution_count": 2,
   "id": "ea5a4b9f-516d-4314-b69d-b108f5cf3407",
   "metadata": {},
   "outputs": [],
   "source": [
    "import os\n",
    "import hashlib\n",
    "import csv\n",
    "\n",
    "# filename\n",
    "dummy_filename = \"plate_reader_exp1.csv\"\n",
    "\n",
    "# dummy data: Time, OD600, and GFP Fluorescence\n",
    "data = [\n",
    "    [\"Time (h)\", \"OD600\", \"GFP_Fluorescence (AU)\"],\n",
    "    [0, 0.05, 100],\n",
    "    [1, 0.10, 150],\n",
    "    [2, 0.20, 500],\n",
    "    [3, 0.40, 2000],\n",
    "    [4, 0.80, 5000],\n",
    "    [5, 1.20, 8000],\n",
    "    [6, 1.50, 9500],\n",
    "    [7, 1.60, 10000],\n",
    "    [8, 1.65, 10100]\n",
    "]\n",
    "\n",
    "# write dummy data\n",
    "with open(dummy_filename, 'w', newline='') as f:\n",
    "    writer = csv.writer(f)\n",
    "    writer.writerows(data)\n",
    "\n",
    "# 'size' property\n",
    "file_size = os.path.getsize(dummy_filename)\n",
    "\n",
    "# 'hash' property\n",
    "hasher = hashlib.sha1()\n",
    "# Read the file in binary mode ('rb') for hashing\n",
    "with open(dummy_filename, 'rb') as f:\n",
    "    # Read and update hash string value in blocks\n",
    "    for chunk in iter(lambda: f.read(4096), b\"\"):\n",
    "        hasher.update(chunk)\n",
    "file_hash_sha1 = hasher.hexdigest()"
   ]
  },
  {
   "cell_type": "markdown",
   "id": "e3fc1fb9-d69c-4bb1-a426-59196200baea",
   "metadata": {},
   "source": [
    "import the module"
   ]
  },
  {
   "cell_type": "code",
   "execution_count": 3,
   "id": "d96e2b78-b0ff-4371-9071-af1394f57878",
   "metadata": {},
   "outputs": [],
   "source": [
    "import sbol2"
   ]
  },
  {
   "cell_type": "code",
   "execution_count": 8,
   "id": "d3a71645-bbf0-497a-b57f-e87d877729f4",
   "metadata": {},
   "outputs": [],
   "source": [
    "doc = sbol2.Document()\n",
    "\n",
    "# Set a namespace for the document\n",
    "sbol2.setHomespace('https://github.com/SynBioDex/SBOL-Notebooks')"
   ]
  },
  {
   "cell_type": "markdown",
   "id": "7c4eca40-4915-4c6f-9d6f-8ff9b25439a9",
   "metadata": {},
   "source": [
    "Creating `Attachment` object"
   ]
  },
  {
   "cell_type": "code",
   "execution_count": 9,
   "id": "da599ba1-77fd-41ca-8193-aefa6e58bb57",
   "metadata": {},
   "outputs": [],
   "source": [
    "attachment = sbol2.Attachment(\"exp1_growth_data\")\n",
    "\n",
    "# Required source property\n",
    "attachment.source = \"./plate_reader_exp1.csv\"\n",
    "\n",
    "# Optional properties using the metadata\n",
    "attachment.format = \"http://edamontology.org/format_3752\" # EDAM for csv\n",
    "attachment.size = file_size\n",
    "attachment.hash = file_hash_sha1\n",
    "\n",
    "# --- Add the Attachment to the Document ---\n",
    "doc.addAttachment(attachment)"
   ]
  },
  {
   "cell_type": "code",
   "execution_count": 13,
   "id": "7f5757e7-2951-43e8-932c-ea159d19dd18",
   "metadata": {},
   "outputs": [],
   "source": [
    "report = doc.validate()\n",
    "if report == 'Valid.':\n",
    "    doc.write('example_attachment.xml')\n",
    "else :\n",
    "    print(report)"
   ]
  }
 ],
 "metadata": {
  "kernelspec": {
   "display_name": "Python 3 (ipykernel)",
   "language": "python",
   "name": "python3"
  },
  "language_info": {
   "codemirror_mode": {
    "name": "ipython",
    "version": 3
   },
   "file_extension": ".py",
   "mimetype": "text/x-python",
   "name": "python",
   "nbconvert_exporter": "python",
   "pygments_lexer": "ipython3",
   "version": "3.13.4"
  }
 },
 "nbformat": 4,
 "nbformat_minor": 5
}
