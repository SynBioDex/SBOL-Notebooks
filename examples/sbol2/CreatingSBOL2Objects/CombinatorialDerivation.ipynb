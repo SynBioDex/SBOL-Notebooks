{
 "cells": [
  {
   "cell_type": "markdown",
   "id": "da431e72-44bc-406e-840e-fbae9fa095f4",
   "metadata": {},
   "source": [
    "# CombinatorialDerivation in pySBOL2\n",
    "\n",
    "A `CombinatorialDerivation` is a `TopLevel` object that specifies a combinatorial genetic design without having to\n",
    "specify every possible design variant. Instead, they define a `VariableComponent` that will hold all the variants for a Component in a given template `ComponentDefinition`.\n",
    "\n",
    "A minimally useful version of this object requires the existence of:\n",
    "\n",
    "- ComponentDefinition\n",
    "- Component\n",
    "- VariableComponent"
   ]
  },
  {
   "cell_type": "code",
   "execution_count": 1,
   "id": "81360654-4d46-4b16-af97-dad1eb4f882b",
   "metadata": {},
   "outputs": [],
   "source": [
    "import sbol2\n",
    "\n",
    "# Create an SBOL document\n",
    "doc2 = sbol2.Document()"
   ]
  },
  {
   "cell_type": "code",
   "execution_count": 2,
   "id": "78b3631c-57f7-41da-adf9-709ae553e7c8",
   "metadata": {},
   "outputs": [],
   "source": [
    "# Set a namespace for the document\n",
    "sbol2.setHomespace('https://github.com/SynBioDex/SBOL-Notebooks')\n",
    "\n",
    "# Create a template ComponentDefinition and the definition for one of its Components\n",
    "gene = sbol2.ComponentDefinition(\"Example_Gene\")\n",
    "pro = sbol2.ComponentDefinition(\"Base_Promoter\")\n",
    "\n",
    "# Add both objects to the Document\n",
    "for obj in [gene, pro]:\n",
    "    doc2.add(obj)"
   ]
  },
  {
   "cell_type": "code",
   "execution_count": 3,
   "id": "6272f5c7-9106-4c21-9784-6757d39bf8cb",
   "metadata": {},
   "outputs": [],
   "source": [
    "# Create the Component instance and set it on the template's components property\n",
    "g_pro = sbol2.Component(\"BasePro_instance\")\n",
    "g_pro.definition = pro.identity\n",
    "\n",
    "gene.components = [g_pro]"
   ]
  },
  {
   "cell_type": "code",
   "execution_count": 4,
   "id": "0f83b378-64d4-4440-9d1f-95f1e9409a5c",
   "metadata": {},
   "outputs": [],
   "source": [
    "# Create three 'dummy' variants of the base Component to be exchanged in the CombinatorialDerivation\n",
    "pro_variants = [sbol2.ComponentDefinition(\"Promoter_Variant_\"+str(num + 1)) for num in range(3)]\n",
    "\n",
    "# Add the variants to the document\n",
    "for obj in pro_variants:\n",
    "    doc2.add(obj)"
   ]
  },
  {
   "cell_type": "code",
   "execution_count": 5,
   "id": "b011758b-dd23-4daa-85b7-4f8d50f4806b",
   "metadata": {},
   "outputs": [],
   "source": [
    "# Create the CombinatorialDerivation, setting its template and strategy\n",
    "comb = sbol2.CombinatorialDerivation(uri = \"Promoter_Exchange\")\n",
    "comb.masterTemplate = gene.identity\n",
    "comb.strategy = \"http://sbols.org/v2#enumerate\"\n",
    "\n",
    "# Create a VariableComponent that holds what is being exchanged and by what options\n",
    "varying_pro = sbol2.VariableComponent(uri = \"Possible_Promoters\")\n",
    "varying_pro.variable = g_pro\n",
    "varying_pro.variants = [obj.identity for obj in pro_variants]\n",
    "varying_pro.operator = \"http://sbols.org/v2#one\"\n",
    "\n",
    "comb.variableComponents = [varying_pro]\n",
    "\n",
    "# Add the CombinatorialDerivation to the Document\n",
    "doc2.add(comb)"
   ]
  },
  {
   "cell_type": "code",
   "execution_count": 6,
   "id": "351e9d41-368b-4697-9d61-16436b8b9623",
   "metadata": {},
   "outputs": [
    {
     "data": {
      "text/plain": [
       "'Valid.'"
      ]
     },
     "execution_count": 6,
     "metadata": {},
     "output_type": "execute_result"
    }
   ],
   "source": [
    "# Check if the SBOL document is valid\n",
    "doc2.validate()"
   ]
  },
  {
   "cell_type": "code",
   "execution_count": 7,
   "id": "d668d739-0318-4235-a7a3-705fa18f035d",
   "metadata": {},
   "outputs": [
    {
     "data": {
      "text/plain": [
       "'Valid.'"
      ]
     },
     "execution_count": 7,
     "metadata": {},
     "output_type": "execute_result"
    }
   ],
   "source": [
    "# Save the document to an SBOL file\n",
    "doc2.write('combinatorialderivation_example.xml')"
   ]
  }
 ],
 "metadata": {
  "kernelspec": {
   "display_name": "Python 3.12",
   "language": "python",
   "name": "python3"
  },
  "language_info": {
   "codemirror_mode": {
    "name": "ipython",
    "version": 3
   },
   "file_extension": ".py",
   "mimetype": "text/x-python",
   "name": "python",
   "nbconvert_exporter": "python",
   "pygments_lexer": "ipython3",
   "version": "3.12.6"
  }
 },
 "nbformat": 4,
 "nbformat_minor": 5
}
