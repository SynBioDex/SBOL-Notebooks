{
 "cells": [
  {
   "cell_type": "code",
   "execution_count": 1,
   "id": "81360654-4d46-4b16-af97-dad1eb4f882b",
   "metadata": {},
   "outputs": [],
   "source": [
    "import sbol2"
   ]
  },
  {
   "cell_type": "code",
   "execution_count": 123,
   "id": "d787fd40-4ffa-4399-b6f3-1367aa5412bc",
   "metadata": {},
   "outputs": [],
   "source": [
    "doc2 = sbol2.Document()"
   ]
  },
  {
   "cell_type": "code",
   "execution_count": 124,
   "id": "78b3631c-57f7-41da-adf9-709ae553e7c8",
   "metadata": {},
   "outputs": [],
   "source": [
    "gene = sbol2.ComponentDefinition(\"Example_Gene\")\n",
    "\n",
    "pro = sbol2.ComponentDefinition(\"Base_Promoter\")\n",
    "for obj in [gene, pro]:\n",
    "    doc2.add(obj)"
   ]
  },
  {
   "cell_type": "code",
   "execution_count": 125,
   "id": "6272f5c7-9106-4c21-9784-6757d39bf8cb",
   "metadata": {},
   "outputs": [],
   "source": [
    "g_pro = sbol2.Component(\"BasePro_instance\")\n",
    "g_pro.definition = pro.identity\n",
    "\n",
    "gene.components = [g_pro]"
   ]
  },
  {
   "cell_type": "code",
   "execution_count": 126,
   "id": "0f83b378-64d4-4440-9d1f-95f1e9409a5c",
   "metadata": {},
   "outputs": [],
   "source": [
    "pro_variants = [sbol2.ComponentDefinition(\"Promoter_Variant_\"+str(num + 1)) for num in range(3)]\n",
    "for obj in pro_variants:\n",
    "    doc2.add(obj)"
   ]
  },
  {
   "cell_type": "code",
   "execution_count": 127,
   "id": "b011758b-dd23-4daa-85b7-4f8d50f4806b",
   "metadata": {},
   "outputs": [],
   "source": [
    "comb = sbol2.CombinatorialDerivation(uri = \"Promoter_Exchange\")\n",
    "comb.template = gene.identity\n",
    "\n",
    "varying_pro = sbol2.VariableComponent(uri = \"Possible_Promoters\")\n",
    "varying_pro.variable = g_pro\n",
    "varying_pro.variants = [obj.identity for obj in pro_variants]\n",
    "varying_pro.operator = \"http://sbols.org/v2#one\"\n",
    "\n",
    "comb.variableComponents = [varying_pro]\n",
    "\n",
    "doc2.add(comb)"
   ]
  },
  {
   "cell_type": "code",
   "execution_count": 131,
   "id": "351e9d41-368b-4697-9d61-16436b8b9623",
   "metadata": {},
   "outputs": [
    {
     "name": "stdout",
     "output_type": "stream",
     "text": [
      "Invalid. sbol-12904:\u0000 Strong Validation Error:\u0000 The template property of a CombinatorialDerivation is REQUIRED and MUST contain a URI. \u0000Reference: SBOL Version 2.3.0 Section 7.11 on page 47 :\u0000 http://examples.org/CombinatorialDerivation/Promoter_Exchange/1\u0000  Validation failed.\n"
     ]
    }
   ],
   "source": [
    "print(doc2.validate())"
   ]
  }
 ],
 "metadata": {
  "kernelspec": {
   "display_name": "Python 3.12",
   "language": "python",
   "name": "python3"
  },
  "language_info": {
   "codemirror_mode": {
    "name": "ipython",
    "version": 3
   },
   "file_extension": ".py",
   "mimetype": "text/x-python",
   "name": "python",
   "nbconvert_exporter": "python",
   "pygments_lexer": "ipython3",
   "version": "3.12.6"
  }
 },
 "nbformat": 4,
 "nbformat_minor": 5
}
