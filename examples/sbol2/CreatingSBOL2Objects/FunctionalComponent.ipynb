{
 "cells": [
  {
   "cell_type": "markdown",
   "id": "01cb393e-4a14-4b00-b8f1-167eb759dd77",
   "metadata": {},
   "source": [
    "# Creating a Functional Component\n",
    "\n",
    "In the following tutorial, we will be creating a `FunctionalComponent` object.\n",
    "A `FunctionalComponent` is an instance of a `ComponentDefinition` being used as part of a `ModuleDefinition`. It is used to describe the `ComponentDefinitions` involved in the `ModuleDefinition`.\n",
    "\n",
    "`FunctionalComponent` objects have the following properties:\n",
    "- `definition` : a REQUIRED URI that refers to the `ComponentDefinition` of the `FunctionalComponent`.\n",
    "- `access` : The access property is a REQUIRED URI that indicates whether the `FunctionalComponent` can be referred to remotely by a `MapsTo` on another `FunctionalComponent` or Module contained by a different parent `ComponentDefinition` or `ModuleDefinition`\n",
    "- `mapsTo` : specifies relationships between components in the current `FunctionalComponent` and components in its submodules. This is used to ensure that the internal components are properly linked with their respective roles in subsystems.\n",
    "- `direction` : Each `FunctionalComponent` MUST specify via the direction property whether it serves as an input, output, both, or neither for its parent `ModuleDefinition` object.\n",
    "\n",
    "We will be creating TetR repressor coding sequence (CDS) and repressible promoter using `ComponentDefinition` with a `Sequence`. To do this, we will only need to set the `uri`, `types`, `roles`, and `sequences` properties. For a guide on setting the `components`, `sequenceAnnotations`, and `sequenceConstraints` properties, check out the cooresponding notebooks. Then, we will be adding `FunctionalComponent` instances of these `ComponentDefinition` to the `ModuleDefinition`.\n",
    "\n",
    "For more information on the `FunctionalComponent` class and its properties, check out page 43 of the SBOL 2.3.0 specifications which can be found at the following [link](https://sbolstandard.org/docs/SBOL2.3.0.pdf)"
   ]
  },
  {
   "cell_type": "code",
   "execution_count": 1,
   "id": "559cbf4b-9601-4774-abf4-78990e072b84",
   "metadata": {},
   "outputs": [],
   "source": [
    "import sbol2"
   ]
  },
  {
   "cell_type": "markdown",
   "id": "89faa656-af18-4fcf-88fc-1ba0c1c992ec",
   "metadata": {},
   "source": [
    "Create the document and set the namespace"
   ]
  },
  {
   "cell_type": "code",
   "execution_count": 2,
   "id": "90a8b660-d8b3-47cf-9587-2ba5d1c9ebf5",
   "metadata": {},
   "outputs": [],
   "source": [
    "doc = sbol2.Document()\n",
    "sbol2.setHomespace('https://github.com/SynBioDex/SBOL-Notebooks')"
   ]
  },
  {
   "cell_type": "markdown",
   "id": "63f5e2a5-718e-44c5-b611-8370ab88c70e",
   "metadata": {},
   "source": [
    "Create a repression encoded as a `ModuleDefinition` object and add it to the document"
   ]
  },
  {
   "cell_type": "code",
   "execution_count": 3,
   "id": "a0bf0320-bacc-423c-9697-b953b692272a",
   "metadata": {},
   "outputs": [],
   "source": [
    "repression_md = sbol2.ModuleDefinition('example_repression_module_definition')"
   ]
  },
  {
   "cell_type": "markdown",
   "id": "1a34ea44-cfeb-4f9f-a36a-125243f865c6",
   "metadata": {},
   "source": [
    "Create pTet encoded as a `ComponentDefinition` object and add it to the document"
   ]
  },
  {
   "cell_type": "code",
   "execution_count": 4,
   "id": "20466952-bead-4fc1-9036-4e86fd8ab6f9",
   "metadata": {},
   "outputs": [],
   "source": [
    "pro_comp_def = sbol2.ComponentDefinition(uri='example_repressible_promoter_component_definition', component_type=sbol2.BIOPAX_DNA)\n",
    "pro_comp_def.addRole(sbol2.SO_PROMOTER)\n",
    "doc.addComponentDefinition(pro_comp_def)"
   ]
  },
  {
   "cell_type": "markdown",
   "id": "fee97b65-1e9e-4934-9346-734fe79af2fb",
   "metadata": {},
   "source": [
    "Create tetR CDS encoded as a `ComponentDefinition` object and add it to the document"
   ]
  },
  {
   "cell_type": "code",
   "execution_count": 5,
   "id": "cfbc1265-eabb-45a7-9059-8669293782cf",
   "metadata": {},
   "outputs": [],
   "source": [
    "cds_comp_def = sbol2.ComponentDefinition(uri='example_repressor_cds_component_definition', component_type=sbol2.BIOPAX_DNA)\n",
    "cds_comp_def.addRole(sbol2.SO_CDS)\n",
    "doc.addComponentDefinition(cds_comp_def)"
   ]
  },
  {
   "cell_type": "markdown",
   "id": "60e9b2aa-58ae-468a-9552-018f9732af92",
   "metadata": {},
   "source": [
    "Create a `FunctionalComponent` object and add it to the document"
   ]
  },
  {
   "cell_type": "code",
   "execution_count": 6,
   "id": "89530699-3a24-4d6d-9866-8a3b41139b4a",
   "metadata": {},
   "outputs": [],
   "source": [
    "pro_func_component = sbol2.FunctionalComponent(uri='example_functional_component')\n",
    "pro_func_component.definition = pro_comp_def\n",
    "cds_func_component = sbol2.FunctionalComponent(uri='example_functional_component_cds') \n",
    "cds_func_component.definition = cds_comp_def\n",
    "\n",
    "repression_md.functionalComponents.add(pro_func_component)\n",
    "repression_md.functionalComponents.add(cds_func_component)"
   ]
  },
  {
   "cell_type": "markdown",
   "id": "adf747d2-6e36-47be-a604-30871805b1bc",
   "metadata": {},
   "source": [
    "Add the `ModuleDefinition` to the Document"
   ]
  },
  {
   "cell_type": "code",
   "execution_count": 7,
   "id": "8d318832-3f7a-47ac-a2f1-7b341a229ef6",
   "metadata": {},
   "outputs": [],
   "source": [
    "doc.addModuleDefinition(repression_md)"
   ]
  },
  {
   "cell_type": "code",
   "execution_count": 8,
   "id": "82ce481f-5b67-4dbb-8e68-ea0a926ee8e6",
   "metadata": {},
   "outputs": [],
   "source": [
    "report = doc.validate()\n",
    "if (report == 'Valid.'):\n",
    "    doc.write('participation_example.xml')\n",
    "else:\n",
    "    print(report)"
   ]
  }
 ],
 "metadata": {
  "kernelspec": {
   "display_name": "Python 3 (ipykernel)",
   "language": "python",
   "name": "python3"
  },
  "language_info": {
   "codemirror_mode": {
    "name": "ipython",
    "version": 3
   },
   "file_extension": ".py",
   "mimetype": "text/x-python",
   "name": "python",
   "nbconvert_exporter": "python",
   "pygments_lexer": "ipython3",
   "version": "3.13.4"
  }
 },
 "nbformat": 4,
 "nbformat_minor": 5
}
