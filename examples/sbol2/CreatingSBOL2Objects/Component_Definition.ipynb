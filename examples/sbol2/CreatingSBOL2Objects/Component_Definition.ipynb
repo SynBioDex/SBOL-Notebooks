{
 "cells": [
  {
   "cell_type": "markdown",
   "metadata": {},
   "source": [
    "# Creating a ComponentDefinition\n",
    "\n",
    "`ComponentDefinition` objects have the following properties:\n",
    "- `uri`\n",
    "- `types`\n",
    "- `roles`\n",
    "- `sequences`\n",
    "- `components`\n",
    "- `sequenceAnnotations`\n",
    "- `sequenceConstraints`\n",
    "\n",
    "In this tutorial, we will be representing a ribosome binding site by creating a `ComponentDefinition` with a `Sequence`. To do this, we will only need to set the `uri`, `types`, `roles`, and `sequences` properties. For a guide on setting the `components`, `sequenceAnnotations`, and `sequenceConstraints` properties, check out the cooresponding notebooks.\n",
    "\n",
    "For more information on the `ComponentDefinition` class and its properties, check out page 22 of the SBOL 2.3.0 specifications which can be found at the following [link](https://sbolstandard.org/docs/SBOL2.3.0.pdf)."
   ]
  },
  {
   "cell_type": "markdown",
   "metadata": {},
   "source": [
    "Import the module"
   ]
  },
  {
   "cell_type": "code",
   "execution_count": 16,
   "metadata": {},
   "outputs": [],
   "source": [
    "import sbol2"
   ]
  },
  {
   "cell_type": "markdown",
   "metadata": {},
   "source": [
    "Create the document and set the namespace"
   ]
  },
  {
   "cell_type": "code",
   "execution_count": 17,
   "metadata": {},
   "outputs": [],
   "source": [
    "doc = sbol2.Document()\n",
    "sbol2.setHomespace('https://github.com/SynBioDex/SBOL-Notebooks')"
   ]
  },
  {
   "cell_type": "markdown",
   "metadata": {},
   "source": [
    "Create a `Sequence` object and add it to the document"
   ]
  },
  {
   "cell_type": "code",
   "execution_count": 18,
   "metadata": {},
   "outputs": [],
   "source": [
    "seq = sbol2.Sequence('example_sequence')\n",
    "seq.elements = 'AAAGAGGAGAAAATGCGTACGTAGCTAGTCTGATCGTAGCTAGT'\n",
    "seq.encoding = sbol2.SBOL_ENCODING_IUPAC\n",
    "doc.addSequence(seq)"
   ]
  },
  {
   "cell_type": "markdown",
   "metadata": {},
   "source": [
    "Ceate a `ComponentDefinition` object for DNA encoding a ribosome binding site and add it to the document."
   ]
  },
  {
   "cell_type": "code",
   "execution_count": 19,
   "metadata": {},
   "outputs": [],
   "source": [
    "comp_def = sbol2.ComponentDefinition(uri='example_component_definition', component_type=sbol2.BIOPAX_DNA)\n",
    "comp_def.addRole(sbol2.SO_RBS)\n",
    "comp_def.sequences = [seq]\n",
    "doc.addComponentDefinition(comp_def)"
   ]
  },
  {
   "cell_type": "markdown",
   "metadata": {},
   "source": [
    "Validate the document Save the document to an SBOL file"
   ]
  },
  {
   "cell_type": "code",
   "execution_count": 20,
   "metadata": {},
   "outputs": [],
   "source": [
    "report = doc.validate()\n",
    "if (report == 'Valid.'):\n",
    "    doc.write('comp_def_example.xml')\n",
    "else:\n",
    "    print(report)"
   ]
  }
 ],
 "metadata": {
  "kernelspec": {
   "display_name": "SBOL-test",
   "language": "python",
   "name": "python3"
  },
  "language_info": {
   "codemirror_mode": {
    "name": "ipython",
    "version": 3
   },
   "file_extension": ".py",
   "mimetype": "text/x-python",
   "name": "python",
   "nbconvert_exporter": "python",
   "pygments_lexer": "ipython3",
   "version": "3.10.14"
  }
 },
 "nbformat": 4,
 "nbformat_minor": 2
}
