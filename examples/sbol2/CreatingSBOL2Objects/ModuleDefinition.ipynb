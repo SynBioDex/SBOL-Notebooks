{
 "cells": [
  {
   "cell_type": "markdown",
   "metadata": {},
   "source": [
    "# Creating a ModuleDefinition\n",
    "\n",
    "In the following tutorial, we will be creating a `ModuleDefinition` object.\n",
    "\n",
    "`ModuleDefinition` objects have the following properties:\n",
    "- `` specifies \n",
    "- `` specifies \n",
    "\n",
    "For more information on the `ModuleDefinition` class and its properties, check out page 40 of the SBOL 2.3.0 specifications which can be found at the following [link](https://sbolstandard.org/docs/SBOL2.3.0.pdf)."
   ]
  },
  {
   "cell_type": "code",
   "execution_count": 1,
   "metadata": {},
   "outputs": [],
   "source": [
    "import sbol2\n",
    "\n",
    "doc = sbol2.Document()\n",
    "sbol2.setHomespace('https://github.com/SynBioDex/SBOL-Notebooks')\n",
    "\n",
    "module_def = sbol2.ModuleDefinition('MinimalModule')\n",
    "\n",
    "doc.addModuleDefinition(module_def)\n",
    "\n",
    "report = doc.validate()\n",
    "if (report == 'Valid.'):\n",
    "    doc.write('moduledefinition_example.xml')\n",
    "else:\n",
    "    print(report)"
   ]
  }
 ],
 "metadata": {
  "kernelspec": {
   "display_name": "Julia 1.10.4",
   "language": "julia",
   "name": "julia-1.10"
  },
  "language_info": {
   "file_extension": ".jl",
   "mimetype": "application/julia",
   "name": "julia",
   "version": "1.10.4"
  }
 },
 "nbformat": 4,
 "nbformat_minor": 2
}
