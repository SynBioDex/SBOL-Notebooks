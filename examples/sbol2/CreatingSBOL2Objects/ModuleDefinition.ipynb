{
 "cells": [
  {
   "cell_type": "markdown",
   "metadata": {},
   "source": [
    "# Creating a ModuleDefinition\n",
    "\n",
    "In the following tutorial, we will be creating a `ModuleDefinition` object.\n",
    "\n",
    "`ModuleDefinition` objects have the following properties:\n",
    "- `Identity` specifies a unique identifier for the ModuleDefinition within the SBOL document. This is automatically generated based on the homespace and the displayId when using pySBOL2.\n",
    "- `persistentIdentity` specifies provides a stable reference that remains consistent across multiple versions of the ModuleDefinition.\n",
    "- `displayID` specifies a human-readable identifier for the ModuleDefinition. This must be unique within the scope of the document and typically follows alphanumeric and underscore conventions.\n",
    "- `name` specifies a human-friendly name for the ModuleDefinition. This property is often used for visualization or labeling.\n",
    "- `description` specifies a detailed description of the ModuleDefinition. This field provides additional context about the system being described.\n",
    "- `version` specifies a version tag for the ModuleDefinition. It is commonly used to differentiate between different iterations or stages of the design.\n",
    "- `functionalComponents` specifies a collection of FunctionalComponent objects that describe the individual biological entities (e.g., DNA, RNA, proteins) involved in the system.\n",
    "- `interactions` specifies a collection of Interaction objects that describe the functional relationships or processes (e.g., gene regulation, protein interaction) between the components in the system.\n",
    "- `modules` specifies a list of subsystems that are incorporated into this ModuleDefinition. Each Module represents a reference to another ModuleDefinition, allowing for hierarchical design.\n",
    "- `models` specifies a collection of references to computational models (e.g., SBML, CellML) that describe the quantitative or qualitative behavior of the system.\n",
    "- `mapsTo` specifies relationships between components in the current ModuleDefinition and components in its submodules. This is used to ensure that the internal components are properly linked with their respective roles in subsystems.\n",
    "\n",
    "For more information on the `ModuleDefinition` class and its properties, check out page 40 of the SBOL 2.3.0 specifications which can be found at the following [link](https://sbolstandard.org/docs/SBOL2.3.0.pdf)."
   ]
  },
  {
   "cell_type": "code",
   "execution_count": 1,
   "metadata": {},
   "outputs": [],
   "source": [
    "import sbol2\n",
    "\n",
    "doc = sbol2.Document()\n",
    "sbol2.setHomespace(\"https://github.com/SynBioDex/SBOL-Notebooks\")\n",
    "\n",
    "# Create the ModuleDefinition\n",
    "module_def = sbol2.ModuleDefinition('GFP_expression')\n",
    "doc.addModuleDefinition(module_def)\n",
    "\n",
    "# Create FunctionalComponent for GFP protein\n",
    "gfp_protein_fc = sbol2.FunctionalComponent('GFP_protein')\n",
    "gfp_protein_fc.definition = 'http://sbolstandard.org/example/GFP'\n",
    "gfp_protein_fc.access = sbol2.SBOL_ACCESS_PUBLIC\n",
    "gfp_protein_fc.direction = sbol2.SBOL_DIRECTION_OUT\n",
    "module_def.functionalComponents.add(gfp_protein_fc)\n",
    "\n",
    "# Create FunctionalComponent for Constitutive GFP generator\n",
    "gfp_gen_fc = sbol2.FunctionalComponent('Constitutive_GFP')\n",
    "gfp_gen_fc.definition = 'http://sbolstandard.org/example/GFP_generator'\n",
    "gfp_gen_fc.access = sbol2.SBOL_ACCESS_PUBLIC\n",
    "gfp_gen_fc.direction = sbol2.SBOL_DIRECTION_NONE\n",
    "module_def.functionalComponents.add(gfp_gen_fc)\n",
    "\n",
    "# Create the Interaction for expressing GFP\n",
    "interaction = sbol2.Interaction('express_GFP')\n",
    "module_def.interactions.add(interaction)\n",
    "\n",
    "report = doc.validate()\n",
    "if (report == 'Valid.'):\n",
    "    doc.write('moduledefinition_example.xml')\n",
    "else:\n",
    "    print(report)"
   ]
  }
 ],
 "metadata": {
  "kernelspec": {
   "display_name": "sbol2",
   "language": "python",
   "name": "python3"
  },
  "language_info": {
   "codemirror_mode": {
    "name": "ipython",
    "version": 3
   },
   "file_extension": ".py",
   "mimetype": "text/x-python",
   "name": "python",
   "nbconvert_exporter": "python",
   "pygments_lexer": "ipython3",
   "version": "3.12.5"
  }
 },
 "nbformat": 4,
 "nbformat_minor": 2
}
