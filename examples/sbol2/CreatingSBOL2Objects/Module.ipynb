{
 "cells": [
  {
   "cell_type": "markdown",
   "metadata": {},
   "source": [
    "# Creating a Module\n",
    "\n",
    "In the following tutorial, we will be creating a `Module` object.\n",
    "\n",
    "`Module` objects have the following properties:\n",
    "- `` specifies \n",
    "- `` specifies \n",
    "\n",
    "For more information on the `Module` class and its properties, check out page 42 of the SBOL 2.3.0 specifications which can be found at the following [link](https://sbolstandard.org/docs/SBOL2.3.0.pdf)."
   ]
  },
  {
   "cell_type": "code",
   "execution_count": 1,
   "metadata": {},
   "outputs": [],
   "source": [
    "import sbol2\n",
    "\n",
    "# Initialize the SBOL document\n",
    "doc = sbol2.Document()\n",
    "sbol2.setHomespace(\"https://github.com/SynBioDex/SBOL-Notebooks\")\n"
   ]
  },
  {
   "cell_type": "code",
   "execution_count": 2,
   "metadata": {},
   "outputs": [],
   "source": [
    "\n",
    "# Create the ModuleDefinition for TetR production\n",
    "tetR_module_def = sbol2.ModuleDefinition('TetR_production')\n",
    "doc.addModuleDefinition(tetR_module_def)\n",
    "\n",
    "# Create FunctionalComponent for TetR gene\n",
    "tetR_gene_fc = sbol2.FunctionalComponent('TetR_gene')\n",
    "tetR_gene_fc.definition = 'http://sbolstandard.org/example/TetR_gene'\n",
    "tetR_gene_fc.access = sbol2.SBOL_ACCESS_PUBLIC\n",
    "tetR_gene_fc.direction = sbol2.SBOL_DIRECTION_NONE\n",
    "tetR_module_def.functionalComponents.add(tetR_gene_fc)\n",
    "\n",
    "# Create FunctionalComponent for TetR protein\n",
    "tetR_protein_fc = sbol2.FunctionalComponent('TetR_protein')\n",
    "tetR_protein_fc.definition = 'http://sbolstandard.org/example/TetR_protein'\n",
    "tetR_protein_fc.access = sbol2.SBOL_ACCESS_PUBLIC\n",
    "tetR_protein_fc.direction = sbol2.SBOL_DIRECTION_OUT\n",
    "tetR_module_def.functionalComponents.add(tetR_protein_fc)\n",
    "\n",
    "# Create the Interaction for expressing TetR\n",
    "interaction = sbol2.Interaction('express_TetR')\n",
    "interaction.types = [sbol2.SBO_GENETIC_PRODUCTION]\n",
    "tetR_module_def.interactions.add(interaction)\n",
    "\n",
    "# Add participants to the interaction\n",
    "# Add participants to the interaction using participation creation method\n",
    "dna_template = interaction.participations.create('dna_template')\n",
    "dna_template.roles = ['http://identifiers.org/biomodels.sbo/SBO:0000645']  # SBO term for TEMPLATE\n",
    "dna_template.participant = tetR_gene_fc.identity\n",
    "\n",
    "produced_protein = interaction.participations.create('produced_protein')\n",
    "produced_protein.roles = ['http://identifiers.org/biomodels.sbo/SBO:0000011']  # SBO term for PRODUCT\n",
    "produced_protein.participant = tetR_protein_fc.identity"
   ]
  },
  {
   "cell_type": "code",
   "execution_count": 3,
   "metadata": {},
   "outputs": [],
   "source": [
    "# Create the ModuleDefinition for LacI production\n",
    "lacI_module_def = sbol2.ModuleDefinition('LacI_production')\n",
    "doc.addModuleDefinition(lacI_module_def)\n",
    "\n",
    "# Create FunctionalComponent for lacI gene\n",
    "lacI_gene_fc = sbol2.FunctionalComponent('LacI_gene')\n",
    "lacI_gene_fc.definition = 'http://sbolstandard.org/example/LacI_gene'\n",
    "lacI_gene_fc.access = sbol2.SBOL_ACCESS_PUBLIC\n",
    "lacI_gene_fc.direction = sbol2.SBOL_DIRECTION_NONE\n",
    "lacI_module_def.functionalComponents.add(lacI_gene_fc)\n",
    "\n",
    "# Create FunctionalComponent for LacI protein\n",
    "lacI_protein_fc = sbol2.FunctionalComponent('LacI_protein')\n",
    "lacI_protein_fc.definition = 'http://sbolstandard.org/example/LacI_protein'\n",
    "lacI_protein_fc.access = sbol2.SBOL_ACCESS_PUBLIC\n",
    "lacI_protein_fc.direction = sbol2.SBOL_DIRECTION_OUT\n",
    "lacI_module_def.functionalComponents.add(lacI_protein_fc)\n",
    "\n",
    "# Create the Interaction for expressing LacI\n",
    "interaction = sbol2.Interaction('express_LacI')\n",
    "interaction.types = ['http://identifiers.org/biomodels.sbo/SBO:0000589']  # SBO term for GENETIC_PRODUCTION\n",
    "lacI_module_def.interactions.add(interaction)\n",
    "\n",
    "# Add participants to the interaction using participation creation method\n",
    "dna_template = interaction.participations.create('dna_template')\n",
    "dna_template.roles = ['http://identifiers.org/biomodels.sbo/SBO:0000645']  # SBO term for TEMPLATE\n",
    "dna_template.participant = lacI_gene_fc.identity\n",
    "\n",
    "produced_protein = interaction.participations.create('produced_protein')\n",
    "produced_protein.roles = ['http://identifiers.org/biomodels.sbo/SBO:0000011']  # SBO term for PRODUCT\n",
    "produced_protein.participant = lacI_protein_fc.identity"
   ]
  },
  {
   "cell_type": "code",
   "execution_count": 4,
   "metadata": {},
   "outputs": [],
   "source": [
    "# Create the Toggle Switch ModuleDefinition\n",
    "toggle_switch = sbol2.ModuleDefinition('Toggle_Switch')\n",
    "doc.addModuleDefinition(toggle_switch)\n",
    "\n",
    "# Add instances of TetR and LacI modules to the toggle switch\n",
    "tetR_module_instance = sbol2.Module(\"TetR_module_instance\")\n",
    "tetR_module_instance.definition = tetR_module_def.identity\n",
    "toggle_switch.modules.add(tetR_module_instance)\n",
    "\n",
    "lacI_module_instance = sbol2.Module(\"LacI_module_instance\")\n",
    "lacI_module_instance.definition = lacI_module_def.identity\n",
    "toggle_switch.modules.add(lacI_module_instance)\n",
    "\n",
    "\n",
    "tetR_protein_fc_parent = toggle_switch.functionalComponents.create('TetR_Protein')\n",
    "tetR_protein_fc_parent.definition = tetR_protein_fc.identity\n",
    "lacI_protein_fc_parent = toggle_switch.functionalComponents.create('LacI_Protein')\n",
    "lacI_protein_fc_parent.definition = lacI_protein_fc.identity\n",
    "\n",
    "\n",
    "# Create the repression interactions for the toggle switch\n",
    "# Interaction: TetR represses LacI\n",
    "tetR_represses_lacI = sbol2.Interaction(\"TetR_represses_LacI\")\n",
    "tetR_represses_lacI.types = ['http://identifiers.org/biomodels.sbo/SBO:0000169']  # SBO term for INHIBITION\n",
    "toggle_switch.interactions.add(tetR_represses_lacI)\n",
    "\n",
    "# Participation: TetR as inhibitor\n",
    "tetR_inhibitor = tetR_represses_lacI.participations.create(\"TetR_inhibitor\")\n",
    "tetR_inhibitor.roles = ['http://identifiers.org/biomodels.sbo/SBO:0000020']  # SBO term for INHIBITOR\n",
    "tetR_inhibitor.participant = tetR_protein_fc_parent.identity\n",
    "\n",
    "# Participation: LacI gene as target\n",
    "lacI_target = tetR_represses_lacI.participations.create(\"LacI_target\")\n",
    "lacI_target.roles = ['http://identifiers.org/biomodels.sbo/SBO:0000645']  # SBO term for TEMPLATE\n",
    "lacI_target.participant = lacI_module_def.functionalComponents.get(\"LacI_gene\").identity\n",
    "\n",
    "# Interaction: LacI represses TetR\n",
    "lacI_represses_tetR = sbol2.Interaction(\"LacI_represses_TetR\")\n",
    "lacI_represses_tetR.types = ['http://identifiers.org/biomodels.sbo/SBO:0000169']  # SBO term for INHIBITION\n",
    "toggle_switch.interactions.add(lacI_represses_tetR)\n",
    "\n",
    "# Participation: LacI as inhibitor\n",
    "lacI_inhibitor = lacI_represses_tetR.participations.create(\"LacI_inhibitor\")\n",
    "lacI_inhibitor.roles = ['http://identifiers.org/biomodels.sbo/SBO:0000020']  # SBO term for INHIBITOR\n",
    "lacI_inhibitor.participant = lacI_protein_fc_parent.identity\n",
    "\n",
    "# Participation: TetR gene as target\n",
    "tetR_target = lacI_represses_tetR.participations.create(\"TetR_target\")\n",
    "tetR_target.roles = ['http://identifiers.org/biomodels.sbo/SBO:0000645']  # SBO term for TEMPLATE\n",
    "tetR_target.participant = tetR_module_def.functionalComponents.get(\"TetR_gene\").identity"
   ]
  },
  {
   "cell_type": "code",
   "execution_count": 5,
   "metadata": {},
   "outputs": [
    {
     "name": "stdout",
     "output_type": "stream",
     "text": [
      "Invalid. sbol-12003:\u0000 Strong Validation Error:\u0000 The FunctionalComponent referenced by the participant property of a Participation MUST be contained by the ModuleDefinition that contains the Interaction which contains the Participation. \u0000Reference: SBOL Version 2.3.0 Section 7.9.4 on page 45 :\u0000 https://github.com/SynBioDex/SBOL-Notebooks/ModuleDefinition/Toggle_Switch/LacI_represses_TetR/TetR_target/1\u0000  Validation failed.\n"
     ]
    }
   ],
   "source": [
    "report = doc.validate()\n",
    "if (report == 'Valid.'):\n",
    "    doc.write('module_example.xml')\n",
    "else:\n",
    "    print(report)"
   ]
  }
 ],
 "metadata": {
  "kernelspec": {
   "display_name": "sbol2",
   "language": "python",
   "name": "python3"
  },
  "language_info": {
   "codemirror_mode": {
    "name": "ipython",
    "version": 3
   },
   "file_extension": ".py",
   "mimetype": "text/x-python",
   "name": "python",
   "nbconvert_exporter": "python",
   "pygments_lexer": "ipython3",
   "version": "3.12.5"
  }
 },
 "nbformat": 4,
 "nbformat_minor": 2
}
