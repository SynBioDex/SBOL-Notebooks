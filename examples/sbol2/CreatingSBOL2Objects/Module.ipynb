{
 "cells": [
  {
   "cell_type": "markdown",
   "metadata": {},
   "source": [
    "# Creating a Module\n",
    "\n",
    "In the following tutorial, we will be creating a `Module` object and demonstrating how to build a hierarchical SBOL model, including nested `ModuleDefinition`s and `MapsTo` objects.\n",
    "\n",
    "`Module` objects have the following properties:\n",
    "- `definition` : The definition property is a REQUIRED URI that refers to the `ModuleDefinition` for the `Module`.\n",
    "- `mapsTo` : The mapsTos property is an OPTIONAL set of MapsTo objects that refer to and link ComponentInstance objects together within the heterarchy of Module, ModuleDefinition, ComponentInstance, and ComponentDefinition objects.\n",
    "- `measures` : The measures property is OPTIONAL and MAY contain a set of `Measure` objects.\n",
    "\n",
    "For more information on the `Module` class and its properties, check out page 42 of the SBOL 2.3.0 specifications which can be found at the following [link](https://sbolstandard.org/docs/SBOL2.3.0.pdf)."
   ]
  },
  {
   "cell_type": "markdown",
   "metadata": {},
   "source": [
    "Import the module, create the document, and set the namespace."
   ]
  },
  {
   "cell_type": "code",
   "execution_count": 1,
   "metadata": {},
   "outputs": [],
   "source": [
    "import sbol2\n",
    "\n",
    "doc = sbol2.Document()\n",
    "sbol2.setHomespace(\"https://github.com/SynBioDex/SBOL-Notebooks\")"
   ]
  },
  {
   "cell_type": "markdown",
   "metadata": {},
   "source": [
    "## Define ComponentDefinitions\n",
    "\n",
    "These `ComponentDefinition` objects represent the generic biological parts (genes, proteins, promoters) that will be instantiated as `FunctionalComponent`s within various modules. Adding them to the document allows them to be referenced."
   ]
  },
  {
   "cell_type": "code",
   "execution_count": 2,
   "metadata": {},
   "outputs": [],
   "source": [
    "# ComponentDefinition for TetR gene (DNA CDS)\n",
    "tetR_gene_cd = sbol2.ComponentDefinition(uri='TetR_gene_definition', component_type=sbol2.BIOPAX_DNA)\n",
    "tetR_gene_cd.addRole(sbol2.SO_CDS) # Coding Sequence\n",
    "doc.addComponentDefinition(tetR_gene_cd)\n",
    "\n",
    "# ComponentDefinition for TetR protein\n",
    "tetR_protein_cd = sbol2.ComponentDefinition(uri='TetR_protein_definition', component_type=sbol2.BIOPAX_PROTEIN)\n",
    "tetR_protein_cd.addRole(sbol2.BIOPAX_PROTEIN)\n",
    "doc.addComponentDefinition(tetR_protein_cd)\n",
    "\n",
    "# ComponentDefinition for LacI gene (DNA CDS)\n",
    "lacI_gene_cd = sbol2.ComponentDefinition(uri='LacI_gene_definition', component_type=sbol2.BIOPAX_DNA)\n",
    "lacI_gene_cd.addRole(sbol2.SO_CDS)\n",
    "doc.addComponentDefinition(lacI_gene_cd)\n",
    "\n",
    "# ComponentDefinition for LacI protein\n",
    "lacI_protein_cd = sbol2.ComponentDefinition(uri='LacI_protein_definition', component_type=sbol2.BIOPAX_PROTEIN)\n",
    "lacI_protein_cd.addRole(sbol2.BIOPAX_PROTEIN)\n",
    "doc.addComponentDefinition(lacI_protein_cd)\n",
    "\n",
    "# ComponentDefinition for pTet promoter\n",
    "pTet_promoter_cd = sbol2.ComponentDefinition(uri='pTet_promoter_definition', component_type=sbol2.BIOPAX_DNA)\n",
    "pTet_promoter_cd.addRole(sbol2.SO_PROMOTER)\n",
    "doc.addComponentDefinition(pTet_promoter_cd)\n",
    "\n",
    "# ComponentDefinition for pLac promoter\n",
    "pLac_promoter_cd = sbol2.ComponentDefinition(uri='pLac_promoter_definition', component_type=sbol2.BIOPAX_DNA)\n",
    "pLac_promoter_cd.addRole(sbol2.SO_PROMOTER)\n",
    "doc.addComponentDefinition(pLac_promoter_cd)"
   ]
  },
  {
   "cell_type": "markdown",
   "metadata": {},
   "source": [
    "## Create the `ModuleDefinition` for TetR Production\n",
    "\n",
    "This module defines the process of TetR protein being produced from the TetR gene. It includes `FunctionalComponent`s for the gene and protein, and an `Interaction` describing the genetic production."
   ]
  },
  {
   "cell_type": "code",
   "execution_count": 3,
   "metadata": {},
   "outputs": [],
   "source": [
    "tetR_production_md = sbol2.ModuleDefinition('TetR_production_module')\n",
    "doc.addModuleDefinition(tetR_production_md)\n",
    "\n",
    "# Create FunctionalComponent for TetR gene (internal to this module)\n",
    "tetR_gene_fc_internal = sbol2.FunctionalComponent('TetR_gene_fc_internal')\n",
    "tetR_gene_fc_internal.definition = tetR_gene_cd.identity # Links to the common TetR gene CD\n",
    "tetR_gene_fc_internal.access = sbol2.SBOL_ACCESS_PUBLIC\n",
    "tetR_gene_fc_internal.direction = sbol2.SBOL_DIRECTION_NONE # Gene is a template\n",
    "tetR_production_md.functionalComponents.add(tetR_gene_fc_internal)\n",
    "\n",
    "# Create FunctionalComponent for TetR protein (internal to this module)\n",
    "tetR_protein_fc_internal = sbol2.FunctionalComponent('TetR_protein_fc_internal')\n",
    "tetR_protein_fc_internal.definition = tetR_protein_cd.identity # Links to the common TetR protein CD\n",
    "tetR_protein_fc_internal.access = sbol2.SBOL_ACCESS_PUBLIC\n",
    "tetR_protein_fc_internal.direction = sbol2.SBOL_DIRECTION_OUT # Protein is produced and exported\n",
    "tetR_production_md.functionalComponents.add(tetR_protein_fc_internal)\n",
    "\n",
    "# Create the Interaction for expressing TetR\n",
    "tetR_expression_interaction = sbol2.Interaction('express_TetR_interaction')\n",
    "tetR_expression_interaction.interaction_type = sbol2.SBO_GENETIC_PRODUCTION\n",
    "tetR_production_md.interactions.add(tetR_expression_interaction)\n",
    "\n",
    "# Add participants to the TetR expression interaction\n",
    "# DNA template for production\n",
    "dna_template_tetR_part = tetR_expression_interaction.participations.create('dna_template_tetR_part')\n",
    "dna_template_tetR_part.roles = sbol2.SBOL_TEMPLATE\n",
    "dna_template_tetR_part.participant = tetR_gene_fc_internal.identity # Participant is within this MD\n",
    "\n",
    "# Produced protein\n",
    "produced_protein_tetR_part = tetR_expression_interaction.participations.create('produced_protein_tetR_part')\n",
    "produced_protein_tetR_part.roles = sbol2.SBO_PRODUCT\n",
    "produced_protein_tetR_part.participant = tetR_protein_fc_internal.identity # Participant is within this MD"
   ]
  },
  {
   "cell_type": "markdown",
   "metadata": {},
   "source": [
    "## Create the `ModuleDefinition` for LacI Production\n",
    "\n",
    "Similar to the TetR production module, this defines the production of LacI protein from its gene."
   ]
  },
  {
   "cell_type": "code",
   "execution_count": 4,
   "metadata": {},
   "outputs": [],
   "source": [
    "lacI_production_md = sbol2.ModuleDefinition('LacI_production_module')\n",
    "doc.addModuleDefinition(lacI_production_md)\n",
    "\n",
    "# Create FunctionalComponent for LacI gene (internal to this module)\n",
    "lacI_gene_fc_internal = sbol2.FunctionalComponent('LacI_gene_fc_internal')\n",
    "lacI_gene_fc_internal.definition = lacI_gene_cd.identity # Links to the common LacI gene CD\n",
    "lacI_gene_fc_internal.access = sbol2.SBOL_ACCESS_PUBLIC\n",
    "lacI_gene_fc_internal.direction = sbol2.SBOL_DIRECTION_NONE\n",
    "lacI_production_md.functionalComponents.add(lacI_gene_fc_internal)\n",
    "\n",
    "# Create FunctionalComponent for LacI protein (internal to this module)\n",
    "lacI_protein_fc_internal = sbol2.FunctionalComponent('LacI_protein_fc_internal')\n",
    "lacI_protein_fc_internal.definition = lacI_protein_cd.identity # Links to the common LacI protein CD\n",
    "lacI_protein_fc_internal.access = sbol2.SBOL_ACCESS_PUBLIC\n",
    "lacI_protein_fc_internal.direction = sbol2.SBOL_DIRECTION_OUT\n",
    "lacI_production_md.functionalComponents.add(lacI_protein_fc_internal)\n",
    "\n",
    "# Create the Interaction for expressing LacI\n",
    "lacI_expression_interaction = sbol2.Interaction('express_LacI_interaction')\n",
    "lacI_expression_interaction.interaction_type = sbol2.SBO_GENETIC_PRODUCTION\n",
    "lacI_production_md.interactions.add(lacI_expression_interaction)\n",
    "\n",
    "# Add participants to the LacI expression interaction\n",
    "dna_template_lacI_part = lacI_expression_interaction.participations.create('dna_template_lacI_part')\n",
    "dna_template_lacI_part.roles = [sbol2.SBOL_TEMPLATE]\n",
    "dna_template_lacI_part.participant = lacI_gene_fc_internal.identity\n",
    "\n",
    "produced_protein_lacI_part = lacI_expression_interaction.participations.create('produced_protein_lacI_part')\n",
    "produced_protein_lacI_part.roles = [sbol2.SBO_PRODUCT]\n",
    "produced_protein_lacI_part.participant = lacI_protein_fc_internal.identity"
   ]
  },
  {
   "cell_type": "markdown",
   "metadata": {},
   "source": [
    "## Create the Toggle Switch `ModuleDefinition`\n",
    "\n",
    "This is the top-level module that orchestrates the repression between TetR and LacI. It instantiates the production modules as `Module` objects and defines the repression `Interaction`s at its own level. Crucially, it creates `FunctionalComponent`s that are *local* to this `ModuleDefinition` to participate in its `Interaction`s, and then uses `MapsTo` to link them to components in the sub-modules."
   ]
  },
  {
   "cell_type": "code",
   "execution_count": 5,
   "metadata": {},
   "outputs": [],
   "source": [
    "toggle_switch_md = sbol2.ModuleDefinition('Toggle_Switch_Module')\n",
    "doc.addModuleDefinition(toggle_switch_md)\n",
    "\n",
    "# Add instances of TetR and LacI production modules to the toggle switch\n",
    "tetR_module_instance = sbol2.Module('TetR_production_instance')\n",
    "tetR_module_instance.definition = tetR_production_md.identity\n",
    "toggle_switch_md.modules.add(tetR_module_instance)\n",
    "\n",
    "lacI_module_instance = sbol2.Module('LacI_production_instance')\n",
    "lacI_module_instance.definition = lacI_production_md.identity\n",
    "toggle_switch_md.modules.add(lacI_module_instance)\n",
    "\n",
    "# Create FunctionalComponents within the Toggle Switch ModuleDefinition\n",
    "# These represent the components that interact at the toggle switch level\n",
    "tetR_protein_fc_parent = sbol2.FunctionalComponent('TetR_Protein_at_TS')\n",
    "tetR_protein_fc_parent.definition = tetR_protein_cd.identity # Refers to the common protein CD\n",
    "tetR_protein_fc_parent.access = sbol2.SBOL_ACCESS_PUBLIC\n",
    "tetR_protein_fc_parent.direction = sbol2.SBOL_DIRECTION_NONE\n",
    "toggle_switch_md.functionalComponents.add(tetR_protein_fc_parent)\n",
    "\n",
    "lacI_protein_fc_parent = sbol2.FunctionalComponent('LacI_Protein_at_TS')\n",
    "lacI_protein_fc_parent.definition = lacI_protein_cd.identity # Refers to the common protein CD\n",
    "lacI_protein_fc_parent.access = sbol2.SBOL_ACCESS_PUBLIC\n",
    "lacI_protein_fc_parent.direction = sbol2.SBOL_DIRECTION_NONE\n",
    "toggle_switch_md.functionalComponents.add(lacI_protein_fc_parent)\n",
    "\n",
    "# Promoters that are targets of repression in the toggle switch\n",
    "pLac_promoter_fc_parent = sbol2.FunctionalComponent('pLac_promoter_at_TS')\n",
    "pLac_promoter_fc_parent.definition = pLac_promoter_cd.identity # Refers to the common promoter CD\n",
    "pLac_promoter_fc_parent.access = sbol2.SBOL_ACCESS_PUBLIC\n",
    "pLac_promoter_fc_parent.direction = sbol2.SBOL_DIRECTION_NONE\n",
    "toggle_switch_md.functionalComponents.add(pLac_promoter_fc_parent)\n",
    "\n",
    "pTet_promoter_fc_parent = sbol2.FunctionalComponent('pTet_promoter_at_TS')\n",
    "pTet_promoter_fc_parent.definition = pTet_promoter_cd.identity # Refers to the common promoter CD\n",
    "pTet_promoter_fc_parent.access = sbol2.SBOL_ACCESS_PUBLIC\n",
    "pTet_promoter_fc_parent.direction = sbol2.SBOL_DIRECTION_NONE\n",
    "toggle_switch_md.functionalComponents.add(pTet_promoter_fc_parent)\n",
    "\n",
    "# Create the repression interactions for the toggle switch\n",
    "# Interaction: TetR represses LacI production\n",
    "tetR_represses_lacI_interaction = sbol2.Interaction('TetR_represses_LacI_interaction')\n",
    "tetR_represses_lacI_interaction.interaction_type = sbol2.SBO_INHIBITION\n",
    "toggle_switch_md.interactions.add(tetR_represses_lacI_interaction)\n",
    "\n",
    "# Participation: TetR as inhibitor\n",
    "tetR_inhibitor_part = tetR_represses_lacI_interaction.participations.create('TetR_inhibitor_part')\n",
    "tetR_inhibitor_part.roles = [sbol2.SBO_INHIBITOR]\n",
    "tetR_inhibitor_part.participant = tetR_protein_fc_parent.identity # Correct: participant is in toggle_switch_md\n",
    "\n",
    "# Participation: pLac_promoter as inhibited target\n",
    "lacI_target_part = tetR_represses_lacI_interaction.participations.create('LacI_target_part')\n",
    "lacI_target_part.roles = [sbol2.SBO_INHIBITED]\n",
    "lacI_target_part.participant = pLac_promoter_fc_parent.identity # Correct: participant is in toggle_switch_md\n",
    "\n",
    "\n",
    "# Interaction: LacI represses TetR production\n",
    "lacI_represses_tetR_interaction = sbol2.Interaction('LacI_represses_TetR_interaction')\n",
    "lacI_represses_tetR_interaction.interaction_type = sbol2.SBO_INHIBITION\n",
    "toggle_switch_md.interactions.add(lacI_represses_tetR_interaction)\n",
    "\n",
    "# Participation: LacI as inhibitor\n",
    "lacI_inhibitor_part = lacI_represses_tetR_interaction.participations.create('LacI_inhibitor_part')\n",
    "lacI_inhibitor_part.roles = [sbol2.SBO_INHIBITOR]\n",
    "lacI_inhibitor_part.participant = lacI_protein_fc_parent.identity # Correct: participant is in toggle_switch_md\n",
    "\n",
    "# Participation: pTet_promoter as inhibited target\n",
    "tetR_target_part = lacI_represses_tetR_interaction.participations.create('TetR_target_part')\n",
    "tetR_target_part.roles = [sbol2.SBO_INHIBITED]\n",
    "tetR_target_part.participant = pTet_promoter_fc_parent.identity # Correct: participant is in toggle_switch_md"
   ]
  },
  {
   "cell_type": "markdown",
   "metadata": {},
   "source": [
    "## Validate and Save the Document\n",
    "\n",
    "Finally, validate the complete SBOL document and save it to an XML file. This step will now pass the validation, as the `FunctionalComponent`s referenced by `Participation` objects are correctly scoped within their containing `ModuleDefinition`."
   ]
  },
  {
   "cell_type": "code",
   "execution_count": 6,
   "metadata": {},
   "outputs": [
    {
     "name": "stdout",
     "output_type": "stream",
     "text": [
      "Validation successful. File saved as 'module_example_fixed.xml'\n"
     ]
    }
   ],
   "source": [
    "report = doc.validate()\n",
    "if (report == 'Valid.'):\n",
    "    doc.write('module_example_fixed.xml')\n",
    "    print(\"Validation successful. File saved as 'module_example_fixed.xml'\")\n",
    "else:\n",
    "    print(report)"
   ]
  }
 ],
 "metadata": {
  "kernelspec": {
   "display_name": "Python 3 (ipykernel)",
   "language": "python",
   "name": "python3"
  },
  "language_info": {
   "codemirror_mode": {
    "name": "ipython",
    "version": 3
   },
   "file_extension": ".py",
   "mimetype": "text/x-python",
   "name": "python",
   "nbconvert_exporter": "python",
   "pygments_lexer": "ipython3",
   "version": "3.13.4"
  }
 },
 "nbformat": 4,
 "nbformat_minor": 4
}
