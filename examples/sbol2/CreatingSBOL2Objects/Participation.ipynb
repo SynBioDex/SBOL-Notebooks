{
 "cells": [
  {
   "cell_type": "markdown",
   "metadata": {},
   "source": [
    "# Creating a Participation\n",
    "\n",
    "A `Participation` represents how a particular `FunctionalComponent` behaves in its parent `Interaction`.\n",
    "\n",
    "`Participation` objects have the following properties:\n",
    "- `uri`\n",
    "- `roles`\n",
    "- `participant`\n",
    "\n",
    "In this tutorial, we will be representing an inhibitor and inhibited `Participations`. These `Participations` are referenced by an `Interaction` with role inhibition. TetR epressor coding sequence (CDS) and repressible promoter will be created using `ComponentDefinition` with a `Sequence`. To do this, we will only need to set the `uri`, `types`, `roles`, and `sequences` properties. For a guide on setting the `components`, `sequenceAnnotations`, and `sequenceConstraints` properties, check out the cooresponding notebooks.\n",
    "\n",
    "For more information on the `Participation` class and its properties, check out page 46 of the SBOL 2.3.0 specifications which can be found at the following [link](https://sbolstandard.org/docs/SBOL2.3.0.pdf).\n"
   ]
  },
  {
   "cell_type": "markdown",
   "metadata": {},
   "source": [
    "Import the module"
   ]
  },
  {
   "cell_type": "code",
   "execution_count": 1,
   "metadata": {},
   "outputs": [],
   "source": [
    "import sbol2"
   ]
  },
  {
   "cell_type": "markdown",
   "metadata": {},
   "source": [
    "Create the document and set the namespace"
   ]
  },
  {
   "cell_type": "code",
   "execution_count": 2,
   "metadata": {},
   "outputs": [],
   "source": [
    "doc = sbol2.Document()\n",
    "sbol2.setHomespace('https://github.com/SynBioDex/SBOL-Notebooks')"
   ]
  },
  {
   "cell_type": "markdown",
   "metadata": {},
   "source": [
    "Create a repression encoded as a `ModuleDefinition` object and add it to the document"
   ]
  },
  {
   "cell_type": "code",
   "execution_count": 3,
   "metadata": {},
   "outputs": [],
   "source": [
    "repression_md = sbol2.ModuleDefinition('example_repression_module_definition')"
   ]
  },
  {
   "cell_type": "markdown",
   "metadata": {},
   "source": [
    "Create pTet encoded as a `ComponentDefinition` object and add it to the document"
   ]
  },
  {
   "cell_type": "code",
   "execution_count": 4,
   "metadata": {},
   "outputs": [],
   "source": [
    "pro_comp_def = sbol2.ComponentDefinition(uri='example_repressible_promoter_component_definition', component_type=sbol2.BIOPAX_DNA)\n",
    "pro_comp_def.addRole(sbol2.SO_PROMOTER)\n",
    "doc.addComponentDefinition(pro_comp_def)"
   ]
  },
  {
   "cell_type": "markdown",
   "metadata": {},
   "source": [
    "Create tetR CDS encoded as a `ComponentDefinition` object and add it to the document"
   ]
  },
  {
   "cell_type": "code",
   "execution_count": 5,
   "metadata": {},
   "outputs": [],
   "source": [
    "cds_comp_def = sbol2.ComponentDefinition(uri='example_repressor_cds_component_definition', component_type=sbol2.BIOPAX_DNA)\n",
    "cds_comp_def.addRole(sbol2.SO_CDS)\n",
    "doc.addComponentDefinition(cds_comp_def)"
   ]
  },
  {
   "cell_type": "markdown",
   "metadata": {},
   "source": [
    "Create a `FunctionalComponent` object and add it to the document"
   ]
  },
  {
   "cell_type": "code",
   "execution_count": 6,
   "metadata": {},
   "outputs": [],
   "source": [
    "pro_func_component = sbol2.FunctionalComponent(uri='example_functional_component_pro')\n",
    "pro_func_component.definition = pro_comp_def\n",
    "pro_func_component.access = sbol2.SBOL_ACCESS_PUBLIC\n",
    "pro_func_component.direction = sbol2.SBOL_DIRECTION_NONE\n",
    "\n",
    "cds_func_component = sbol2.FunctionalComponent(uri='example_functional_component_cds') \n",
    "cds_func_component.definition = cds_comp_def\n",
    "cds_func_component.access = sbol2.SBOL_ACCESS_PUBLIC\n",
    "cds_func_component.direction = sbol2.SBOL_DIRECTION_NONE\n",
    "\n",
    "repression_md.functionalComponents.add(pro_func_component)\n",
    "repression_md.functionalComponents.add(cds_func_component)"
   ]
  },
  {
   "cell_type": "markdown",
   "metadata": {},
   "source": [
    "Create a `Interaction` object and add it to the `ModuleDefintion`"
   ]
  },
  {
   "cell_type": "code",
   "execution_count": 7,
   "metadata": {},
   "outputs": [],
   "source": [
    "repression_interaction = sbol2.Interaction(uri='example_repression_interaction')\n",
    "repression_interaction.interaction_type = sbol2.SBO_INHIBITION\n",
    "\n",
    "repression_md.interactions.add(repression_interaction)"
   ]
  },
  {
   "cell_type": "markdown",
   "metadata": {},
   "source": [
    "Create a `Participation` object and add it to the Interaction Object"
   ]
  },
  {
   "cell_type": "code",
   "execution_count": 8,
   "metadata": {},
   "outputs": [],
   "source": [
    "pro_participation = sbol2.Participation(uri='example_participation')\n",
    "pro_participation.participant = pro_func_component\n",
    "pro_participation.addRole(sbol2.SBO_INHIBITOR) \n",
    "\n",
    "cds_participation = sbol2.Participation(uri='example_participation_cds')\n",
    "cds_participation.participant = pro_func_component\n",
    "cds_participation.addRole(sbol2.SBO_INHIBITED)\n",
    "\n",
    "repression_interaction.participations.add(pro_participation)\n",
    "repression_interaction.participations.add(cds_participation)"
   ]
  },
  {
   "cell_type": "markdown",
   "metadata": {},
   "source": [
    "Validate the document Save the document to an SBOL file"
   ]
  },
  {
   "cell_type": "code",
   "execution_count": 9,
   "metadata": {},
   "outputs": [],
   "source": [
    "doc.addModuleDefinition(repression_md)\n",
    "\n",
    "report = doc.validate()\n",
    "if (report == 'Valid.'):\n",
    "    doc.write('participation_example.xml')\n",
    "else:\n",
    "    print(report)"
   ]
  }
 ],
 "metadata": {
  "kernelspec": {
   "display_name": "Python 3 (ipykernel)",
   "language": "python",
   "name": "python3"
  },
  "language_info": {
   "codemirror_mode": {
    "name": "ipython",
    "version": 3
   },
   "file_extension": ".py",
   "mimetype": "text/x-python",
   "name": "python",
   "nbconvert_exporter": "python",
   "pygments_lexer": "ipython3",
   "version": "3.13.4"
  }
 },
 "nbformat": 4,
 "nbformat_minor": 4
}
