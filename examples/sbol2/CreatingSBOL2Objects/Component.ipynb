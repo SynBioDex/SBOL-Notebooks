{
 "cells": [
  {
   "cell_type": "markdown",
   "metadata": {},
   "source": [
    "# Creating a Component\n",
    "\n",
    "In the following tutorial, we will be creating a `Component` object.\n",
    "\n",
    "`Components` connect component `ComponentDefinitions` into a hierarchy. In this totorial, we will have one a parent `ComponentDefinition` representing a gene and a child `ComponentDefinition` representing a RBS on said gene.\n",
    "\n",
    "`Component` objects have the following properties:\n",
    "- `uri` yes\n",
    "- `definition` yes\n",
    "- `mapsTo` no\n",
    "- `access` yes\n",
    "- `measures` yes\n",
    "- `roles` yes\n",
    "- `roleIntegration` yes\n",
    "- `sourceLocations` maybe\n",
    "\n"
   ]
  },
  {
   "cell_type": "markdown",
   "metadata": {},
   "source": [
    "Import the module"
   ]
  },
  {
   "cell_type": "code",
   "execution_count": 38,
   "metadata": {},
   "outputs": [],
   "source": [
    "import sbol2"
   ]
  },
  {
   "cell_type": "markdown",
   "metadata": {},
   "source": [
    "Create the document and set the namespace"
   ]
  },
  {
   "cell_type": "code",
   "execution_count": 39,
   "metadata": {},
   "outputs": [],
   "source": [
    "doc = sbol2.Document()\n",
    "sbol2.setHomespace('https://github.com/SynBioDex/SBOL-Notebooks')"
   ]
  },
  {
   "cell_type": "markdown",
   "metadata": {},
   "source": [
    "Create a `Sequence` object and add it to the document"
   ]
  },
  {
   "cell_type": "code",
   "execution_count": 40,
   "metadata": {},
   "outputs": [],
   "source": [
    "gene_seq = sbol2.Sequence('example_sequence')\n",
    "gene_seq.elements = 'AAAGAGGAGAAAATGCGTACGTAGCTAGTCTGATCGTAGCTAGT'\n",
    "gene_seq.encoding = sbol2.SBOL_ENCODING_IUPAC\n",
    "doc.addSequence(gene_seq)"
   ]
  },
  {
   "cell_type": "markdown",
   "metadata": {},
   "source": [
    "Ceate a `ComponentDefinition` object for a 'parent' gene and add it to the document"
   ]
  },
  {
   "cell_type": "code",
   "execution_count": 41,
   "metadata": {},
   "outputs": [],
   "source": [
    "parent_component_definition = sbol2.ComponentDefinition(uri='parent_component_definition', component_type=sbol2.BIOPAX_DNA)\n",
    "parent_component_definition.addRole(sbol2.SO_GENE)\n",
    "parent_component_definition.sequence = gene_seq\n",
    "doc.addComponentDefinition(parent_component_definition)"
   ]
  },
  {
   "cell_type": "markdown",
   "metadata": {},
   "source": [
    "Ceate a `ComponentDefinition` object for a 'child' promoter and add it to the document."
   ]
  },
  {
   "cell_type": "code",
   "execution_count": 42,
   "metadata": {},
   "outputs": [],
   "source": [
    "child_component_definition = sbol2.ComponentDefinition(uri='child_component_definition', component_type=sbol2.BIOPAX_DNA)\n",
    "child_component_definition.addRole(sbol2.SO_PROMOTER)\n",
    "doc.addComponentDefinition(child_component_definition)"
   ]
  },
  {
   "cell_type": "markdown",
   "metadata": {},
   "source": [
    "Now, Create some `Location` object to define the portion of the gene's sequence that will be included in the promoter. For this tutorial, we will create a `range`, as that is what makes most sense, however you cut create a `Cut`, `GenericLocation`, or even a combination of all three, if thats what you need."
   ]
  },
  {
   "cell_type": "code",
   "execution_count": 43,
   "metadata": {},
   "outputs": [],
   "source": [
    "promoter_range = sbol2.Range(uri='sample_generic_location')\n",
    "promoter_range.start = 1\n",
    "promoter_range.end = 12\n",
    "doc.add(promoter_range)"
   ]
  },
  {
   "cell_type": "markdown",
   "metadata": {},
   "source": [
    "Create a `Component` object to connect the promoter to the gene"
   ]
  },
  {
   "cell_type": "code",
   "execution_count": 44,
   "metadata": {},
   "outputs": [],
   "source": [
    "child_component = sbol2.Component(uri='child_component', access=sbol2.SBOL_ACCESS_PRIVATE)\n",
    "child_component.definition = child_component_definition\n",
    "child_component.sourceLocations = [promoter_range]\n",
    "parent_component_definition.components.add(child_component)"
   ]
  },
  {
   "cell_type": "code",
   "execution_count": 45,
   "metadata": {},
   "outputs": [],
   "source": [
    "report = doc.validate()\n",
    "if (report == 'Valid.'):\n",
    "    doc.write('component_example.xml')\n",
    "else:\n",
    "    print(report)"
   ]
  }
 ],
 "metadata": {
  "kernelspec": {
   "display_name": "SBOL-test",
   "language": "python",
   "name": "python3"
  },
  "language_info": {
   "codemirror_mode": {
    "name": "ipython",
    "version": 3
   },
   "file_extension": ".py",
   "mimetype": "text/x-python",
   "name": "python",
   "nbconvert_exporter": "python",
   "pygments_lexer": "ipython3",
   "version": "3.10.14"
  }
 },
 "nbformat": 4,
 "nbformat_minor": 2
}
