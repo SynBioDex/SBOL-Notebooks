{
 "cells": [
  {
   "cell_type": "markdown",
   "metadata": {},
   "source": [
    "# Creating a Component\n",
    "\n",
    "`Components` connect `ComponentDefinitions` into a hierarchy. In this tutorial, we will have one a parent `ComponentDefinition` representing a gene and a child `ComponentDefinition` representing a promoter on said gene.\n",
    "\n",
    "\n",
    "`Component` objects have the following properties:\n",
    "- `uri` \n",
    "- `definition`\n",
    "- `mapsTo`\n",
    "- `access`\n",
    "- `measures`\n",
    "- `roles`\n",
    "- `roleIntegration`\n",
    "- `sourceLocations`\n",
    "\n",
    "In this tutorial, we will not be dealing with neither the `mapsTo` nor the `measures` atributes. For a guide on those, check out the corresponding notebooks.\n",
    "\n",
    "For more information on the `Component` class and its properties, check out page 28 of the SBOL 2.3.0 specifications which can be found at the following [link](https://sbolstandard.org/docs/SBOL2.3.0.pdf).\n",
    "\n",
    "\n",
    "\n"
   ]
  },
  {
   "cell_type": "markdown",
   "metadata": {},
   "source": [
    "Import the module"
   ]
  },
  {
   "cell_type": "code",
   "execution_count": 62,
   "metadata": {},
   "outputs": [],
   "source": [
    "import sbol2"
   ]
  },
  {
   "cell_type": "markdown",
   "metadata": {},
   "source": [
    "Create the document and set the namespace"
   ]
  },
  {
   "cell_type": "code",
   "execution_count": 63,
   "metadata": {},
   "outputs": [],
   "source": [
    "doc = sbol2.Document()\n",
    "sbol2.setHomespace('https://github.com/SynBioDex/SBOL-Notebooks')"
   ]
  },
  {
   "cell_type": "markdown",
   "metadata": {},
   "source": [
    "Create a plasmid `Sequence` object and add it to the document"
   ]
  },
  {
   "cell_type": "code",
   "execution_count": 64,
   "metadata": {},
   "outputs": [],
   "source": [
    "plasmid_sequence = sbol2.Sequence('example_plasmid')\n",
    "plasmid_sequence.elements = 'ATGCGTACGATCGTAAAGAGGAGAAAATGCGTACGTAGCTAGTCTGATCGTAGCTAGT'\n",
    "plasmid_sequence.encoding = sbol2.SBOL_ENCODING_IUPAC\n",
    "doc.addSequence(plasmid_sequence)"
   ]
  },
  {
   "cell_type": "markdown",
   "metadata": {},
   "source": [
    "Ceate a `ComponentDefinition` object for the promoter `Sequence`"
   ]
  },
  {
   "cell_type": "code",
   "execution_count": 65,
   "metadata": {},
   "outputs": [],
   "source": [
    "plasmid_component_definition = sbol2.ComponentDefinition(uri='plasmid_component_definition', component_type=sbol2.BIOPAX_DNA)\n",
    "plasmid_component_definition.addRole(sbol2.SO_PROMOTER)\n",
    "plasmid_component_definition.sequence = plasmid_sequence\n",
    "doc.addComponentDefinition(plasmid_component_definition)"
   ]
  },
  {
   "cell_type": "markdown",
   "metadata": {},
   "source": [
    "Now, Create a `Range` object to define the portion of the plasmids's sequence that will be included in the RBS (lets say 15 - 28)"
   ]
  },
  {
   "cell_type": "code",
   "execution_count": 66,
   "metadata": {},
   "outputs": [],
   "source": [
    "promoter_range = sbol2.Range(uri='sample_range')\n",
    "promoter_range.start = 15\n",
    "promoter_range.end = 28\n",
    "doc.add(promoter_range)"
   ]
  },
  {
   "cell_type": "markdown",
   "metadata": {},
   "source": [
    "Create a `Component` object for the Promoter that is situated inside the plasmid"
   ]
  },
  {
   "cell_type": "code",
   "execution_count": 68,
   "metadata": {},
   "outputs": [],
   "source": [
    "promoter_component = sbol2.Component(uri='RBS_component', access=sbol2.SBOL_ACCESS_PRIVATE)\n",
    "promoter_component.definition = plasmid_component_definition\n",
    "promoter_component.sourceLocations = [promoter_range]\n",
    "promoter_component.roles = [sbol2.SO_PROMOTER]\n",
    "promoter_component.roleIntegration = sbol2.SBOL_ROLE_INTEGRATION_OVERRIDE"
   ]
  },
  {
   "cell_type": "markdown",
   "metadata": {},
   "source": [
    "Ceate a `ComponentDefinition` object for the Gene the Promoter will be promoting, and then add the promoter to said compo. You can optionally add a `Sequence` and `SequenceAnnotation` to the Gene to specify the full gene sequence as well as where the promoter for the gene is situated, however we will not go into how to do that here. For more information, go over to the relevent NoteBooks."
   ]
  },
  {
   "cell_type": "code",
   "execution_count": 67,
   "metadata": {},
   "outputs": [],
   "source": [
    "example_gene_component_definition = sbol2.ComponentDefinition(uri='example_gene_component_definition', component_type=sbol2.BIOPAX_DNA)\n",
    "example_gene_component_definition.addRole(sbol2.SO_GENE)\n",
    "example_gene_component_definition.addRole(sbol2.SO_PROMOTER)\n",
    "doc.addComponentDefinition(example_gene_component_definition)\n",
    "example_gene_component_definition.components.add(promoter_component)"
   ]
  },
  {
   "cell_type": "code",
   "execution_count": 69,
   "metadata": {},
   "outputs": [],
   "source": [
    "report = doc.validate()\n",
    "if (report == 'Valid.'):\n",
    "    doc.write('component_example.xml')\n",
    "else:\n",
    "    print(report)"
   ]
  }
 ],
 "metadata": {
  "kernelspec": {
   "display_name": "SBOL-test",
   "language": "python",
   "name": "python3"
  },
  "language_info": {
   "codemirror_mode": {
    "name": "ipython",
    "version": 3
   },
   "file_extension": ".py",
   "mimetype": "text/x-python",
   "name": "python",
   "nbconvert_exporter": "python",
   "pygments_lexer": "ipython3",
   "version": "3.10.14"
  }
 },
 "nbformat": 4,
 "nbformat_minor": 2
}
