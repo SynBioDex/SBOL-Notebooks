{
 "cells": [
  {
   "cell_type": "markdown",
   "metadata": {},
   "source": [
    "## Using `Range` to Annotate a Sequence Region\n",
    "\n",
    "In this example, we will explore how to define continuous regions on a sequence using the `Range` location type in SBOL. The `Range` specifies a span of positions between a defined start and end point. This is useful for annotating features such as coding sequences or regulatory elements.\n",
    "\n",
    "We will demonstrate two `Range` annotations on a DNA sequence:\n",
    "1. **Inline orientation**: A region from positions 5 to 20 on the forward strand.\n",
    "2. **Reverse complement orientation**: A region from positions 25 to 41 on the reverse strand.\n",
    "\n",
    "This approach illustrates how SBOL makes it easy to annotate sequence features on both strands, highlighting the versatility of SBOL for standardized biological data representation."
   ]
  },
  {
   "cell_type": "code",
   "execution_count": 12,
   "metadata": {},
   "outputs": [],
   "source": [
    "import sbol2\n",
    "from Bio.Seq import Seq  # Biopython for reverse complement\n",
    "\n",
    "# Create an SBOL document\n",
    "doc = sbol2.Document()\n",
    "\n",
    "# Set a namespace for the document\n",
    "sbol2.setHomespace('https://github.com/SynBioDex/SBOL-Notebooks')\n",
    "\n",
    "\n",
    "sequence_elements = 'ATGCGTACGTAGCTAGTCTGATCGTAGCTAGTCGATGCAGGGC'\n",
    "seq = sbol2.Sequence('example_sequence')\n",
    "seq.elements = sequence_elements\n",
    "seq.encoding = sbol2.SBOL_ENCODING_IUPAC\n",
    "\n",
    "# Add the sequence to the document\n",
    "doc.addSequence(seq)\n",
    "\n",
    "# Create a ComponentDefinition for the sequence\n",
    "comp_def = sbol2.ComponentDefinition('example_component', sbol2.BIOPAX_DNA)\n",
    "comp_def.sequences = [seq.persistentIdentity]\n",
    "\n",
    "# Add the ComponentDefinition to the document\n",
    "doc.addComponentDefinition(comp_def)\n",
    "\n",
    "# --- Range 1: Forward Strand (SBOL_ORIENTATION_INLINE) ---\n",
    "# Create a SequenceAnnotation for a region on the forward strand\n",
    "forward_annotation = sbol2.SequenceAnnotation('forward_region')\n",
    "\n",
    "# Define a Range from position 5 to 20 on the forward strand\n",
    "# Note - by default, the orientation is set to Inline (i.e. Forward)\n",
    "forward_range = sbol2.Range('forward_range', 5, 20)\n",
    "\n",
    "# Add the Range to the SequenceAnnotation\n",
    "forward_annotation.locations.add(forward_range)\n",
    "\n",
    "# Add the SequenceAnnotation to the ComponentDefinition\n",
    "comp_def.sequenceAnnotations.add(forward_annotation)\n",
    "\n",
    "# --- Range 2: Reverse Complement (SBOL_ORIENTATION_REVERSE_COMPLEMENT) ---\n",
    "# Create a SequenceAnnotation for a region on the reverse complement strand\n",
    "reverse_annotation = sbol2.SequenceAnnotation('reverse_complement_region')\n",
    "\n",
    "# Define a Range from position 25 to 41 on the reverse complement strand\n",
    "reverse_range = sbol2.Range('reverse_complement_range', 25, 41)\n",
    "reverse_range.orientation = sbol2.SBOL_ORIENTATION_REVERSE_COMPLEMENT\n",
    "\n",
    "# Add the Range to the SequenceAnnotation\n",
    "reverse_annotation.locations.add(reverse_range)\n",
    "\n",
    "# Add the SequenceAnnotation to the ComponentDefinition\n",
    "comp_def.sequenceAnnotations.add(reverse_annotation)"
   ]
  },
  {
   "cell_type": "code",
   "execution_count": 13,
   "metadata": {},
   "outputs": [
    {
     "data": {
      "text/plain": [
       "'Valid.'"
      ]
     },
     "execution_count": 13,
     "metadata": {},
     "output_type": "execute_result"
    }
   ],
   "source": [
    "# Validate the document to ensure compliance with SBOL standards\n",
    "doc.validate()"
   ]
  },
  {
   "cell_type": "code",
   "execution_count": 14,
   "metadata": {},
   "outputs": [
    {
     "data": {
      "text/plain": [
       "'Valid.'"
      ]
     },
     "execution_count": 14,
     "metadata": {},
     "output_type": "execute_result"
    }
   ],
   "source": [
    "# Save the document to an SBOL file\n",
    "doc.write('range_example.xml')"
   ]
  },
  {
   "cell_type": "markdown",
   "metadata": {},
   "source": [
    "## Extracting and Displaying Annotated Regions\n",
    "\n",
    "After defining the `Range` annotations, we can now extract and display the regions from the sequence. \n",
    "\n",
    "1. **Original Sequence**: First, we print the original sequence so that we can reference it while extracting the annotated regions.\n",
    "2. **Forward Strand Region**: For the inline (forward) strand annotation, the sequence is sliced between positions 5 and 20. Since Python uses zero-based indexing, the start position is adjusted by subtracting 1.\n",
    "3. **Reverse Complement Sequence**: We then compute the reverse complement of the entire sequence to properly interpret the reverse strand region.\n",
    "4. **Reverse Complement Region**: For the reverse complement annotation (positions 25 to 41), we extract the region from the reverse complement sequence. The correct positions are calculated by adjusting for Python's zero-based indexing and reverse strand orientation.\n",
    "\n",
    "These steps allow us to directly extract the regions of interest for both forward and reverse orientations from the sequence."
   ]
  },
  {
   "cell_type": "code",
   "execution_count": 15,
   "metadata": {},
   "outputs": [
    {
     "name": "stdout",
     "output_type": "stream",
     "text": [
      "Original sequence: ATGCGTACGTAGCTAGTCTGATCGTAGCTAGTCGATGCAGGGC\n",
      "Forward strand region (positions 5 to 20): GTACGTAGCTAGTCTG\n",
      "Reverse complement sequence: GCCCTGCATCGACTAGCTACGATCAGACTAGCTACGTACGCAT\n",
      "Reverse complement region (positions 25 to 41): CCTGCATCGACTAGCTA\n"
     ]
    }
   ],
   "source": [
    "# --- Extract and display the annotated regions ---\n",
    "# Get the original sequence\n",
    "print(f\"Original sequence: {sequence_elements}\")\n",
    "\n",
    "# Adjust the forward strand indices for zero-based indexing\n",
    "forward_region = sequence_elements[forward_range.start-1:forward_range.end]\n",
    "print(f\"Forward strand region (positions {forward_range.start} to {forward_range.end}): {forward_region}\")\n",
    "\n",
    "# Compute the reverse complement of the sequence\n",
    "reverse_complement_sequence = str(Seq(sequence_elements).reverse_complement())\n",
    "print(f\"Reverse complement sequence: {reverse_complement_sequence}\")\n",
    "\n",
    "# Adjust the reverse complement region for zero-based indexing\n",
    "reverse_region = reverse_complement_sequence[len(sequence_elements) - reverse_range.end: len(sequence_elements) - reverse_range.start + 1]\n",
    "print(f\"Reverse complement region (positions {reverse_range.start} to {reverse_range.end}): {reverse_region}\")"
   ]
  },
  {
   "cell_type": "markdown",
   "metadata": {},
   "source": [
    "## Using a Helper Functions\n",
    "\n",
    "In this notebook, we've shown how to extract regions of a sequence based on the start and end positions, accounting for the orientation (either forward or reverse complement). \n",
    "\n",
    "To simplify this process, especially for larger and more complex designs, we can create a helper function that automates this. This helper function takes an SBOL `Sequence` object and a `Range` object as inputs and returns the correct sub-sequence. It automatically handles:\n",
    "- **Zero-based indexing**: Converts the one-based biological indexing to Python's zero-based indexing for accurate slicing.\n",
    "- **Orientation**: Detects whether the sub-sequence is in the forward or reverse complement orientation, ensuring that the appropriate sub-sequence is returned."
   ]
  },
  {
   "cell_type": "code",
   "execution_count": 16,
   "metadata": {},
   "outputs": [],
   "source": [
    "def extract_sequence_from_range(sequence_obj, range_obj):\n",
    "    \"\"\"\n",
    "    Extracts a sub-sequence based on the SBOL Sequence object and Range object.\n",
    "\n",
    "    :param sequence_obj: The SBOL Sequence object (contains the DNA sequence as 'elements').\n",
    "    :param range_obj: The SBOL Range object (contains start, end, and orientation).\n",
    "    :return: The extracted sub-sequence (reverse complement if specified).\n",
    "    \"\"\"\n",
    "    # Get the sequence string from the Sequence object\n",
    "    sequence = sequence_obj.elements\n",
    "    \n",
    "    # Extract start, end, and orientation from the Range object\n",
    "    start = range_obj.start\n",
    "    end = range_obj.end\n",
    "    orientation = range_obj.orientation\n",
    "    \n",
    "    # Adjust for zero-based indexing for slicing\n",
    "    sub_sequence = sequence[start - 1:end]\n",
    "\n",
    "    # If orientation is reverse complement, reverse complement the sub-sequence only\n",
    "    if orientation == sbol2.SBOL_ORIENTATION_REVERSE_COMPLEMENT:\n",
    "        return str(Seq(sub_sequence).reverse_complement())\n",
    "    \n",
    "    # If orientation is inline, return the sub-sequence directly\n",
    "    return sub_sequence"
   ]
  },
  {
   "cell_type": "code",
   "execution_count": 17,
   "metadata": {},
   "outputs": [
    {
     "name": "stdout",
     "output_type": "stream",
     "text": [
      "Forward strand region (positions 5 to 20): GTACGTAGCTAGTCTG\n",
      "Reverse complement region (positions 25 to 41): CCTGCATCGACTAGCTA\n"
     ]
    }
   ],
   "source": [
    "forward_sequence = extract_sequence_from_range(seq, forward_range)\n",
    "print(f\"Forward strand region (positions {forward_range.start} to {forward_range.end}): {forward_sequence}\")\n",
    "reverse_sequence = extract_sequence_from_range(seq, reverse_range)\n",
    "print(f\"Reverse complement region (positions {reverse_range.start} to {reverse_range.end}): {reverse_sequence}\")"
   ]
  }
 ],
 "metadata": {
  "kernelspec": {
   "display_name": "sbol_env",
   "language": "python",
   "name": "python3"
  },
  "language_info": {
   "codemirror_mode": {
    "name": "ipython",
    "version": 3
   },
   "file_extension": ".py",
   "mimetype": "text/x-python",
   "name": "python",
   "nbconvert_exporter": "python",
   "pygments_lexer": "ipython3",
   "version": "3.11.6"
  }
 },
 "nbformat": 4,
 "nbformat_minor": 2
}
