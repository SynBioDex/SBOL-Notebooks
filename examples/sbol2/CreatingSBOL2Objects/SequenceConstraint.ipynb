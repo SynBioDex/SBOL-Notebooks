{
 "cells": [
  {
   "attachments": {
    "SequenceConstraintCircuit.PNG": {
     "image/png": "[encoded data removed]"
    }
   },
   "cell_type": "markdown",
   "metadata": {},
   "source": [
    "## Using `SequenceConstraint` to place restrictions on `Components` within the same `ComponentDefinition`\n",
    "\n",
    "`SequenceConstraints` are used to describe the relative position and orientation between two components within the same component definition. There are four types of restriction that two components can have. They are outlined through the following examples:\n",
    "\n",
    "1. `ComponentA` precedes `ComponentB`\n",
    "2. `ComponentA` is the same orientation as `ComponentB`\n",
    "3. `ComponentA` is the opposite orientation as `ComponentB`\n",
    "4. `ComponentA` is different from `ComponentB`\n",
    "\n",
    "Of the four examples, only #4 is not immediatly straight forward.\n",
    "\n",
    "To demonstrate the various `SequenceConstraints`, we will model the following genetic circuit\n",
    "\n",
    "![SequenceConstraintCircuit.PNG](attachment:SequenceConstraintCircuit.PNG)\n"
   ]
  },
  {
   "cell_type": "code",
   "execution_count": null,
   "metadata": {},
   "outputs": [],
   "source": [
    "import sbol2\n",
    "\n",
    "# Create an SBOL document\n",
    "doc = sbol2.Document()\n",
    "\n",
    "# Set a namespace for the document\n",
    "sbol2.setHomespace('https://github.com/SynBioDex/SBOL-Notebooks')\n",
    "\n",
    "# Create a ComponentDefinition for the genetic circuit\n",
    "genetic_cicuit = sbol2.ComponentDefinition('genetic_circuit', sbol2.BIOPAX_DNA)\n",
    "doc.addComponentDefinition(example_component_definition)\n",
    "\n",
    "# Create the Components for each part of the genetic circuit\n",
    "\n",
    "promoter = sbol2.ComponentDefinition('promoter', sbol2.BIOPAX_DNA)\n",
    "\n",
    "# Component for the first loxP site\n",
    "loxP1 = sbol2.ComponentDefinition('loxP_site_1', sbol2.BIOPAX_DNA)\n",
    "loxP1_seq = sbol2.Sequence('loxP_seq_1', 'ATAACTTCGTATAATGTATGCTATACGAAGTTAT', sbol2.SBOL_ENCODING_IUPAC)\n",
    "loxP1.sequences = [loxP1_seq.identity]\n",
    "doc.addComponentDefinition(loxP1)"
   ]
  }
 ],
 "metadata": {
  "language_info": {
   "name": "python"
  }
 },
 "nbformat": 4,
 "nbformat_minor": 2
}
