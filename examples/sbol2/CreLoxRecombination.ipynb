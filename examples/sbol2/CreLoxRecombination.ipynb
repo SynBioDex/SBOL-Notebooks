{
 "cells": [
  {
   "cell_type": "markdown",
   "metadata": {},
   "source": [
    "## Representing Cre-Lox Recombination with SBOL2\n",
    "\n",
    "Cre-Lox recombination is a site-specific recombination event, often used to modify sequences in synthetic biology by flipping or excising segments of DNA. This can be used to activate or deactivate genes or other elements.\n",
    "\n",
    "In this example, we will represent a situation where an unknown coding sequence (CDS) is initially in the wrong orientation and flanked by two loxP recombination sites. Upon recombination, the CDS will be flipped into the correct orientation. We'll use SBOL2 concepts like `Component`, `SequenceAnnotation`, `Range`, `GenericLocation`, and `SequenceConstraint` to model this event."
   ]
  },
  {
   "cell_type": "code",
   "execution_count": 6,
   "metadata": {},
   "outputs": [],
   "source": [
    "import sbol2\n",
    "\n",
    "# Create an SBOL document\n",
    "doc = sbol2.Document()\n",
    "\n",
    "# Set a namespace for the document\n",
    "sbol2.setHomespace('https://github.com/SynBioDex/SBOL-Notebooks')\n",
    "\n",
    "# Create a ComponentDefinition for the entire Cre-Lox recombination system\n",
    "recombination_system = sbol2.ComponentDefinition('CreLox_Recombination_System', sbol2.BIOPAX_DNA)\n",
    "doc.addComponentDefinition(recombination_system)\n",
    "\n",
    "# Create the Components for the Cre-Lox recombination sites\n",
    "# Component for the first loxP site\n",
    "loxP1 = sbol2.ComponentDefinition('loxP_site_1', sbol2.BIOPAX_DNA)\n",
    "loxP1_seq = sbol2.Sequence('loxP_seq_1', 'ATAACTTCGTATAATGTATGCTATACGAAGTTAT', sbol2.SBOL_ENCODING_IUPAC)\n",
    "loxP1.sequences = [loxP1_seq.identity]\n",
    "doc.addComponentDefinition(loxP1)\n",
    "\n",
    "# Component for the second loxP site\n",
    "loxP2 = sbol2.ComponentDefinition('loxP_site_2', sbol2.BIOPAX_DNA)\n",
    "loxP2_seq = sbol2.Sequence('loxP_seq_2', 'ATAACTTCGTATAATGTATGCTATACGAAGTTAT', sbol2.SBOL_ENCODING_IUPAC)\n",
    "loxP2.sequences = [loxP2_seq.identity]\n",
    "doc.addComponentDefinition(loxP2)\n",
    "\n",
    "# Create a Component for the CDS (Coding Sequence)\n",
    "# The CDS is unknown or \"not yet selected,\" so we can use a generic placeholder sequence\n",
    "cds = sbol2.ComponentDefinition('unknown_CDS', sbol2.BIOPAX_DNA)\n",
    "cds_seq = sbol2.Sequence('unknown_cds_seq', 'NNNNNNNNNNNNNNNNNNNNNNNNNNNNNNNNNNNNNN', sbol2.SBOL_ENCODING_IUPAC)\n",
    "cds.sequences = [cds_seq.identity]\n",
    "doc.addComponentDefinition(cds)\n",
    "\n",
    "# Add the loxP sites and CDS as components to the CreLox_Recombination_System ComponentDefinition\n",
    "loxP1_comp = recombination_system.components.create('loxP1_component')\n",
    "loxP1_comp.definition = loxP1.persistentIdentity\n",
    "\n",
    "cds_comp = recombination_system.components.create('cds_component')\n",
    "cds_comp.definition = cds.persistentIdentity\n",
    "\n",
    "loxP2_comp = recombination_system.components.create('loxP2_component')\n",
    "loxP2_comp.definition = loxP2.persistentIdentity\n",
    "\n",
    "# Create SequenceAnnotations to represent the loxP sites and the CDS\n",
    "# Annotation for the first loxP site\n",
    "loxP1_annotation = sbol2.SequenceAnnotation('loxP1_annotation')\n",
    "loxP1_range = sbol2.Range('loxP1_range', 1, len(loxP1_seq.elements))\n",
    "loxP1_annotation.locations.add(loxP1_range)\n",
    "loxP1.sequenceAnnotations.add(loxP1_annotation)\n",
    "\n",
    "# GenericLocation for the CDS (unknown or not yet selected, so we leave boundaries flexible)\n",
    "cds_annotation = sbol2.SequenceAnnotation('cds_annotation')\n",
    "cds_location = sbol2.GenericLocation('cds_generic_location')\n",
    "cds_location.orientation = sbol2.SBOL_ORIENTATION_REVERSE_COMPLEMENT  # Initially reverse\n",
    "cds_annotation.locations.add(cds_location)\n",
    "cds.sequenceAnnotations.add(cds_annotation)\n",
    "\n",
    "# GenericLocation for the second loxP site (second recombination site)\n",
    "loxP2_annotation = sbol2.SequenceAnnotation('loxP2_annotation')\n",
    "loxP2_location = sbol2.GenericLocation('loxP2_generic_location')\n",
    "loxP2_location.orientation = sbol2.SBOL_ORIENTATION_INLINE\n",
    "loxP2_annotation.locations.add(loxP2_location)\n",
    "loxP2.sequenceAnnotations.add(loxP2_annotation)\n",
    "\n",
    "# Create SequenceConstraints to describe the relationships\n",
    "# Constraint to ensure that loxP1 and CDS are adjacent\n",
    "constraint1 = recombination_system.sequenceConstraints.create('loxP1_to_CDS')\n",
    "constraint1.subject = loxP1_comp.identity\n",
    "constraint1.object = cds_comp.identity\n",
    "constraint1.restriction = sbol2.SBOL_RESTRICTION_PRECEDES\n",
    "\n",
    "# Constraint to ensure that CDS and loxP2 are adjacent\n",
    "constraint2 = recombination_system.sequenceConstraints.create('CDS_to_loxP2')\n",
    "constraint2.subject = cds_comp.identity\n",
    "constraint2.object = loxP2_comp.identity\n",
    "constraint2.restriction = sbol2.SBOL_RESTRICTION_PRECEDES"
   ]
  },
  {
   "cell_type": "code",
   "execution_count": 7,
   "metadata": {},
   "outputs": [
    {
     "data": {
      "text/plain": [
       "'Valid.'"
      ]
     },
     "execution_count": 7,
     "metadata": {},
     "output_type": "execute_result"
    }
   ],
   "source": [
    "# Validate the document to ensure compliance with SBOL standards\n",
    "doc.validate()"
   ]
  },
  {
   "cell_type": "code",
   "execution_count": 8,
   "metadata": {},
   "outputs": [
    {
     "data": {
      "text/plain": [
       "'Valid.'"
      ]
     },
     "execution_count": 8,
     "metadata": {},
     "output_type": "execute_result"
    }
   ],
   "source": [
    "# Save the document to an SBOL file\n",
    "doc.write('cre_lox_recombination.xml')"
   ]
  },
  {
   "cell_type": "markdown",
   "metadata": {},
   "source": [
    "### Explanation\n",
    "\n",
    "In this example, we modeled a Cre-Lox recombination system:\n",
    "\n",
    "1. **Cre-Lox Recombination System**: We defined a `ComponentDefinition` to represent the entire recombination system. This component holds the loxP sites and the unknown CDS as its sub-components.\n",
    "   \n",
    "2. **loxP Sites**: We created two `Component` objects representing the loxP recombination sites. Each loxP site is linked to a known DNA sequence and added as a component to the system.\n",
    "\n",
    "3. **Unknown CDS**: We defined an unknown or not-yet-selected coding sequence (CDS) using `GenericLocation`, which allows us to keep the boundaries flexible and represents the CDS in reverse complement orientation. The CDS is also added as a component to the system.\n",
    "\n",
    "4. **SequenceAnnotations**: We created `SequenceAnnotations` for each element (loxP sites and CDS), using a `Range` for the first loxP site and `GenericLocation` for the CDS and the second loxP site, enabling flexible positioning and orientation.\n",
    "\n",
    "5. **SequenceConstraints**: Two `SequenceConstraint` objects were added to ensure that the CDS is flanked by the loxP sites in the correct order. These constraints enforce that:\n",
    "   - The first loxP site precedes the CDS.\n",
    "   - The CDS precedes the second loxP site.\n",
    "\n",
    "This setup simulates a Cre-Lox recombination event, where the recombination between the two loxP sites would flip the unknown CDS into the correct orientation, potentially activating it. By modeling the system this way, we maintain flexibility in defining the sequence, structure, and relationships between components."
   ]
  }
 ],
 "metadata": {
  "kernelspec": {
   "display_name": "sbol_env",
   "language": "python",
   "name": "python3"
  },
  "language_info": {
   "codemirror_mode": {
    "name": "ipython",
    "version": 3
   },
   "file_extension": ".py",
   "mimetype": "text/x-python",
   "name": "python",
   "nbconvert_exporter": "python",
   "pygments_lexer": "ipython3",
   "version": "3.11.6"
  }
 },
 "nbformat": 4,
 "nbformat_minor": 2
}
