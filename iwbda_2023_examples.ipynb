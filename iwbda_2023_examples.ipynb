{
  "cells": [
    {
      "cell_type": "markdown",
      "metadata": {
        "id": "FkjiTrQtIYH0"
      },
      "source": [
        "# IWBDA 2023 SBOL 3 Tutorial\n",
        "\n",
        "### September 2023\n",
        "This tutorial code goes with the slides at:\n",
        "\n",
        "https://github.com/SynBioDex/Community-Media/blob/master/2023/IWBDA23/SBOL3-IWBDA-2023.pptx"
      ]
    },
    {
      "cell_type": "markdown",
      "source": [
        "Install the modules. SBOL-utilities also installs pySBOL3 and tyto as dependencies."
      ],
      "metadata": {
        "id": "yW_T8bi4KLD3"
      }
    },
    {
      "cell_type": "code",
      "source": [
        "!pip install -q sbol_utilities"
      ],
      "metadata": {
        "id": "jFzWRVBX7wD4"
      },
      "execution_count": 1,
      "outputs": []
    },
    {
      "cell_type": "markdown",
      "metadata": {
        "id": "zGdJurSvIYH2"
      },
      "source": [
        "Import the modules"
      ]
    },
    {
      "cell_type": "code",
      "execution_count": 2,
      "metadata": {
        "id": "8Qew43-QIYH2"
      },
      "outputs": [],
      "source": [
        "from sbol3 import *\n",
        "from sbol_utilities.calculate_sequences import compute_sequence\n",
        "from sbol_utilities.component import *\n",
        "import tyto"
      ]
    },
    {
      "cell_type": "markdown",
      "metadata": {
        "id": "55dDQXdNIYH3"
      },
      "source": [
        "Set the default namespace for new objects and create a document"
      ]
    },
    {
      "cell_type": "code",
      "execution_count": 3,
      "metadata": {
        "id": "XtscN3CLIYH3"
      },
      "outputs": [],
      "source": [
        "set_namespace('https://synbiohub.org/public/igem/')\n",
        "doc = Document()"
      ]
    },
    {
      "cell_type": "markdown",
      "metadata": {
        "id": "7vPfynFnIYH3"
      },
      "source": [
        "# Slide 26: GFP expression cassette\n",
        "Construct a simple part and add it to the Document."
      ]
    },
    {
      "cell_type": "code",
      "execution_count": 4,
      "metadata": {
        "id": "YcHQIp4VIYH3"
      },
      "outputs": [],
      "source": [
        "i13504 = Component('i13504', SBO_DNA)\n",
        "i13504.name = 'iGEM 2016 interlab reporter'\n",
        "i13504.description = 'GFP expression cassette used for 2016 iGEM interlab study'\n",
        "i13504.roles.append(tyto.SO.engineered_region)"
      ]
    },
    {
      "cell_type": "markdown",
      "metadata": {
        "id": "rce5ykc8IYH3"
      },
      "source": [
        "Add the GFP expression cassette to the document.\n",
        "Notice that the object added is also returned, so this can be used as a pass-through call."
      ]
    },
    {
      "cell_type": "code",
      "execution_count": null,
      "metadata": {
        "id": "bAhLliChIYH3"
      },
      "outputs": [],
      "source": [
        "doc.add(i13504)"
      ]
    },
    {
      "cell_type": "markdown",
      "metadata": {
        "id": "fS3B7PY7IYH4"
      },
      "source": [
        "# Slide 28: Expression cassette parts\n",
        "Here we will create a part-subpart hierarchy. We will also start using (SBOL-Utilities)[https://github.com/synbiodex/sbol-utilities] to make it easier to create parts and to assemble those parts into a hierarchy.\n",
        "\n",
        "First, create the RBS component..."
      ]
    },
    {
      "cell_type": "code",
      "execution_count": 6,
      "metadata": {
        "id": "c-K7gMuhIYH4"
      },
      "outputs": [],
      "source": [
        "b0034, b0034_seq = doc.add(rbs('B0034', sequence='aaagaggagaaa', name='RBS (Elowitz 1999)'))"
      ]
    },
    {
      "cell_type": "markdown",
      "metadata": {
        "id": "Fb-4vRiPIYH4"
      },
      "source": [
        "Next, create the GFP component"
      ]
    },
    {
      "cell_type": "code",
      "execution_count": 7,
      "metadata": {
        "id": "RMMOMnWvIYH4"
      },
      "outputs": [],
      "source": [
        "e0040_sequence = 'atgcgtaaaggagaagaacttttcactggagttgtcccaattcttgttgaattagatggtgatgttaatgggcacaaattttctgtcagtggagagggtgaaggtgatgcaacatacggaaaacttacccttaaatttatttgcactactggaaaactacctgttccatggccaacacttgtcactactttcggttatggtgttcaatgctttgcgagatacccagatcatatgaaacagcatgactttttcaagagtgccatgcccgaaggttatgtacaggaaagaactatatttttcaaagatgacgggaactacaagacacgtgctgaagtcaagtttgaaggtgatacccttgttaatagaatcgagttaaaaggtattgattttaaagaagatggaaacattcttggacacaaattggaatacaactataactcacacaatgtatacatcatggcagacaaacaaaagaatggaatcaaagttaacttcaaaattagacacaacattgaagatggaagcgttcaactagcagaccattatcaacaaaatactccaattggcgatggccctgtccttttaccagacaaccattacctgtccacacaatctgccctttcgaaagatcccaacgaaaagagagaccacatggtccttcttgagtttgtaacagctgctgggattacacatggcatggatgaactatacaaataataa'\n",
        "e0040, _ = doc.add(cds('E0040', sequence=e0040_sequence, name='GFP'))"
      ]
    },
    {
      "cell_type": "markdown",
      "metadata": {
        "id": "2hEgO_O8IYH4"
      },
      "source": [
        "Finally, create the terminator"
      ]
    },
    {
      "cell_type": "code",
      "execution_count": 8,
      "metadata": {
        "id": "zO2PmFYzIYH4"
      },
      "outputs": [],
      "source": [
        "b0015_sequence = 'ccaggcatcaaataaaacgaaaggctcagtcgaaagactgggcctttcgttttatctgttgtttgtcggtgaacgctctctactagagtcacactggctcaccttcgggtgggcctttctgcgtttata'\n",
        "b0015, _ = doc.add(terminator('B0015', sequence=b0015_sequence, name='double terminator'))"
      ]
    },
    {
      "cell_type": "markdown",
      "metadata": {
        "id": "XtoNM_roIYH4"
      },
      "source": [
        "Now construct the part-subpart hierarchy and order the parts: RBS before CDS, CDS before terminator"
      ]
    },
    {
      "cell_type": "code",
      "execution_count": null,
      "metadata": {
        "id": "zZPoaJvjIYH4"
      },
      "outputs": [],
      "source": [
        "order(b0034, e0040, i13504)\n",
        "order(e0040, b0015, i13504)"
      ]
    },
    {
      "cell_type": "markdown",
      "metadata": {
        "id": "2Mooo8r5IYH5"
      },
      "source": [
        "# Slide 30: Location of a SubComponent\n",
        "\n",
        "Here we add base coordinates to SubComponents.\n",
        "\n",
        "But first, use `compute_sequence` to get the full sequence for the BBa_I13504 device\n",
        "\n",
        "See http://parts.igem.org/Part:BBa_I13504"
      ]
    },
    {
      "cell_type": "code",
      "execution_count": 10,
      "metadata": {
        "id": "81ul1slYIYH5"
      },
      "outputs": [],
      "source": [
        "i13504_seq = compute_sequence(i13504)"
      ]
    },
    {
      "cell_type": "markdown",
      "metadata": {
        "id": "MIrN7NKqIYH5"
      },
      "source": [
        "`compute_sequence` added `Range`s to the subcomponents. Check one of those ranges to see that the values are what we expect.\n",
        "\n",
        "The expected range of the terminator is (733, 861)."
      ]
    },
    {
      "cell_type": "code",
      "execution_count": null,
      "metadata": {
        "id": "_HenF2XsIYH5"
      },
      "outputs": [],
      "source": [
        "b0015_subcomponent = next(f for f in i13504.features if f.instance_of == b0015.identity)\n",
        "b0015_range = b0015_subcomponent.locations[0]\n",
        "print(f'Range of {b0015.display_name}: ({b0015_range.start}, {b0015_range.end})')"
      ]
    },
    {
      "cell_type": "markdown",
      "metadata": {
        "id": "70LClae4IYH5"
      },
      "source": [
        "# Slide 32: GFP production from expression cassette\n",
        "In this example, we will create a system representation that includes DNA, proteins, and interactions.\n",
        "\n",
        "First, create the system representation.  `functional_component` creates this for us."
      ]
    },
    {
      "cell_type": "code",
      "execution_count": null,
      "metadata": {
        "id": "wtuF1bczIYH5"
      },
      "outputs": [],
      "source": [
        "i13504_system = functional_component('i13504_system')\n",
        "doc.add(i13504_system)"
      ]
    },
    {
      "cell_type": "markdown",
      "metadata": {
        "id": "36ZGcfgYIYH5"
      },
      "source": [
        "The system has two physical subcomponents, the expression construct and the expressed GFP protein. We already created the expression construct. Now create the GFP protein.\n",
        "`ed_protein` creates an \"externally defined protein\""
      ]
    },
    {
      "cell_type": "code",
      "execution_count": 13,
      "metadata": {
        "id": "uM9nijCKIYH5"
      },
      "outputs": [],
      "source": [
        "gfp = add_feature(i13504_system, ed_protein('https://www.fpbase.org/protein/gfpmut3/', name='GFP'))"
      ]
    },
    {
      "cell_type": "markdown",
      "metadata": {
        "id": "x6hKI3MaIYH5"
      },
      "source": [
        "Now create the part-subpart hierarchy."
      ]
    },
    {
      "cell_type": "code",
      "execution_count": 14,
      "metadata": {
        "id": "7Pv8QyBaIYH5"
      },
      "outputs": [],
      "source": [
        "i13504_subcomponent = add_feature(i13504_system, i13504)"
      ]
    },
    {
      "cell_type": "markdown",
      "metadata": {
        "id": "Fkv_k8heIYH6"
      },
      "source": [
        "Use a ComponentReference to link SubComponents in a multi-level hierarchy"
      ]
    },
    {
      "cell_type": "code",
      "execution_count": 15,
      "metadata": {
        "id": "WFI5GuowIYH6"
      },
      "outputs": [],
      "source": [
        "e0040_subcomponent = next(f for f in i13504.features if f.instance_of == e0040.identity)\n",
        "e0040_reference = ComponentReference(i13504_subcomponent, e0040_subcomponent)\n",
        "i13504_system.features.append(e0040_reference)"
      ]
    },
    {
      "cell_type": "markdown",
      "metadata": {
        "id": "z9Zk_amyIYH6"
      },
      "source": [
        "Make the Interaction.\n",
        "\n",
        "Interaction type: SBO:0000589 (genetic production)\n",
        "\n",
        "Participation roles: SBO:0000645 (template), SBO:0000011 (product)"
      ]
    },
    {
      "cell_type": "code",
      "execution_count": null,
      "metadata": {
        "id": "1cDuJ2HjIYH6"
      },
      "outputs": [],
      "source": [
        "add_interaction(tyto.SBO.genetic_production,\n",
        "                participants={gfp: tyto.SBO.product, e0040_reference: tyto.SBO.template})"
      ]
    },
    {
      "cell_type": "markdown",
      "source": [
        "# Slide 34: Concatenating and Reusing Components\n",
        "Connecting the `i13504_system` with promoters to drive expression is much like building `i13504`: selecting features and ordering them.\n",
        "\n",
        "First, we create the two promoters:"
      ],
      "metadata": {
        "id": "S9VebXDxAZXf"
      }
    },
    {
      "cell_type": "code",
      "source": [
        "J23101_sequence = 'tttacagctagctcagtcctaggtattatgctagc'\n",
        "J23101, _ = doc.add(promoter('J23101', sequence=J23101_sequence))\n",
        "J23106_sequence = 'tttacggctagctcagtcctaggtatagtgctagc'\n",
        "J23106, _ = doc.add(promoter('J23106', sequence=J23106_sequence))"
      ],
      "metadata": {
        "id": "hsJrS0T5Bq3K"
      },
      "execution_count": 17,
      "outputs": []
    },
    {
      "cell_type": "markdown",
      "source": [
        "Then we connect them to `ComponentReference` objects that reference the i13504 `SubComponent`"
      ],
      "metadata": {
        "id": "7qCsVyoeD_5g"
      }
    },
    {
      "cell_type": "code",
      "source": [
        "device1 = doc.add(functional_component('interlab16device1'))\n",
        "device1_i13504_system = add_feature(device1, SubComponent(i13504_system))\n",
        "order(J23101, ComponentReference(device1_i13504_system, i13504_subcomponent), device1)\n",
        "device2 = doc.add(functional_component('interlab16device2'))\n",
        "device2_i13504_system = add_feature(device2, SubComponent(i13504_system))\n",
        "order(J23106, ComponentReference(device2_i13504_system, i13504_subcomponent), device2)\n",
        "print(f'Device 1 second subcomponent points to {device1.constraints[0].object.lookup().refers_to.lookup().instance_of}')"
      ],
      "metadata": {
        "id": "lQMrM49-Bc3E"
      },
      "execution_count": null,
      "outputs": []
    },
    {
      "cell_type": "markdown",
      "source": [
        "# Slide 35: Making a collection\n",
        "We will just add the two devices that we built here, not all five on the slide"
      ],
      "metadata": {
        "id": "yCV279wpJt0W"
      }
    },
    {
      "cell_type": "code",
      "source": [
        "interlab16 = doc.add(Collection('interlab16',members=[device1, device2]))\n",
        "print(f'Members are {\", \".join(m.lookup().display_id for m in interlab16.members)}')"
      ],
      "metadata": {
        "id": "Ec6KyfVdJEDJ"
      },
      "execution_count": null,
      "outputs": []
    },
    {
      "cell_type": "markdown",
      "source": [
        "# Slide 36: Creating strains\n",
        "Describing an engineered strain is much like the other components we have defined, just with different types.\n",
        "\n",
        "First, we create `Component` objects for the DH5-a E. coli strain and the backbone vector we will use for the transfection."
      ],
      "metadata": {
        "id": "czvltdaL3Zri"
      }
    },
    {
      "cell_type": "code",
      "source": [
        "ecoli = doc.add(strain('Ecoli_DH5_alpha'))\n",
        "pSB1C3 = doc.add(Component('pSB1C3', SBO_DNA, roles=[tyto.SO.plasmid_vector]))"
      ],
      "metadata": {
        "id": "_myfWyZ63Ybc"
      },
      "execution_count": 20,
      "outputs": []
    },
    {
      "cell_type": "markdown",
      "source": [
        "Now create the engineered strain"
      ],
      "metadata": {
        "id": "ILm5CGXq34Mw"
      }
    },
    {
      "cell_type": "code",
      "source": [
        "device1_ecoli = doc.add(strain('device1_ecoli'))"
      ],
      "metadata": {
        "id": "KhZp4mfD3uCP"
      },
      "execution_count": 21,
      "outputs": []
    },
    {
      "cell_type": "markdown",
      "source": [
        "Create a local description of the vector as the combination of Device 1 and pSB1C3"
      ],
      "metadata": {
        "id": "rtRpJdqp3_DM"
      }
    },
    {
      "cell_type": "code",
      "source": [
        "plasmid = LocalSubComponent(SBO_DNA, roles=[tyto.SO.plasmid_vector], name=\"Interlab Device 1 in pSB1C3\")\n",
        "device1_ecoli.features.append(plasmid)\n",
        "device1_subcomponent = contains(plasmid, device1)\n",
        "contains(plasmid, pSB1C3)\n",
        "order(device1, pSB1C3, device1_ecoli)"
      ],
      "metadata": {
        "id": "uklBTAaE3YnJ"
      },
      "execution_count": null,
      "outputs": []
    },
    {
      "cell_type": "markdown",
      "source": [
        "And put the vector into the transformed strain"
      ],
      "metadata": {
        "id": "TaHeFePX5J-I"
      }
    },
    {
      "cell_type": "code",
      "source": [
        "contains(ecoli, plasmid, device1_ecoli)"
      ],
      "metadata": {
        "id": "hELEWWO25LQL"
      },
      "execution_count": null,
      "outputs": []
    },
    {
      "cell_type": "markdown",
      "source": [
        "# Slide 37: Defining an abstract interface\n",
        "To refer to the GFP, we need to peer down two levels of hierarchy"
      ],
      "metadata": {
        "id": "SJzQCmWm5Xio"
      }
    },
    {
      "cell_type": "code",
      "source": [
        "gfp_in_i13504_system = add_feature(device1_ecoli, ComponentReference(in_child_of=device1_i13504_system, refers_to=gfp))\n",
        "gfp_in_strain = add_feature(device1_ecoli, ComponentReference(in_child_of=device1_subcomponent, refers_to=gfp_in_i13504_system))\n",
        "device1_ecoli.interface = Interface(outputs=[gfp_in_strain])"
      ],
      "metadata": {
        "id": "P1USCqhe5aUK"
      },
      "execution_count": 24,
      "outputs": []
    },
    {
      "cell_type": "markdown",
      "source": [
        "# Slide 38: Linking to a model"
      ],
      "metadata": {
        "id": "ISsv6gJdBCED"
      }
    },
    {
      "cell_type": "code",
      "source": [
        "ode_model = doc.add(Model('my_iBioSIM_ODE', 'https://synbiohub...', tyto.EDAM.SBML, tyto.SBO.continuous_framework))\n",
        "device1_ecoli.models.append(ode_model)"
      ],
      "metadata": {
        "id": "5MiI_cnkBFmn"
      },
      "execution_count": 29,
      "outputs": []
    },
    {
      "cell_type": "markdown",
      "metadata": {
        "id": "jG4_hllTIYH6"
      },
      "source": [
        "## Validate the document\n",
        "`Document.validate` returns a validation report. If the report is empty, the document is valid."
      ]
    },
    {
      "cell_type": "code",
      "execution_count": null,
      "metadata": {
        "id": "ZmOjWPogIYH6"
      },
      "outputs": [],
      "source": [
        "report = doc.validate()\n",
        "if report:\n",
        "    print('Document is not valid')\n",
        "    print(f'Document has {len(report.errors)} errors')\n",
        "    print(f'Document has {len(report.warnings)} warnings')\n",
        "else:\n",
        "    print('Document is valid')"
      ]
    },
    {
      "cell_type": "markdown",
      "metadata": {
        "id": "Dd-5tn9KIYH6"
      },
      "source": [
        "# Finally, write the data out to a file"
      ]
    },
    {
      "cell_type": "code",
      "execution_count": 26,
      "metadata": {
        "id": "JL9StImaIYH6"
      },
      "outputs": [],
      "source": [
        "doc.write('i13504.nt', file_format=SORTED_NTRIPLES)"
      ]
    }
  ],
  "metadata": {
    "kernelspec": {
      "display_name": "Python 3 (ipykernel)",
      "language": "python",
      "name": "python3"
    },
    "language_info": {
      "codemirror_mode": {
        "name": "ipython",
        "version": 3
      },
      "file_extension": ".py",
      "mimetype": "text/x-python",
      "name": "python",
      "nbconvert_exporter": "python",
      "pygments_lexer": "ipython3",
      "version": "3.10.2"
    },
    "colab": {
      "provenance": []
    }
  },
  "nbformat": 4,
  "nbformat_minor": 0
}