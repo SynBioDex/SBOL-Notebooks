{
  "cells": [
    {
      "cell_type": "markdown",
      "metadata": {
        "id": "FkjiTrQtIYH0"
      },
      "source": [
        "# IWBDA 2023 SBOL 3 Tutorial\n",
        "\n",
        "### September 2023\n",
        "This tutorial code goes with the slides at:\n",
        "\n",
        "https://github.com/SynBioDex/Community-Media/blob/master/2023/IWBDA23/SBOL3-IWBDA-2023.pptx"
      ]
    },
    {
      "cell_type": "markdown",
      "source": [
        "Install the modules. SBOL-utilities also installs pySBOL3 and tyto as dependencies."
      ],
      "metadata": {
        "id": "yW_T8bi4KLD3"
      }
    },
    {
      "cell_type": "code",
      "source": [
        "!pip install -q sbol_utilities"
      ],
      "metadata": {
        "colab": {
          "base_uri": "https://localhost:8080/"
        },
        "id": "jFzWRVBX7wD4",
        "outputId": "b06c17d2-a011-4459-90f7-ea2f0f338b3c"
      },
      "execution_count": 2,
      "outputs": [
        {
          "output_type": "stream",
          "name": "stdout",
          "text": [
            "\u001b[?25l     \u001b[90m━━━━━━━━━━━━━━━━━━━━━━━━━━━━━━━━━━━━━━━━\u001b[0m \u001b[32m0.0/575.4 kB\u001b[0m \u001b[31m?\u001b[0m eta \u001b[36m-:--:--\u001b[0m\r\u001b[2K     \u001b[91m━━━━━━━\u001b[0m\u001b[91m╸\u001b[0m\u001b[90m━━━━━━━━━━━━━━━━━━━━━━━━━━━━━━━\u001b[0m \u001b[32m112.6/575.4 kB\u001b[0m \u001b[31m3.2 MB/s\u001b[0m eta \u001b[36m0:00:01\u001b[0m\r\u001b[2K     \u001b[90m━━━━━━━━━━━━━━━━━━━━━━━━━━━━━━━━━━━━━━━\u001b[0m \u001b[32m575.4/575.4 kB\u001b[0m \u001b[31m8.5 MB/s\u001b[0m eta \u001b[36m0:00:00\u001b[0m\n",
            "\u001b[2K     \u001b[90m━━━━━━━━━━━━━━━━━━━━━━━━━━━━━━━━━━━━━━━━\u001b[0m \u001b[32m73.1/73.1 kB\u001b[0m \u001b[31m8.4 MB/s\u001b[0m eta \u001b[36m0:00:00\u001b[0m\n",
            "\u001b[2K     \u001b[90m━━━━━━━━━━━━━━━━━━━━━━━━━━━━━━━━━━━━━━━━\u001b[0m \u001b[32m8.5/8.5 MB\u001b[0m \u001b[31m71.5 MB/s\u001b[0m eta \u001b[36m0:00:00\u001b[0m\n",
            "\u001b[2K     \u001b[90m━━━━━━━━━━━━━━━━━━━━━━━━━━━━━━━━━━━━━━\u001b[0m \u001b[32m531.9/531.9 kB\u001b[0m \u001b[31m39.0 MB/s\u001b[0m eta \u001b[36m0:00:00\u001b[0m\n",
            "\u001b[2K     \u001b[90m━━━━━━━━━━━━━━━━━━━━━━━━━━━━━━━━━━━━━━━━\u001b[0m \u001b[32m3.1/3.1 MB\u001b[0m \u001b[31m97.5 MB/s\u001b[0m eta \u001b[36m0:00:00\u001b[0m\n",
            "\u001b[2K     \u001b[90m━━━━━━━━━━━━━━━━━━━━━━━━━━━━━━━━━━━━━━\u001b[0m \u001b[32m824.0/824.0 kB\u001b[0m \u001b[31m57.3 MB/s\u001b[0m eta \u001b[36m0:00:00\u001b[0m\n",
            "\u001b[2K     \u001b[90m━━━━━━━━━━━━━━━━━━━━━━━━━━━━━━━━━━━━━━\u001b[0m \u001b[32m238.8/238.8 kB\u001b[0m \u001b[31m20.7 MB/s\u001b[0m eta \u001b[36m0:00:00\u001b[0m\n",
            "\u001b[2K     \u001b[90m━━━━━━━━━━━━━━━━━━━━━━━━━━━━━━━━━━━━━━━━\u001b[0m \u001b[32m41.7/41.7 kB\u001b[0m \u001b[31m4.1 MB/s\u001b[0m eta \u001b[36m0:00:00\u001b[0m\n",
            "\u001b[2K     \u001b[90m━━━━━━━━━━━━━━━━━━━━━━━━━━━━━━━━━━━━━━━━\u001b[0m \u001b[32m1.2/1.2 MB\u001b[0m \u001b[31m73.5 MB/s\u001b[0m eta \u001b[36m0:00:00\u001b[0m\n",
            "\u001b[2K     \u001b[90m━━━━━━━━━━━━━━━━━━━━━━━━━━━━━━━━━━━━━━━━\u001b[0m \u001b[32m85.0/85.0 kB\u001b[0m \u001b[31m8.5 MB/s\u001b[0m eta \u001b[36m0:00:00\u001b[0m\n",
            "\u001b[?25h  Preparing metadata (setup.py) ... \u001b[?25l\u001b[?25hdone\n",
            "\u001b[2K     \u001b[90m━━━━━━━━━━━━━━━━━━━━━━━━━━━━━━━━━━━━━━\u001b[0m \u001b[32m232.6/232.6 kB\u001b[0m \u001b[31m24.4 MB/s\u001b[0m eta \u001b[36m0:00:00\u001b[0m\n",
            "\u001b[2K     \u001b[90m━━━━━━━━━━━━━━━━━━━━━━━━━━━━━━━━━━━━━━\u001b[0m \u001b[32m528.1/528.1 kB\u001b[0m \u001b[31m43.8 MB/s\u001b[0m eta \u001b[36m0:00:00\u001b[0m\n",
            "\u001b[2K     \u001b[90m━━━━━━━━━━━━━━━━━━━━━━━━━━━━━━━━━━━━━━━━\u001b[0m \u001b[32m67.8/67.8 kB\u001b[0m \u001b[31m7.3 MB/s\u001b[0m eta \u001b[36m0:00:00\u001b[0m\n",
            "\u001b[2K     \u001b[90m━━━━━━━━━━━━━━━━━━━━━━━━━━━━━━━━━━━━━━━━\u001b[0m \u001b[32m54.5/54.5 kB\u001b[0m \u001b[31m5.2 MB/s\u001b[0m eta \u001b[36m0:00:00\u001b[0m\n",
            "\u001b[?25h  Building wheel for pylatex (setup.py) ... \u001b[?25l\u001b[?25hdone\n"
          ]
        }
      ]
    },
    {
      "cell_type": "markdown",
      "metadata": {
        "id": "zGdJurSvIYH2"
      },
      "source": [
        "\n",
        "\n",
        "```\n",
        "# This is formatted as code\n",
        "```\n",
        "\n",
        "Import the modules"
      ]
    },
    {
      "cell_type": "code",
      "execution_count": 3,
      "metadata": {
        "id": "8Qew43-QIYH2"
      },
      "outputs": [],
      "source": [
        "from sbol3 import *\n",
        "from sbol_utilities.calculate_sequences import compute_sequence\n",
        "from sbol_utilities.component import *\n",
        "import tyto"
      ]
    },
    {
      "cell_type": "markdown",
      "metadata": {
        "id": "55dDQXdNIYH3"
      },
      "source": [
        "Set the default namespace for new objects and create a document"
      ]
    },
    {
      "cell_type": "code",
      "execution_count": 4,
      "metadata": {
        "id": "XtscN3CLIYH3"
      },
      "outputs": [],
      "source": [
        "set_namespace('https://synbiohub.org/public/igem/')\n",
        "doc = Document()"
      ]
    },
    {
      "cell_type": "markdown",
      "metadata": {
        "id": "7vPfynFnIYH3"
      },
      "source": [
        "# Slide 26: GFP expression cassette\n",
        "Construct a simple part and add it to the Document."
      ]
    },
    {
      "cell_type": "code",
      "execution_count": 5,
      "metadata": {
        "id": "YcHQIp4VIYH3"
      },
      "outputs": [],
      "source": [
        "i13504 = Component('i13504', SBO_DNA)\n",
        "i13504.name = 'iGEM 2016 interlab reporter'\n",
        "i13504.description = 'GFP expression cassette used for 2016 iGEM interlab study'\n",
        "i13504.roles.append(tyto.SO.engineered_region)"
      ]
    },
    {
      "cell_type": "markdown",
      "metadata": {
        "id": "rce5ykc8IYH3"
      },
      "source": [
        "Add the GFP expression cassette to the document.\n",
        "Notice that the object added is also returned, so this can be used as a pass-through call."
      ]
    },
    {
      "cell_type": "code",
      "execution_count": 6,
      "metadata": {
        "id": "bAhLliChIYH3",
        "colab": {
          "base_uri": "https://localhost:8080/"
        },
        "outputId": "6b78eba0-58da-413d-f191-28ac18212f54"
      },
      "outputs": [
        {
          "output_type": "execute_result",
          "data": {
            "text/plain": [
              "<sbol3.component.Component at 0x7afc1c210790>"
            ]
          },
          "metadata": {},
          "execution_count": 6
        }
      ],
      "source": [
        "doc.add(i13504)"
      ]
    },
    {
      "cell_type": "markdown",
      "metadata": {
        "id": "fS3B7PY7IYH4"
      },
      "source": [
        "# Slide 28: Expression cassette parts\n",
        "Here we will create a part-subpart hierarchy. We will also start using (SBOL-Utilities)[https://github.com/synbiodex/sbol-utilities] to make it easier to create parts and to assemble those parts into a hierarchy.\n",
        "\n",
        "First, create the RBS component..."
      ]
    },
    {
      "cell_type": "code",
      "execution_count": 7,
      "metadata": {
        "id": "c-K7gMuhIYH4"
      },
      "outputs": [],
      "source": [
        "b0034, b0034_seq = doc.add(rbs('B0034', sequence='aaagaggagaaa', name='RBS (Elowitz 1999)'))"
      ]
    },
    {
      "cell_type": "markdown",
      "metadata": {
        "id": "Fb-4vRiPIYH4"
      },
      "source": [
        "Next, create the GFP component"
      ]
    },
    {
      "cell_type": "code",
      "execution_count": 8,
      "metadata": {
        "id": "RMMOMnWvIYH4"
      },
      "outputs": [],
      "source": [
        "e0040_sequence = 'atgcgtaaaggagaagaacttttcactggagttgtcccaattcttgttgaattagatggtgatgttaatgggcacaaattttctgtcagtggagagggtgaaggtgatgcaacatacggaaaacttacccttaaatttatttgcactactggaaaactacctgttccatggccaacacttgtcactactttcggttatggtgttcaatgctttgcgagatacccagatcatatgaaacagcatgactttttcaagagtgccatgcccgaaggttatgtacaggaaagaactatatttttcaaagatgacgggaactacaagacacgtgctgaagtcaagtttgaaggtgatacccttgttaatagaatcgagttaaaaggtattgattttaaagaagatggaaacattcttggacacaaattggaatacaactataactcacacaatgtatacatcatggcagacaaacaaaagaatggaatcaaagttaacttcaaaattagacacaacattgaagatggaagcgttcaactagcagaccattatcaacaaaatactccaattggcgatggccctgtccttttaccagacaaccattacctgtccacacaatctgccctttcgaaagatcccaacgaaaagagagaccacatggtccttcttgagtttgtaacagctgctgggattacacatggcatggatgaactatacaaataataa'\n",
        "e0040, _ = doc.add(cds('E0040', sequence=e0040_sequence, name='GFP'))"
      ]
    },
    {
      "cell_type": "markdown",
      "metadata": {
        "id": "2hEgO_O8IYH4"
      },
      "source": [
        "Finally, create the terminator"
      ]
    },
    {
      "cell_type": "code",
      "execution_count": 9,
      "metadata": {
        "id": "zO2PmFYzIYH4"
      },
      "outputs": [],
      "source": [
        "b0015_sequence = 'ccaggcatcaaataaaacgaaaggctcagtcgaaagactgggcctttcgttttatctgttgtttgtcggtgaacgctctctactagagtcacactggctcaccttcgggtgggcctttctgcgtttata'\n",
        "b0015, _ = doc.add(terminator('B0015', sequence=b0015_sequence, name='double terminator'))"
      ]
    },
    {
      "cell_type": "markdown",
      "metadata": {
        "id": "XtoNM_roIYH4"
      },
      "source": [
        "Now construct the part-subpart hierarchy and order the parts: RBS before CDS, CDS before terminator"
      ]
    },
    {
      "cell_type": "code",
      "execution_count": 10,
      "metadata": {
        "id": "zZPoaJvjIYH4",
        "colab": {
          "base_uri": "https://localhost:8080/"
        },
        "outputId": "6a6c00c6-14ad-49cb-abc3-501a2fee306d"
      },
      "outputs": [
        {
          "output_type": "execute_result",
          "data": {
            "text/plain": [
              "<sbol3.subcomponent.SubComponent at 0x7afc1c2126e0>"
            ]
          },
          "metadata": {},
          "execution_count": 10
        }
      ],
      "source": [
        "order(b0034, e0040, i13504)\n",
        "order(e0040, b0015, i13504)"
      ]
    },
    {
      "cell_type": "markdown",
      "metadata": {
        "id": "2Mooo8r5IYH5"
      },
      "source": [
        "# Slide 30: Location of a SubComponent\n",
        "\n",
        "Here we add base coordinates to SubComponents.\n",
        "\n",
        "But first, use `compute_sequence` to get the full sequence for the BBa_I13504 device\n",
        "\n",
        "See http://parts.igem.org/Part:BBa_I13504"
      ]
    },
    {
      "cell_type": "code",
      "execution_count": 11,
      "metadata": {
        "id": "81ul1slYIYH5"
      },
      "outputs": [],
      "source": [
        "i13504_seq = compute_sequence(i13504)"
      ]
    },
    {
      "cell_type": "markdown",
      "metadata": {
        "id": "MIrN7NKqIYH5"
      },
      "source": [
        "`compute_sequence` added `Range`s to the subcomponents. Check one of those ranges to see that the values are what we expect.\n",
        "\n",
        "The expected range of the terminator is (733, 861)."
      ]
    },
    {
      "cell_type": "code",
      "execution_count": 12,
      "metadata": {
        "id": "_HenF2XsIYH5",
        "colab": {
          "base_uri": "https://localhost:8080/"
        },
        "outputId": "d49bf848-5104-4cf6-aad7-88b8520a16aa"
      },
      "outputs": [
        {
          "output_type": "stream",
          "name": "stdout",
          "text": [
            "Range of double terminator: (733, 861)\n"
          ]
        }
      ],
      "source": [
        "b0015_subcomponent = next(f for f in i13504.features if f.instance_of == b0015.identity)\n",
        "b0015_range = b0015_subcomponent.locations[0]\n",
        "print(f'Range of {b0015.display_name}: ({b0015_range.start}, {b0015_range.end})')"
      ]
    },
    {
      "cell_type": "markdown",
      "metadata": {
        "id": "70LClae4IYH5"
      },
      "source": [
        "# Slide 32: GFP production from expression cassette\n",
        "In this example, we will create a system representation that includes DNA, proteins, and interactions.\n",
        "\n",
        "First, create the system representation.  `functional_component` creates this for us."
      ]
    },
    {
      "cell_type": "code",
      "execution_count": 13,
      "metadata": {
        "id": "wtuF1bczIYH5",
        "colab": {
          "base_uri": "https://localhost:8080/"
        },
        "outputId": "1bc6d2a6-539e-469b-82ef-896de8ec5c93"
      },
      "outputs": [
        {
          "output_type": "execute_result",
          "data": {
            "text/plain": [
              "<sbol3.component.Component at 0x7afc1c24cfa0>"
            ]
          },
          "metadata": {},
          "execution_count": 13
        }
      ],
      "source": [
        "i13504_system = functional_component('i13504_system')\n",
        "doc.add(i13504_system)"
      ]
    },
    {
      "cell_type": "markdown",
      "metadata": {
        "id": "36ZGcfgYIYH5"
      },
      "source": [
        "The system has two physical subcomponents, the expression construct and the expressed GFP protein. We already created the expression construct. Now create the GFP protein.\n",
        "`ed_protein` creates an \"externally defined protein\""
      ]
    },
    {
      "cell_type": "code",
      "execution_count": 14,
      "metadata": {
        "id": "uM9nijCKIYH5"
      },
      "outputs": [],
      "source": [
        "gfp = add_feature(i13504_system, ed_protein('https://www.fpbase.org/protein/gfpmut3/', name='GFP'))"
      ]
    },
    {
      "cell_type": "markdown",
      "metadata": {
        "id": "x6hKI3MaIYH5"
      },
      "source": [
        "Now create the part-subpart hierarchy."
      ]
    },
    {
      "cell_type": "code",
      "execution_count": 15,
      "metadata": {
        "id": "7Pv8QyBaIYH5"
      },
      "outputs": [],
      "source": [
        "i13504_subcomponent = add_feature(i13504_system, i13504)"
      ]
    },
    {
      "cell_type": "markdown",
      "metadata": {
        "id": "Fkv_k8heIYH6"
      },
      "source": [
        "Use a ComponentReference to link SubComponents in a multi-level hierarchy"
      ]
    },
    {
      "cell_type": "code",
      "execution_count": 16,
      "metadata": {
        "id": "WFI5GuowIYH6"
      },
      "outputs": [],
      "source": [
        "e0040_subcomponent = next(f for f in i13504.features if f.instance_of == e0040.identity)\n",
        "e0040_reference = ComponentReference(i13504_subcomponent, e0040_subcomponent)\n",
        "i13504_system.features.append(e0040_reference)"
      ]
    },
    {
      "cell_type": "markdown",
      "metadata": {
        "id": "z9Zk_amyIYH6"
      },
      "source": [
        "Make the Interaction.\n",
        "\n",
        "Interaction type: SBO:0000589 (genetic production)\n",
        "\n",
        "Participation roles: SBO:0000645 (template), SBO:0000011 (product)"
      ]
    },
    {
      "cell_type": "code",
      "execution_count": 17,
      "metadata": {
        "id": "1cDuJ2HjIYH6",
        "colab": {
          "base_uri": "https://localhost:8080/"
        },
        "outputId": "cc683a25-b1ab-469f-bfb0-f6ac9102ab8b"
      },
      "outputs": [
        {
          "output_type": "execute_result",
          "data": {
            "text/plain": [
              "<sbol3.interaction.Interaction at 0x7afbff8399f0>"
            ]
          },
          "metadata": {},
          "execution_count": 17
        }
      ],
      "source": [
        "add_interaction(tyto.SBO.genetic_production,\n",
        "                participants={gfp: tyto.SBO.product, e0040_reference: tyto.SBO.template})"
      ]
    },
    {
      "cell_type": "markdown",
      "source": [
        "# Slide 34: Concatenating and Reusing Components\n",
        "Connecting the `i13504_system` with promoters to drive expression is much like building `i13504`: selecting features and ordering them.\n",
        "\n",
        "First, we create the two promoters:"
      ],
      "metadata": {
        "id": "S9VebXDxAZXf"
      }
    },
    {
      "cell_type": "code",
      "source": [
        "J23101_sequence = 'tttacagctagctcagtcctaggtattatgctagc'\n",
        "J23101, _ = doc.add(promoter('J23101', sequence=J23101_sequence))\n",
        "J23106_sequence = 'tttacggctagctcagtcctaggtatagtgctagc'\n",
        "J23106, _ = doc.add(promoter('J23106', sequence=J23106_sequence))"
      ],
      "metadata": {
        "id": "hsJrS0T5Bq3K"
      },
      "execution_count": 18,
      "outputs": []
    },
    {
      "cell_type": "markdown",
      "source": [
        "Then we connect them to `ComponentReference` objects that reference the i13504 `SubComponent`"
      ],
      "metadata": {
        "id": "7qCsVyoeD_5g"
      }
    },
    {
      "cell_type": "code",
      "source": [
        "device1 = doc.add(functional_component('interlab16device1'))\n",
        "order(J23101, ComponentReference(i13504_system, i13504_subcomponent), device1)\n",
        "device2 = doc.add(functional_component('interlab16device2'))\n",
        "order(J23106, ComponentReference(i13504_system, i13504_subcomponent), device2)\n",
        "print(f'Device 1 second subcomponent points to {device1.constraints[0].object.lookup().refers_to.lookup().instance_of}')"
      ],
      "metadata": {
        "id": "lQMrM49-Bc3E",
        "outputId": "7415947b-a9d1-4aa2-f40c-37fbe476babf",
        "colab": {
          "base_uri": "https://localhost:8080/"
        }
      },
      "execution_count": 19,
      "outputs": [
        {
          "output_type": "stream",
          "name": "stdout",
          "text": [
            "Device 1 second subcomponent points to https://synbiohub.org/public/igem/i13504\n"
          ]
        }
      ]
    },
    {
      "cell_type": "markdown",
      "source": [
        "# Slide 35: Making a collection\n",
        "We will just add the two devices that we built here, not all five on the slide"
      ],
      "metadata": {
        "id": "yCV279wpJt0W"
      }
    },
    {
      "cell_type": "code",
      "source": [
        "interlab16 = doc.add(Collection('interlab16',members=[device1, device2]))\n",
        "print(f'Members are {\", \".join(m.lookup().display_id for m in interlab16.members)}')"
      ],
      "metadata": {
        "id": "Ec6KyfVdJEDJ",
        "outputId": "ef3d803a-f67e-464a-f2d7-0d4d658d13d3",
        "colab": {
          "base_uri": "https://localhost:8080/"
        }
      },
      "execution_count": 20,
      "outputs": [
        {
          "output_type": "stream",
          "name": "stdout",
          "text": [
            "Members are interlab16device1, interlab16device2\n"
          ]
        }
      ]
    },
    {
      "cell_type": "markdown",
      "source": [
        "# Slide 36: Creating strains\n",
        "Describing an engineered strain is much like the other components we have defined, just with different types.\n",
        "\n",
        "First, we create `Component` objects for the DH5-a E. coli strain and the backbone vector we will use for the transfection."
      ],
      "metadata": {
        "id": "czvltdaL3Zri"
      }
    },
    {
      "cell_type": "code",
      "source": [
        "ecoli = doc.add(strain('Ecoli_DH5_alpha'))\n",
        "pSB1C3 = doc.add(Component('pSB1C3', SBO_DNA, roles=[tyto.SO.plasmid_vector]))"
      ],
      "metadata": {
        "id": "_myfWyZ63Ybc",
        "outputId": "6e02476e-cd86-4494-adfe-c63ee6d6a5e3",
        "colab": {
          "base_uri": "https://localhost:8080/",
          "height": 197
        }
      },
      "execution_count": 21,
      "outputs": [
        {
          "output_type": "error",
          "ename": "TypeError",
          "evalue": "ignored",
          "traceback": [
            "\u001b[0;31m---------------------------------------------------------------------------\u001b[0m",
            "\u001b[0;31mTypeError\u001b[0m                                 Traceback (most recent call last)",
            "\u001b[0;32m<ipython-input-21-75c4df287311>\u001b[0m in \u001b[0;36m<cell line: 2>\u001b[0;34m()\u001b[0m\n\u001b[1;32m      1\u001b[0m \u001b[0mecoli\u001b[0m \u001b[0;34m=\u001b[0m \u001b[0mdoc\u001b[0m\u001b[0;34m.\u001b[0m\u001b[0madd\u001b[0m\u001b[0;34m(\u001b[0m\u001b[0mstrain\u001b[0m\u001b[0;34m(\u001b[0m\u001b[0;34m'Ecoli_DH5_alpha'\u001b[0m\u001b[0;34m)\u001b[0m\u001b[0;34m)\u001b[0m\u001b[0;34m\u001b[0m\u001b[0;34m\u001b[0m\u001b[0m\n\u001b[0;32m----> 2\u001b[0;31m \u001b[0mpSB1C3\u001b[0m \u001b[0;34m=\u001b[0m \u001b[0mdoc\u001b[0m\u001b[0;34m.\u001b[0m\u001b[0madd\u001b[0m\u001b[0;34m(\u001b[0m\u001b[0mComponent\u001b[0m\u001b[0;34m(\u001b[0m\u001b[0;34m'pSB1C3'\u001b[0m\u001b[0;34m,\u001b[0m \u001b[0mSBO_DNA\u001b[0m\u001b[0;34m,\u001b[0m \u001b[0mtyto\u001b[0m\u001b[0;34m.\u001b[0m\u001b[0mSO\u001b[0m\u001b[0;34m.\u001b[0m\u001b[0mplasmid_vector\u001b[0m\u001b[0;34m)\u001b[0m\u001b[0;34m)\u001b[0m\u001b[0;34m\u001b[0m\u001b[0;34m\u001b[0m\u001b[0m\n\u001b[0m",
            "\u001b[0;31mTypeError\u001b[0m: Component.__init__() takes 3 positional arguments but 4 were given"
          ]
        }
      ]
    },
    {
      "cell_type": "markdown",
      "source": [
        "Now create the engineered strain"
      ],
      "metadata": {
        "id": "ILm5CGXq34Mw"
      }
    },
    {
      "cell_type": "code",
      "source": [
        "device1_ecoli = doc.add(strain('device1_ecoli'))"
      ],
      "metadata": {
        "id": "KhZp4mfD3uCP"
      },
      "execution_count": 25,
      "outputs": []
    },
    {
      "cell_type": "markdown",
      "source": [
        "Create a local description of the vector as the combination of Device 1 and pSB1C3"
      ],
      "metadata": {
        "id": "rtRpJdqp3_DM"
      }
    },
    {
      "cell_type": "code",
      "source": [
        "plasmid = LocalSubComponent(SBO_DNA, roles=[tyto.SO.plasmid_vector], name=\"Interlab Device 1 in pSB1C3\")\n",
        "device1_ecoli.features.append(plasmid)\n",
        "contains(plasmid, device1)\n",
        "contains(plasmid, pSB1C3)\n",
        "order(device1, pSB1C3, device1_ecoli)"
      ],
      "metadata": {
        "id": "uklBTAaE3YnJ",
        "outputId": "f6bf8503-ba13-4808-ccfa-7c8bc4580178",
        "colab": {
          "base_uri": "https://localhost:8080/",
          "height": 381
        }
      },
      "execution_count": 26,
      "outputs": [
        {
          "output_type": "error",
          "ename": "ValueError",
          "evalue": "ignored",
          "traceback": [
            "\u001b[0;31m---------------------------------------------------------------------------\u001b[0m",
            "\u001b[0;31mValueError\u001b[0m                                Traceback (most recent call last)",
            "\u001b[0;32m<ipython-input-26-b35f66a4bf76>\u001b[0m in \u001b[0;36m<cell line: 5>\u001b[0;34m()\u001b[0m\n\u001b[1;32m      3\u001b[0m \u001b[0mcontains\u001b[0m\u001b[0;34m(\u001b[0m\u001b[0mplasmid\u001b[0m\u001b[0;34m,\u001b[0m \u001b[0mdevice1\u001b[0m\u001b[0;34m)\u001b[0m\u001b[0;34m\u001b[0m\u001b[0;34m\u001b[0m\u001b[0m\n\u001b[1;32m      4\u001b[0m \u001b[0mcontains\u001b[0m\u001b[0;34m(\u001b[0m\u001b[0mplasmid\u001b[0m\u001b[0;34m,\u001b[0m \u001b[0mpSB1C3\u001b[0m\u001b[0;34m)\u001b[0m\u001b[0;34m\u001b[0m\u001b[0;34m\u001b[0m\u001b[0m\n\u001b[0;32m----> 5\u001b[0;31m \u001b[0morder\u001b[0m\u001b[0;34m(\u001b[0m\u001b[0mdevice1\u001b[0m\u001b[0;34m,\u001b[0m \u001b[0mpSB1C3\u001b[0m\u001b[0;34m)\u001b[0m\u001b[0;34m\u001b[0m\u001b[0;34m\u001b[0m\u001b[0m\n\u001b[0m",
            "\u001b[0;32m/usr/local/lib/python3.10/dist-packages/sbol_utilities/component.py\u001b[0m in \u001b[0;36morder\u001b[0;34m(five_prime, three_prime, system)\u001b[0m\n\u001b[1;32m    203\u001b[0m     \"\"\"\n\u001b[1;32m    204\u001b[0m     \u001b[0;31m# transform implicit arguments into explicit\u001b[0m\u001b[0;34m\u001b[0m\u001b[0;34m\u001b[0m\u001b[0m\n\u001b[0;32m--> 205\u001b[0;31m     \u001b[0msystem\u001b[0m \u001b[0;34m=\u001b[0m \u001b[0mensure_singleton_system\u001b[0m\u001b[0;34m(\u001b[0m\u001b[0msystem\u001b[0m\u001b[0;34m,\u001b[0m \u001b[0mfive_prime\u001b[0m\u001b[0;34m,\u001b[0m \u001b[0mthree_prime\u001b[0m\u001b[0;34m)\u001b[0m\u001b[0;34m\u001b[0m\u001b[0;34m\u001b[0m\u001b[0m\n\u001b[0m\u001b[1;32m    206\u001b[0m     \u001b[0mfive_prime\u001b[0m \u001b[0;34m=\u001b[0m \u001b[0mensure_singleton_feature\u001b[0m\u001b[0;34m(\u001b[0m\u001b[0msystem\u001b[0m\u001b[0;34m,\u001b[0m \u001b[0mfive_prime\u001b[0m\u001b[0;34m)\u001b[0m\u001b[0;34m\u001b[0m\u001b[0;34m\u001b[0m\u001b[0m\n\u001b[1;32m    207\u001b[0m     \u001b[0mthree_prime\u001b[0m \u001b[0;34m=\u001b[0m \u001b[0mensure_singleton_feature\u001b[0m\u001b[0;34m(\u001b[0m\u001b[0msystem\u001b[0m\u001b[0;34m,\u001b[0m \u001b[0mthree_prime\u001b[0m\u001b[0;34m)\u001b[0m\u001b[0;34m\u001b[0m\u001b[0;34m\u001b[0m\u001b[0m\n",
            "\u001b[0;32m/usr/local/lib/python3.10/dist-packages/sbol_utilities/component.py\u001b[0m in \u001b[0;36mensure_singleton_system\u001b[0;34m(system, *features)\u001b[0m\n\u001b[1;32m    154\u001b[0m         \u001b[0;32mreturn\u001b[0m \u001b[0msystem\u001b[0m\u001b[0;34m\u001b[0m\u001b[0;34m\u001b[0m\u001b[0m\n\u001b[1;32m    155\u001b[0m     \u001b[0;32melif\u001b[0m \u001b[0;32mnot\u001b[0m \u001b[0msystems\u001b[0m\u001b[0;34m:\u001b[0m\u001b[0;34m\u001b[0m\u001b[0;34m\u001b[0m\u001b[0m\n\u001b[0;32m--> 156\u001b[0;31m         \u001b[0;32mraise\u001b[0m \u001b[0mValueError\u001b[0m\u001b[0;34m(\u001b[0m\u001b[0;34mf'Could not find system: no features in {features}'\u001b[0m\u001b[0;34m)\u001b[0m\u001b[0;34m\u001b[0m\u001b[0;34m\u001b[0m\u001b[0m\n\u001b[0m\u001b[1;32m    157\u001b[0m     \u001b[0;32melse\u001b[0m\u001b[0;34m:\u001b[0m\u001b[0;34m\u001b[0m\u001b[0;34m\u001b[0m\u001b[0m\n\u001b[1;32m    158\u001b[0m         \u001b[0;32mraise\u001b[0m \u001b[0mValueError\u001b[0m\u001b[0;34m(\u001b[0m\u001b[0;34mf'Multiple systems referred to: {systems}'\u001b[0m\u001b[0;34m)\u001b[0m\u001b[0;34m\u001b[0m\u001b[0;34m\u001b[0m\u001b[0m\n",
            "\u001b[0;31mValueError\u001b[0m: Could not find system: no features in (<sbol3.component.Component object at 0x7afbff70c0d0>, <sbol3.component.Component object at 0x7afbfebf1990>)"
          ]
        }
      ]
    },
    {
      "cell_type": "code",
      "source": [
        "order(device1, pSB1C3, device1_ecoli)"
      ],
      "metadata": {
        "id": "sxPRdY1v4IFE",
        "outputId": "6b71e0f2-5215-48f5-ee4b-75eba90230d8",
        "colab": {
          "base_uri": "https://localhost:8080/"
        }
      },
      "execution_count": 32,
      "outputs": [
        {
          "output_type": "execute_result",
          "data": {
            "text/plain": [
              "<sbol3.subcomponent.SubComponent at 0x7afbfebf0af0>"
            ]
          },
          "metadata": {},
          "execution_count": 32
        }
      ]
    },
    {
      "cell_type": "markdown",
      "metadata": {
        "id": "jG4_hllTIYH6"
      },
      "source": [
        "## Validate the document\n",
        "`Document.validate` returns a validation report. If the report is empty, the document is valid."
      ]
    },
    {
      "cell_type": "code",
      "execution_count": 32,
      "metadata": {
        "id": "ZmOjWPogIYH6",
        "colab": {
          "base_uri": "https://localhost:8080/"
        },
        "outputId": "c2dc46e0-656d-4382-8b4f-bda54d210008"
      },
      "outputs": [
        {
          "output_type": "stream",
          "name": "stdout",
          "text": [
            "Document is valid\n"
          ]
        }
      ],
      "source": [
        "report = doc.validate()\n",
        "if report:\n",
        "    print('Document is not valid')\n",
        "    print(f'Document has {len(report.errors)} errors')\n",
        "    print(f'Document has {len(report.warnings)} warnings')\n",
        "else:\n",
        "    print('Document is valid')"
      ]
    },
    {
      "cell_type": "markdown",
      "metadata": {
        "id": "Dd-5tn9KIYH6"
      },
      "source": [
        "# Finally, write the data out to a file"
      ]
    },
    {
      "cell_type": "code",
      "execution_count": 20,
      "metadata": {
        "id": "JL9StImaIYH6"
      },
      "outputs": [],
      "source": [
        "doc.write('i13504.nt', file_format=SORTED_NTRIPLES)"
      ]
    }
  ],
  "metadata": {
    "kernelspec": {
      "display_name": "Python 3 (ipykernel)",
      "language": "python",
      "name": "python3"
    },
    "language_info": {
      "codemirror_mode": {
        "name": "ipython",
        "version": 3
      },
      "file_extension": ".py",
      "mimetype": "text/x-python",
      "name": "python",
      "nbconvert_exporter": "python",
      "pygments_lexer": "ipython3",
      "version": "3.10.2"
    },
    "colab": {
      "provenance": []
    }
  },
  "nbformat": 4,
  "nbformat_minor": 0
}