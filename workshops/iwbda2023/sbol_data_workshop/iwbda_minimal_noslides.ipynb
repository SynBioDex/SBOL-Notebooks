{
 "cells": [
  {
   "cell_type": "markdown",
   "id": "03939760",
   "metadata": {},
   "source": [
    "## 1 - Import dependencies\n",
    "\n",
    "**Using**\n",
    "\n",
    "- sbol3: package with sbol3 object constructors\n",
    "- sbol-utilities: has simpler, straightforward functions to add parts\n",
    "- tyto: to lookup ontology names"
   ]
  },
  {
   "cell_type": "code",
   "execution_count": 1,
   "id": "66a038a2",
   "metadata": {},
   "outputs": [],
   "source": [
    "from sbol3 import *\n",
    "from sbol_utilities.calculate_sequences import compute_sequence\n",
    "from sbol_utilities.component import *\n",
    "from sbol_utilities.helper_functions import url_to_identity\n",
    "import tyto"
   ]
  },
  {
   "cell_type": "markdown",
   "id": "48eb6ccf",
   "metadata": {},
   "source": [
    "## 2 - Set namespace and document"
   ]
  },
  {
   "cell_type": "code",
   "execution_count": 2,
   "id": "c83a832d",
   "metadata": {},
   "outputs": [],
   "source": [
    "set_namespace('https://synbiohub.org/public/igem/')\n",
    "doc = Document()"
   ]
  },
  {
   "cell_type": "markdown",
   "id": "be0205da",
   "metadata": {},
   "source": [
    "We're trying to create a minimal expression cassette device, with an rbs, cds and terminator:\n",
    "\n",
    "![basic_cassette](iwbda_minimal_noslides-1.png \"Basic expression cassette\")\n",
    "\n",
    "This does not have a promoter because that will be added later on to showcase a different functionality\n",
    "\n"
   ]
  },
  {
   "cell_type": "markdown",
   "id": "60c764b4",
   "metadata": {},
   "source": [
    "## 3 - Create device component"
   ]
  },
  {
   "cell_type": "code",
   "execution_count": 3,
   "id": "995f642f",
   "metadata": {},
   "outputs": [],
   "source": [
    "i13504 = Component('i13504', SBO_DNA)\n",
    "i13504.name = 'iGEM 2016 interlab reporter'\n",
    "i13504.description = 'GFP expression cassette used for 2016 iGEM interlab study'\n",
    "i13504.roles.append(tyto.SO.engineered_region)"
   ]
  },
  {
   "cell_type": "markdown",
   "id": "c887c33a",
   "metadata": {},
   "source": [
    "Add the GFP expression cassette to the document. Notice that the object added is also returned, so this can be used as a pass-through call.\n"
   ]
  },
  {
   "cell_type": "code",
   "execution_count": 4,
   "id": "c69fc895",
   "metadata": {},
   "outputs": [
    {
     "data": {
      "text/plain": [
       "<sbol3.component.Component at 0x2aca0e9ca10>"
      ]
     },
     "execution_count": 4,
     "metadata": {},
     "output_type": "execute_result"
    }
   ],
   "source": [
    "doc.add(i13504)"
   ]
  },
  {
   "cell_type": "markdown",
   "id": "b65666fb",
   "metadata": {},
   "source": [
    "Right now we have an object with a name and a description, but no parts or sequences.\n",
    "\n",
    "Let's create each part and add them to the document"
   ]
  },
  {
   "cell_type": "markdown",
   "id": "85f26975",
   "metadata": {},
   "source": [
    "## 4 - Create individual parts of the cassette\n",
    "\n",
    "Here we will create a part-subpart hierarchy. We will also start using [SBOL-Utilities](https://github.com/synbiodex/sbol-utilities) to make it easier to create parts and to assemble those parts into a hierarchy.\n",
    "\n",
    "![Cassette with parts](iwbda_minimal_noslides-2.png)\n",
    "\n",
    "First, create the **RBS component**..."
   ]
  },
  {
   "cell_type": "code",
   "execution_count": 5,
   "id": "4a7ce3ff",
   "metadata": {},
   "outputs": [],
   "source": [
    "b0034, b0034_seq = doc.add(rbs('B0034', sequence='aaagaggagaaa', name='RBS (Elowitz 1999)'))"
   ]
  },
  {
   "cell_type": "markdown",
   "id": "a93781d0",
   "metadata": {},
   "source": [
    "Next, create the **CDS component**"
   ]
  },
  {
   "cell_type": "code",
   "execution_count": 6,
   "id": "103bd29a",
   "metadata": {},
   "outputs": [],
   "source": [
    "e0040_sequence = 'atgcgtaaaggagaagaacttttcactggagttgtcccaattcttgttgaattagatggtgatgttaatgggcacaaattttctgtcagtggagagggtgaaggtgatgcaacatacggaaaacttacccttaaatttatttgcactactggaaaactacctgttccatggccaacacttgtcactactttcggttatggtgttcaatgctttgcgagatacccagatcatatgaaacagcatgactttttcaagagtgccatgcccgaaggttatgtacaggaaagaactatatttttcaaagatgacgggaactacaagacacgtgctgaagtcaagtttgaaggtgatacccttgttaatagaatcgagttaaaaggtattgattttaaagaagatggaaacattcttggacacaaattggaatacaactataactcacacaatgtatacatcatggcagacaaacaaaagaatggaatcaaagttaacttcaaaattagacacaacattgaagatggaagcgttcaactagcagaccattatcaacaaaatactccaattggcgatggccctgtccttttaccagacaaccattacctgtccacacaatctgccctttcgaaagatcccaacgaaaagagagaccacatggtccttcttgagtttgtaacagctgctgggattacacatggcatggatgaactatacaaataataa'\n",
    "e0040, _ = doc.add(cds('E0040', sequence=e0040_sequence, name='GFP'))"
   ]
  },
  {
   "cell_type": "markdown",
   "id": "e6390f35",
   "metadata": {},
   "source": [
    "Finally, create the **Terminator**"
   ]
  },
  {
   "cell_type": "code",
   "execution_count": 7,
   "id": "b66233c7",
   "metadata": {},
   "outputs": [],
   "source": [
    "b0015_sequence = 'ccaggcatcaaataaaacgaaaggctcagtcgaaagactgggcctttcgttttatctgttgtttgtcggtgaacgctctctactagagtcacactggctcaccttcgggtgggcctttctgcgtttata'\n",
    "b0015, _ = doc.add(terminator('B0015', sequence=b0015_sequence, name='double terminator'))"
   ]
  },
  {
   "cell_type": "markdown",
   "id": "57531d99",
   "metadata": {},
   "source": [
    "Now construct the part-subpart hierarchy and order the parts: RBS before CDS, CDS before terminator"
   ]
  },
  {
   "cell_type": "code",
   "execution_count": 8,
   "id": "3c8fc562",
   "metadata": {},
   "outputs": [
    {
     "data": {
      "text/plain": [
       "<sbol3.subcomponent.SubComponent at 0x2aca0eb3710>"
      ]
     },
     "execution_count": 8,
     "metadata": {},
     "output_type": "execute_result"
    }
   ],
   "source": [
    "order(b0034, e0040, i13504)\n",
    "order(e0040, b0015, i13504)"
   ]
  },
  {
   "cell_type": "markdown",
   "id": "72f5e3c3",
   "metadata": {},
   "source": [
    "Now we have a document with objects for our device and its parts, which are listed as subcomponents of that device. We also have constraints that say the RBS goes before the CDS, and the CDS goes before the Terminator.\n",
    "\n",
    "However, we still can't get the entire sequence from the device object alone:"
   ]
  },
  {
   "cell_type": "code",
   "execution_count": 9,
   "id": "3a1bac21",
   "metadata": {},
   "outputs": [
    {
     "data": {
      "text/plain": [
       "[]"
      ]
     },
     "execution_count": 9,
     "metadata": {},
     "output_type": "execute_result"
    }
   ],
   "source": [
    "i13504.sequences"
   ]
  },
  {
   "cell_type": "markdown",
   "id": "b5d5c982",
   "metadata": {},
   "source": [
    "## 5 - Add SubComponent locations\n",
    "\n",
    "Here we add base coordinates to SubComponents:\n",
    "\n",
    "![SubC coordinates](iwbda_minimal_noslides-3.png)\n",
    "\n",
    "But first, use `compute_sequence` to get the full sequence for the BBa_I13504 device\n",
    "\n",
    "See http://parts.igem.org/Part:BBa_I13504"
   ]
  },
  {
   "cell_type": "code",
   "execution_count": 10,
   "id": "c01af3af",
   "metadata": {},
   "outputs": [],
   "source": [
    "i13504_seq = compute_sequence(i13504)"
   ]
  },
  {
   "cell_type": "code",
   "execution_count": 11,
   "id": "bb32ff71",
   "metadata": {},
   "outputs": [
    {
     "data": {
      "text/plain": [
       "'aaagaggagaaaatgcgtaaaggagaagaacttttcactggagttgtcccaattcttgttgaattagatggtgatgttaatgggcacaaattttctgtcagtggagagggtgaaggtgatgcaacatacggaaaacttacccttaaatttatttgcactactggaaaactacctgttccatggccaacacttgtcactactttcggttatggtgttcaatgctttgcgagatacccagatcatatgaaacagcatgactttttcaagagtgccatgcccgaaggttatgtacaggaaagaactatatttttcaaagatgacgggaactacaagacacgtgctgaagtcaagtttgaaggtgatacccttgttaatagaatcgagttaaaaggtattgattttaaagaagatggaaacattcttggacacaaattggaatacaactataactcacacaatgtatacatcatggcagacaaacaaaagaatggaatcaaagttaacttcaaaattagacacaacattgaagatggaagcgttcaactagcagaccattatcaacaaaatactccaattggcgatggccctgtccttttaccagacaaccattacctgtccacacaatctgccctttcgaaagatcccaacgaaaagagagaccacatggtccttcttgagtttgtaacagctgctgggattacacatggcatggatgaactatacaaataataaccaggcatcaaataaaacgaaaggctcagtcgaaagactgggcctttcgttttatctgttgtttgtcggtgaacgctctctactagagtcacactggctcaccttcgggtgggcctttctgcgtttata'"
      ]
     },
     "execution_count": 11,
     "metadata": {},
     "output_type": "execute_result"
    }
   ],
   "source": [
    "i13504_seq.elements"
   ]
  },
  {
   "cell_type": "markdown",
   "id": "97f418f8",
   "metadata": {},
   "source": [
    "`compute_sequence` added `Range`s to the subcomponents. Let's inspect our objects and check one of those ranges to see that the values are what we expect.\n",
    "\n",
    "The expected range of the terminator is (733, 861)."
   ]
  },
  {
   "cell_type": "code",
   "execution_count": 12,
   "id": "78cbb7eb",
   "metadata": {},
   "outputs": [
    {
     "name": "stdout",
     "output_type": "stream",
     "text": [
      "https://synbiohub.org/public/igem/B0034\n",
      "https://synbiohub.org/public/igem/E0040\n",
      "https://synbiohub.org/public/igem/B0015\n"
     ]
    }
   ],
   "source": [
    "for feature in i13504.features:\n",
    "    print(feature.instance_of)"
   ]
  },
  {
   "cell_type": "code",
   "execution_count": 13,
   "id": "e1b92ff0",
   "metadata": {},
   "outputs": [
    {
     "data": {
      "text/plain": [
       "[<sbol3.location.Range object at 0x000002ACA0EC9050>]"
      ]
     },
     "execution_count": 13,
     "metadata": {},
     "output_type": "execute_result"
    }
   ],
   "source": [
    "i13504.features[2].locations"
   ]
  },
  {
   "cell_type": "code",
   "execution_count": 14,
   "id": "e4853d5c",
   "metadata": {},
   "outputs": [
    {
     "name": "stdout",
     "output_type": "stream",
     "text": [
      "Range of double terminator: (733, 861)\n"
     ]
    }
   ],
   "source": [
    "b0015_range = i13504.features[2].locations[0]\n",
    "print(f'Range of {b0015.display_name}: ({b0015_range.start}, {b0015_range.end})')"
   ]
  }
 ],
 "metadata": {
  "kernelspec": {
   "display_name": "Python 3 (ipykernel)",
   "language": "python",
   "name": "python3"
  },
  "language_info": {
   "codemirror_mode": {
    "name": "ipython",
    "version": 3
   },
   "file_extension": ".py",
   "mimetype": "text/x-python",
   "name": "python",
   "nbconvert_exporter": "python",
   "pygments_lexer": "ipython3",
   "version": "3.11.3"
  }
 },
 "nbformat": 4,
 "nbformat_minor": 5
}
